{
 "cells": [
  {
   "cell_type": "code",
   "execution_count": 62,
   "metadata": {},
   "outputs": [],
   "source": [
    "import re\n",
    "import pandas as pd\n",
    "import nltk\n",
    "from sklearn.feature_extraction.text import CountVectorizer\n",
    "from sklearn.naive_bayes import MultinomialNB\n",
    "from sklearn import metrics\n",
    "from sklearn.model_selection import cross_val_predict\n"
   ]
  },
  {
   "cell_type": "code",
   "execution_count": 63,
   "metadata": {},
   "outputs": [],
   "source": [
    "datados = pd.read_csv('C:/Users/NB/Desktop/BCK/data_comentarios_intervencao.csv', delimiter = ',', encoding='utf-8')"
   ]
  },
  {
   "cell_type": "code",
   "execution_count": 64,
   "metadata": {},
   "outputs": [],
   "source": [
    "datados.dropna(inplace=True)"
   ]
  },
  {
   "cell_type": "code",
   "execution_count": 65,
   "metadata": {},
   "outputs": [
    {
     "data": {
      "text/html": [
       "<div>\n",
       "<style scoped>\n",
       "    .dataframe tbody tr th:only-of-type {\n",
       "        vertical-align: middle;\n",
       "    }\n",
       "\n",
       "    .dataframe tbody tr th {\n",
       "        vertical-align: top;\n",
       "    }\n",
       "\n",
       "    .dataframe thead th {\n",
       "        text-align: right;\n",
       "    }\n",
       "</style>\n",
       "<table border=\"1\" class=\"dataframe\">\n",
       "  <thead>\n",
       "    <tr style=\"text-align: right;\">\n",
       "      <th></th>\n",
       "      <th>Query1.documents.score</th>\n",
       "      <th>comment_message</th>\n",
       "      <th>Rank</th>\n",
       "    </tr>\n",
       "  </thead>\n",
       "  <tbody>\n",
       "    <tr>\n",
       "      <th>1</th>\n",
       "      <td>0.000002</td>\n",
       "      <td>Verdade 😕</td>\n",
       "      <td>Negativo</td>\n",
       "    </tr>\n",
       "    <tr>\n",
       "      <th>2</th>\n",
       "      <td>0.000173</td>\n",
       "      <td>#sgtcazuca 😢😢😢</td>\n",
       "      <td>Negativo</td>\n",
       "    </tr>\n",
       "    <tr>\n",
       "      <th>3</th>\n",
       "      <td>0.008414</td>\n",
       "      <td>Oque me ESPANTA É GENERAL ACEITAR SER MASSA DE...</td>\n",
       "      <td>Negativo</td>\n",
       "    </tr>\n",
       "    <tr>\n",
       "      <th>4</th>\n",
       "      <td>0.009896</td>\n",
       "      <td>#Bolsonaro2018.!! #Melhor Jair se acostumado.!...</td>\n",
       "      <td>Negativo</td>\n",
       "    </tr>\n",
       "    <tr>\n",
       "      <th>5</th>\n",
       "      <td>0.062929</td>\n",
       "      <td>Tradução tem que haver declaração de guerra co...</td>\n",
       "      <td>Negativo</td>\n",
       "    </tr>\n",
       "    <tr>\n",
       "      <th>6</th>\n",
       "      <td>0.065811</td>\n",
       "      <td>TUDO SOB CONTROLE.</td>\n",
       "      <td>Negativo</td>\n",
       "    </tr>\n",
       "    <tr>\n",
       "      <th>7</th>\n",
       "      <td>0.068777</td>\n",
       "      <td>Minha mae tnha mas foi afetada tão tarde que u...</td>\n",
       "      <td>Negativo</td>\n",
       "    </tr>\n",
       "    <tr>\n",
       "      <th>8</th>\n",
       "      <td>0.103467</td>\n",
       "      <td>ESSA INTERVENÇÃO É PARA ENGANAR OS BRASILEIROS...</td>\n",
       "      <td>Negativo</td>\n",
       "    </tr>\n",
       "    <tr>\n",
       "      <th>9</th>\n",
       "      <td>0.106093</td>\n",
       "      <td>Acabem com as agências reguladoras. Deixem os ...</td>\n",
       "      <td>Negativo</td>\n",
       "    </tr>\n",
       "    <tr>\n",
       "      <th>10</th>\n",
       "      <td>0.122200</td>\n",
       "      <td>Rafael Orleans será seu vice! O novo vai gover...</td>\n",
       "      <td>Negativo</td>\n",
       "    </tr>\n",
       "    <tr>\n",
       "      <th>11</th>\n",
       "      <td>0.128123</td>\n",
       "      <td>https://m.facebook.com/events/400375787059605?...</td>\n",
       "      <td>Negativo</td>\n",
       "    </tr>\n",
       "    <tr>\n",
       "      <th>12</th>\n",
       "      <td>0.134652</td>\n",
       "      <td>Reforma do Código Penal e do CPP urgente.</td>\n",
       "      <td>Negativo</td>\n",
       "    </tr>\n",
       "    <tr>\n",
       "      <th>13</th>\n",
       "      <td>0.140317</td>\n",
       "      <td>Uma intervenção inseticida, que só serve para ...</td>\n",
       "      <td>Negativo</td>\n",
       "    </tr>\n",
       "    <tr>\n",
       "      <th>14</th>\n",
       "      <td>0.140680</td>\n",
       "      <td>Cadeia para os militares que fizer isso. Uai</td>\n",
       "      <td>Negativo</td>\n",
       "    </tr>\n",
       "    <tr>\n",
       "      <th>15</th>\n",
       "      <td>0.145622</td>\n",
       "      <td>Só acho que se eliminasse os chefes que estão ...</td>\n",
       "      <td>Negativo</td>\n",
       "    </tr>\n",
       "    <tr>\n",
       "      <th>16</th>\n",
       "      <td>0.159978</td>\n",
       "      <td>Tem que ter intervenção militar no país todo.....</td>\n",
       "      <td>Negativo</td>\n",
       "    </tr>\n",
       "    <tr>\n",
       "      <th>17</th>\n",
       "      <td>0.161127</td>\n",
       "      <td>Temos que virar as costa igual os político faz...</td>\n",
       "      <td>Negativo</td>\n",
       "    </tr>\n",
       "    <tr>\n",
       "      <th>18</th>\n",
       "      <td>0.162470</td>\n",
       "      <td>Concordo com voce Bolsonaro...Um caso agora em...</td>\n",
       "      <td>Negativo</td>\n",
       "    </tr>\n",
       "    <tr>\n",
       "      <th>19</th>\n",
       "      <td>0.165169</td>\n",
       "      <td>Joao Arcanjo  O vice tem q  comungar  das  mes...</td>\n",
       "      <td>Negativo</td>\n",
       "    </tr>\n",
       "    <tr>\n",
       "      <th>20</th>\n",
       "      <td>0.171292</td>\n",
       "      <td>Não é o Rio de Janeiro que está dominado pelo ...</td>\n",
       "      <td>Negativo</td>\n",
       "    </tr>\n",
       "    <tr>\n",
       "      <th>21</th>\n",
       "      <td>0.171694</td>\n",
       "      <td>correto meu futuro presidente, na verdade boss...</td>\n",
       "      <td>Negativo</td>\n",
       "    </tr>\n",
       "    <tr>\n",
       "      <th>22</th>\n",
       "      <td>0.172124</td>\n",
       "      <td>Que eu saiba isso é crime né não? Não podemos ...</td>\n",
       "      <td>Negativo</td>\n",
       "    </tr>\n",
       "    <tr>\n",
       "      <th>23</th>\n",
       "      <td>0.173243</td>\n",
       "      <td>Do feito que está não dá para continuar. Temos...</td>\n",
       "      <td>Negativo</td>\n",
       "    </tr>\n",
       "    <tr>\n",
       "      <th>24</th>\n",
       "      <td>0.185654</td>\n",
       "      <td>Pensando agora quem será teu vice Bolsonaro? S...</td>\n",
       "      <td>Negativo</td>\n",
       "    </tr>\n",
       "    <tr>\n",
       "      <th>25</th>\n",
       "      <td>0.191475</td>\n",
       "      <td>Só esperamos que nessa intervenção os soldados...</td>\n",
       "      <td>Negativo</td>\n",
       "    </tr>\n",
       "    <tr>\n",
       "      <th>26</th>\n",
       "      <td>0.194182</td>\n",
       "      <td>Na minha opinião, tinha que ser colocado SNIPE...</td>\n",
       "      <td>Negativo</td>\n",
       "    </tr>\n",
       "    <tr>\n",
       "      <th>27</th>\n",
       "      <td>0.196635</td>\n",
       "      <td>Rennan Russi, porque os comunistas que defende...</td>\n",
       "      <td>Negativo</td>\n",
       "    </tr>\n",
       "    <tr>\n",
       "      <th>28</th>\n",
       "      <td>0.198617</td>\n",
       "      <td>Que parada ALK! CAZUXA KKK</td>\n",
       "      <td>Negativo</td>\n",
       "    </tr>\n",
       "    <tr>\n",
       "      <th>29</th>\n",
       "      <td>0.198810</td>\n",
       "      <td>Me fala algo diferente , como, baixar drastica...</td>\n",
       "      <td>Negativo</td>\n",
       "    </tr>\n",
       "    <tr>\n",
       "      <th>30</th>\n",
       "      <td>0.205341</td>\n",
       "      <td>As forças armadas virou manobra política!</td>\n",
       "      <td>Negativo</td>\n",
       "    </tr>\n",
       "    <tr>\n",
       "      <th>...</th>\n",
       "      <td>...</td>\n",
       "      <td>...</td>\n",
       "      <td>...</td>\n",
       "    </tr>\n",
       "    <tr>\n",
       "      <th>1709</th>\n",
       "      <td>0.996677</td>\n",
       "      <td>Kkkkkkkkk  Melhor comentário forever. ❤</td>\n",
       "      <td>Positivo</td>\n",
       "    </tr>\n",
       "    <tr>\n",
       "      <th>1710</th>\n",
       "      <td>0.997492</td>\n",
       "      <td>Meu presidente!!!😎</td>\n",
       "      <td>Positivo</td>\n",
       "    </tr>\n",
       "    <tr>\n",
       "      <th>1711</th>\n",
       "      <td>0.997588</td>\n",
       "      <td>Kkkkk o Sr a esquerda do vídeo bem tirando um ...</td>\n",
       "      <td>Positivo</td>\n",
       "    </tr>\n",
       "    <tr>\n",
       "      <th>1712</th>\n",
       "      <td>0.998310</td>\n",
       "      <td>Meu discurso o Temer não vai roubar não kkkk  ...</td>\n",
       "      <td>Positivo</td>\n",
       "    </tr>\n",
       "    <tr>\n",
       "      <th>1713</th>\n",
       "      <td>0.998514</td>\n",
       "      <td>Enqto há vida há esperança 🤔🤔se há chances de ...</td>\n",
       "      <td>Positivo</td>\n",
       "    </tr>\n",
       "    <tr>\n",
       "      <th>1714</th>\n",
       "      <td>0.999359</td>\n",
       "      <td>Primeiro a serem eliminados era esse bando de ...</td>\n",
       "      <td>Positivo</td>\n",
       "    </tr>\n",
       "    <tr>\n",
       "      <th>1715</th>\n",
       "      <td>0.999498</td>\n",
       "      <td>COMO VOCÊ EXPLICOU ESSA AÇÃO NÃO VAI RESOLVER ...</td>\n",
       "      <td>Positivo</td>\n",
       "    </tr>\n",
       "    <tr>\n",
       "      <th>1716</th>\n",
       "      <td>0.999560</td>\n",
       "      <td>A pessoa quando Pensa...*PEIDA* Quando fala só...</td>\n",
       "      <td>Positivo</td>\n",
       "    </tr>\n",
       "    <tr>\n",
       "      <th>1717</th>\n",
       "      <td>0.999576</td>\n",
       "      <td>Meu presidente 👍</td>\n",
       "      <td>Positivo</td>\n",
       "    </tr>\n",
       "    <tr>\n",
       "      <th>1718</th>\n",
       "      <td>0.999576</td>\n",
       "      <td>MEU PRESIDENTE😁🖒</td>\n",
       "      <td>Positivo</td>\n",
       "    </tr>\n",
       "    <tr>\n",
       "      <th>1719</th>\n",
       "      <td>0.999661</td>\n",
       "      <td>É meu presidente!😍😍😍 Deus lhe proteja</td>\n",
       "      <td>Positivo</td>\n",
       "    </tr>\n",
       "    <tr>\n",
       "      <th>1720</th>\n",
       "      <td>0.999776</td>\n",
       "      <td>Esses tal de direitos humanos é só pra roubar ...</td>\n",
       "      <td>Positivo</td>\n",
       "    </tr>\n",
       "    <tr>\n",
       "      <th>1721</th>\n",
       "      <td>0.999824</td>\n",
       "      <td>Vamos la MITO 😎😎✌✌</td>\n",
       "      <td>Positivo</td>\n",
       "    </tr>\n",
       "    <tr>\n",
       "      <th>1722</th>\n",
       "      <td>0.999855</td>\n",
       "      <td>operações militares não deve permitir o acesso...</td>\n",
       "      <td>Positivo</td>\n",
       "    </tr>\n",
       "    <tr>\n",
       "      <th>1723</th>\n",
       "      <td>0.999858</td>\n",
       "      <td>Bom dia Bolsonaro 💗</td>\n",
       "      <td>Positivo</td>\n",
       "    </tr>\n",
       "    <tr>\n",
       "      <th>1724</th>\n",
       "      <td>0.999869</td>\n",
       "      <td>Só digo uma coisa: #BolsonaroPresidente 😎😁</td>\n",
       "      <td>Positivo</td>\n",
       "    </tr>\n",
       "    <tr>\n",
       "      <th>1725</th>\n",
       "      <td>0.999893</td>\n",
       "      <td>Esse cara e um porco em pessoa.😎😎</td>\n",
       "      <td>Positivo</td>\n",
       "    </tr>\n",
       "    <tr>\n",
       "      <th>1726</th>\n",
       "      <td>0.999913</td>\n",
       "      <td>BOLSOMITO NELES 2018 ! 😎😎😎😎😎😎😎😎😎😎</td>\n",
       "      <td>Positivo</td>\n",
       "    </tr>\n",
       "    <tr>\n",
       "      <th>1727</th>\n",
       "      <td>0.999946</td>\n",
       "      <td>Para Uso Medicinal Apoiado👍</td>\n",
       "      <td>Positivo</td>\n",
       "    </tr>\n",
       "    <tr>\n",
       "      <th>1728</th>\n",
       "      <td>0.999968</td>\n",
       "      <td>Meu presidente 😍😍</td>\n",
       "      <td>Positivo</td>\n",
       "    </tr>\n",
       "    <tr>\n",
       "      <th>1729</th>\n",
       "      <td>0.999974</td>\n",
       "      <td>✌😎</td>\n",
       "      <td>Positivo</td>\n",
       "    </tr>\n",
       "    <tr>\n",
       "      <th>1730</th>\n",
       "      <td>0.999974</td>\n",
       "      <td>👍</td>\n",
       "      <td>Positivo</td>\n",
       "    </tr>\n",
       "    <tr>\n",
       "      <th>1731</th>\n",
       "      <td>0.999974</td>\n",
       "      <td>😉</td>\n",
       "      <td>Positivo</td>\n",
       "    </tr>\n",
       "    <tr>\n",
       "      <th>1732</th>\n",
       "      <td>0.999974</td>\n",
       "      <td>Bolsonaro presidente....👍👍👍👍</td>\n",
       "      <td>Positivo</td>\n",
       "    </tr>\n",
       "    <tr>\n",
       "      <th>1733</th>\n",
       "      <td>0.999975</td>\n",
       "      <td>Bolsonaro presidente 🙏</td>\n",
       "      <td>Positivo</td>\n",
       "    </tr>\n",
       "    <tr>\n",
       "      <th>1734</th>\n",
       "      <td>0.999995</td>\n",
       "      <td>🙏🙏</td>\n",
       "      <td>Positivo</td>\n",
       "    </tr>\n",
       "    <tr>\n",
       "      <th>1735</th>\n",
       "      <td>0.999995</td>\n",
       "      <td>Daqui alguns meses e bolsonoaro nas urnas 😍😍😍✌...</td>\n",
       "      <td>Positivo</td>\n",
       "    </tr>\n",
       "    <tr>\n",
       "      <th>1736</th>\n",
       "      <td>0.999995</td>\n",
       "      <td>🇧🇷🇧🇷🇧🇷🙏🙏🙏</td>\n",
       "      <td>Positivo</td>\n",
       "    </tr>\n",
       "    <tr>\n",
       "      <th>1737</th>\n",
       "      <td>0.999999</td>\n",
       "      <td>Intervenção militar já😊😊</td>\n",
       "      <td>Positivo</td>\n",
       "    </tr>\n",
       "    <tr>\n",
       "      <th>1738</th>\n",
       "      <td>1.000000</td>\n",
       "      <td>Bolsonaro 😍</td>\n",
       "      <td>Positivo</td>\n",
       "    </tr>\n",
       "  </tbody>\n",
       "</table>\n",
       "<p>1738 rows × 3 columns</p>\n",
       "</div>"
      ],
      "text/plain": [
       "      Query1.documents.score  \\\n",
       "1                   0.000002   \n",
       "2                   0.000173   \n",
       "3                   0.008414   \n",
       "4                   0.009896   \n",
       "5                   0.062929   \n",
       "6                   0.065811   \n",
       "7                   0.068777   \n",
       "8                   0.103467   \n",
       "9                   0.106093   \n",
       "10                  0.122200   \n",
       "11                  0.128123   \n",
       "12                  0.134652   \n",
       "13                  0.140317   \n",
       "14                  0.140680   \n",
       "15                  0.145622   \n",
       "16                  0.159978   \n",
       "17                  0.161127   \n",
       "18                  0.162470   \n",
       "19                  0.165169   \n",
       "20                  0.171292   \n",
       "21                  0.171694   \n",
       "22                  0.172124   \n",
       "23                  0.173243   \n",
       "24                  0.185654   \n",
       "25                  0.191475   \n",
       "26                  0.194182   \n",
       "27                  0.196635   \n",
       "28                  0.198617   \n",
       "29                  0.198810   \n",
       "30                  0.205341   \n",
       "...                      ...   \n",
       "1709                0.996677   \n",
       "1710                0.997492   \n",
       "1711                0.997588   \n",
       "1712                0.998310   \n",
       "1713                0.998514   \n",
       "1714                0.999359   \n",
       "1715                0.999498   \n",
       "1716                0.999560   \n",
       "1717                0.999576   \n",
       "1718                0.999576   \n",
       "1719                0.999661   \n",
       "1720                0.999776   \n",
       "1721                0.999824   \n",
       "1722                0.999855   \n",
       "1723                0.999858   \n",
       "1724                0.999869   \n",
       "1725                0.999893   \n",
       "1726                0.999913   \n",
       "1727                0.999946   \n",
       "1728                0.999968   \n",
       "1729                0.999974   \n",
       "1730                0.999974   \n",
       "1731                0.999974   \n",
       "1732                0.999974   \n",
       "1733                0.999975   \n",
       "1734                0.999995   \n",
       "1735                0.999995   \n",
       "1736                0.999995   \n",
       "1737                0.999999   \n",
       "1738                1.000000   \n",
       "\n",
       "                                        comment_message      Rank  \n",
       "1                                             Verdade 😕  Negativo  \n",
       "2                                        #sgtcazuca 😢😢😢  Negativo  \n",
       "3     Oque me ESPANTA É GENERAL ACEITAR SER MASSA DE...  Negativo  \n",
       "4     #Bolsonaro2018.!! #Melhor Jair se acostumado.!...  Negativo  \n",
       "5     Tradução tem que haver declaração de guerra co...  Negativo  \n",
       "6                                    TUDO SOB CONTROLE.  Negativo  \n",
       "7     Minha mae tnha mas foi afetada tão tarde que u...  Negativo  \n",
       "8     ESSA INTERVENÇÃO É PARA ENGANAR OS BRASILEIROS...  Negativo  \n",
       "9     Acabem com as agências reguladoras. Deixem os ...  Negativo  \n",
       "10    Rafael Orleans será seu vice! O novo vai gover...  Negativo  \n",
       "11    https://m.facebook.com/events/400375787059605?...  Negativo  \n",
       "12            Reforma do Código Penal e do CPP urgente.  Negativo  \n",
       "13    Uma intervenção inseticida, que só serve para ...  Negativo  \n",
       "14         Cadeia para os militares que fizer isso. Uai  Negativo  \n",
       "15    Só acho que se eliminasse os chefes que estão ...  Negativo  \n",
       "16    Tem que ter intervenção militar no país todo.....  Negativo  \n",
       "17    Temos que virar as costa igual os político faz...  Negativo  \n",
       "18    Concordo com voce Bolsonaro...Um caso agora em...  Negativo  \n",
       "19    Joao Arcanjo  O vice tem q  comungar  das  mes...  Negativo  \n",
       "20    Não é o Rio de Janeiro que está dominado pelo ...  Negativo  \n",
       "21    correto meu futuro presidente, na verdade boss...  Negativo  \n",
       "22    Que eu saiba isso é crime né não? Não podemos ...  Negativo  \n",
       "23    Do feito que está não dá para continuar. Temos...  Negativo  \n",
       "24    Pensando agora quem será teu vice Bolsonaro? S...  Negativo  \n",
       "25    Só esperamos que nessa intervenção os soldados...  Negativo  \n",
       "26    Na minha opinião, tinha que ser colocado SNIPE...  Negativo  \n",
       "27    Rennan Russi, porque os comunistas que defende...  Negativo  \n",
       "28                           Que parada ALK! CAZUXA KKK  Negativo  \n",
       "29    Me fala algo diferente , como, baixar drastica...  Negativo  \n",
       "30            As forças armadas virou manobra política!  Negativo  \n",
       "...                                                 ...       ...  \n",
       "1709            Kkkkkkkkk  Melhor comentário forever. ❤  Positivo  \n",
       "1710                                 Meu presidente!!!😎  Positivo  \n",
       "1711  Kkkkk o Sr a esquerda do vídeo bem tirando um ...  Positivo  \n",
       "1712  Meu discurso o Temer não vai roubar não kkkk  ...  Positivo  \n",
       "1713  Enqto há vida há esperança 🤔🤔se há chances de ...  Positivo  \n",
       "1714  Primeiro a serem eliminados era esse bando de ...  Positivo  \n",
       "1715  COMO VOCÊ EXPLICOU ESSA AÇÃO NÃO VAI RESOLVER ...  Positivo  \n",
       "1716  A pessoa quando Pensa...*PEIDA* Quando fala só...  Positivo  \n",
       "1717                                   Meu presidente 👍  Positivo  \n",
       "1718                                   MEU PRESIDENTE😁🖒  Positivo  \n",
       "1719              É meu presidente!😍😍😍 Deus lhe proteja  Positivo  \n",
       "1720  Esses tal de direitos humanos é só pra roubar ...  Positivo  \n",
       "1721                                 Vamos la MITO 😎😎✌✌  Positivo  \n",
       "1722  operações militares não deve permitir o acesso...  Positivo  \n",
       "1723                                Bom dia Bolsonaro 💗  Positivo  \n",
       "1724         Só digo uma coisa: #BolsonaroPresidente 😎😁  Positivo  \n",
       "1725                  Esse cara e um porco em pessoa.😎😎  Positivo  \n",
       "1726                  BOLSOMITO NELES 2018 ! 😎😎😎😎😎😎😎😎😎😎  Positivo  \n",
       "1727                        Para Uso Medicinal Apoiado👍  Positivo  \n",
       "1728                                  Meu presidente 😍😍  Positivo  \n",
       "1729                                                 ✌😎  Positivo  \n",
       "1730                                                  👍  Positivo  \n",
       "1731                                                  😉  Positivo  \n",
       "1732                       Bolsonaro presidente....👍👍👍👍  Positivo  \n",
       "1733                             Bolsonaro presidente 🙏  Positivo  \n",
       "1734                                                 🙏🙏  Positivo  \n",
       "1735  Daqui alguns meses e bolsonoaro nas urnas 😍😍😍✌...  Positivo  \n",
       "1736                                          🇧🇷🇧🇷🇧🇷🙏🙏🙏  Positivo  \n",
       "1737                           Intervenção militar já😊😊  Positivo  \n",
       "1738                                        Bolsonaro 😍  Positivo  \n",
       "\n",
       "[1738 rows x 3 columns]"
      ]
     },
     "execution_count": 65,
     "metadata": {},
     "output_type": "execute_result"
    }
   ],
   "source": [
    "datados"
   ]
  },
  {
   "cell_type": "code",
   "execution_count": 66,
   "metadata": {},
   "outputs": [],
   "source": [
    "texto = datados['comment_message'].values\n",
    "classificacao = datados['Rank'].values"
   ]
  },
  {
   "cell_type": "code",
   "execution_count": 67,
   "metadata": {},
   "outputs": [
    {
     "data": {
      "text/plain": [
       "MultinomialNB(alpha=1.0, class_prior=None, fit_prior=True)"
      ]
     },
     "execution_count": 67,
     "metadata": {},
     "output_type": "execute_result"
    }
   ],
   "source": [
    "vectorizer = CountVectorizer(analyzer=\"word\")\n",
    "freq_texto = vectorizer.fit_transform(texto)\n",
    "modelo = MultinomialNB()\n",
    "modelo.fit(freq_texto,classificacao)"
   ]
  },
  {
   "cell_type": "code",
   "execution_count": 68,
   "metadata": {},
   "outputs": [],
   "source": [
    "testes = ['Lixo',\n",
    "         'Temer',\n",
    "         'Lula',\n",
    "         'Brasil',\n",
    "         'PT']"
   ]
  },
  {
   "cell_type": "code",
   "execution_count": 69,
   "metadata": {},
   "outputs": [
    {
     "data": {
      "text/plain": [
       "array(['Neutro', 'Neutro', 'Neutro', 'Neutro', 'Neutro'], dtype='<U8')"
      ]
     },
     "execution_count": 69,
     "metadata": {},
     "output_type": "execute_result"
    }
   ],
   "source": [
    "freq_testes = vectorizer.transform(testes)\n",
    "modelo.predict(freq_testes)"
   ]
  },
  {
   "cell_type": "code",
   "execution_count": 70,
   "metadata": {},
   "outputs": [],
   "source": [
    "resultados = cross_val_predict(modelo, freq_texto, classificacao, cv=10)"
   ]
  },
  {
   "cell_type": "code",
   "execution_count": 71,
   "metadata": {},
   "outputs": [
    {
     "data": {
      "text/plain": [
       "array(['Neutro', 'Positivo', 'Negativo', ..., 'Neutro', 'Neutro',\n",
       "       'Neutro'], dtype='<U8')"
      ]
     },
     "execution_count": 71,
     "metadata": {},
     "output_type": "execute_result"
    }
   ],
   "source": [
    "resultados"
   ]
  },
  {
   "cell_type": "code",
   "execution_count": 72,
   "metadata": {},
   "outputs": [
    {
     "data": {
      "text/plain": [
       "0.5667433831990794"
      ]
     },
     "execution_count": 72,
     "metadata": {},
     "output_type": "execute_result"
    }
   ],
   "source": [
    "metrics.accuracy_score(classificacao,resultados)\n"
   ]
  },
  {
   "cell_type": "code",
   "execution_count": 73,
   "metadata": {},
   "outputs": [
    {
     "data": {
      "text/plain": [
       "MultinomialNB(alpha=1.0, class_prior=None, fit_prior=True)"
      ]
     },
     "execution_count": 73,
     "metadata": {},
     "output_type": "execute_result"
    }
   ],
   "source": [
    "vectorizer = CountVectorizer(ngram_range=(1,2))\n",
    "freq_tweets = vectorizer.fit_transform(texto)\n",
    "modelo = MultinomialNB()\n",
    "modelo.fit(freq_texto,classificacao)"
   ]
  },
  {
   "cell_type": "code",
   "execution_count": 74,
   "metadata": {},
   "outputs": [
    {
     "data": {
      "text/plain": [
       "0.5667433831990794"
      ]
     },
     "execution_count": 74,
     "metadata": {},
     "output_type": "execute_result"
    }
   ],
   "source": [
    "resultados = cross_val_predict(modelo, freq_texto, classificacao, cv=10)\n",
    "metrics.accuracy_score(classificacao,resultados)"
   ]
  },
  {
   "cell_type": "code",
   "execution_count": 75,
   "metadata": {},
   "outputs": [
    {
     "name": "stdout",
     "output_type": "stream",
     "text": [
      "             precision    recall  f1-score   support\n",
      "\n",
      "   Positivo       0.54      0.47      0.50       624\n",
      "   Negativo       0.32      0.05      0.09       185\n",
      "     Neutro       0.59      0.73      0.65       929\n",
      "\n",
      "avg / total       0.54      0.57      0.54      1738\n",
      "\n"
     ]
    }
   ],
   "source": [
    "sentimento=['Positivo','Negativo','Neutro']\n",
    "print (metrics.classification_report(classificacao,resultados,sentimento))"
   ]
  },
  {
   "cell_type": "code",
   "execution_count": 76,
   "metadata": {},
   "outputs": [
    {
     "name": "stdout",
     "output_type": "stream",
     "text": [
      "Predito   Negativo  Neutro  Positivo   All\n",
      "Real                                      \n",
      "Negativo        10     156        19   185\n",
      "Neutro          15     682       232   929\n",
      "Positivo         6     325       293   624\n",
      "All             31    1163       544  1738\n"
     ]
    }
   ],
   "source": [
    "print (pd.crosstab(classificacao, resultados, rownames=['Real'], colnames=['Predito'], margins=True))\n"
   ]
  },
  {
   "cell_type": "code",
   "execution_count": 77,
   "metadata": {},
   "outputs": [],
   "source": [
    "from nltk.corpus import sentiwordnet as swn\n"
   ]
  },
  {
   "cell_type": "code",
   "execution_count": null,
   "metadata": {},
   "outputs": [],
   "source": []
  },
  {
   "cell_type": "code",
   "execution_count": 78,
   "metadata": {},
   "outputs": [
    {
     "name": "stdout",
     "output_type": "stream",
     "text": [
      "[nltk_data] Downloading package sentiwordnet to\n",
      "[nltk_data]     C:\\Users\\NB\\AppData\\Roaming\\nltk_data...\n",
      "[nltk_data]   Package sentiwordnet is already up-to-date!\n"
     ]
    },
    {
     "data": {
      "text/plain": [
       "True"
      ]
     },
     "execution_count": 78,
     "metadata": {},
     "output_type": "execute_result"
    }
   ],
   "source": [
    "nltk.download('sentiwordnet')"
   ]
  },
  {
   "cell_type": "code",
   "execution_count": null,
   "metadata": {},
   "outputs": [],
   "source": []
  },
  {
   "cell_type": "code",
   "execution_count": 79,
   "metadata": {},
   "outputs": [],
   "source": [
    "comentario = datados['comment_message']\n",
    "rank = datados['Rank']\n",
    "\n",
    "base = list(zip(comentario, rank))"
   ]
  },
  {
   "cell_type": "code",
   "execution_count": 80,
   "metadata": {},
   "outputs": [
    {
     "name": "stdout",
     "output_type": "stream",
     "text": [
      "[nltk_data] Downloading package wordnet to\n",
      "[nltk_data]     C:\\Users\\NB\\AppData\\Roaming\\nltk_data...\n",
      "[nltk_data]   Package wordnet is already up-to-date!\n"
     ]
    },
    {
     "data": {
      "text/plain": [
       "True"
      ]
     },
     "execution_count": 80,
     "metadata": {},
     "output_type": "execute_result"
    }
   ],
   "source": [
    "nltk.download('wordnet')"
   ]
  },
  {
   "cell_type": "code",
   "execution_count": 83,
   "metadata": {},
   "outputs": [],
   "source": [
    "import tweepy\n",
    "from textblob import TextBlob"
   ]
  },
  {
   "cell_type": "code",
   "execution_count": 84,
   "metadata": {},
   "outputs": [],
   "source": [
    "consumer_key= 'EnELVcesJEGCbCyG3upiNFuMT'\n",
    "consumer_secret= 'nCX6yWVVZIk24NXDSdznpmyGTAFDEirsWHJ9xE0v5UFHPkVBkf'\n",
    "\n",
    "access_token='55943119-cXi7Xl0DDmoxwVcMyrf80v7woheh9YxnNwmAh8YSM'\n",
    "access_token_secret='fOUYMQcyNAO3X2siI4aWCwE8Q9p2ZLdxDh04xmaNgsC8l'\n",
    "\n",
    "auth = tweepy.OAuthHandler(consumer_key, consumer_secret)\n",
    "auth.set_access_token(access_token, access_token_secret)\n",
    "\n",
    "api = tweepy.API(auth)\n"
   ]
  },
  {
   "cell_type": "code",
   "execution_count": 107,
   "metadata": {},
   "outputs": [],
   "source": [
    "public_tweets = api.search('Rodrigo Rollemberg', 100)\n"
   ]
  },
  {
   "cell_type": "code",
   "execution_count": 108,
   "metadata": {},
   "outputs": [],
   "source": [
    "for tweet in public_tweets:\n",
    "    print(tweet.text)\n",
    "    \n",
    "    #Step 4 Perform Sentiment Analysis on Tweets\n",
    "    analysis = TextBlob(tweet.text)\n",
    "    print(analysis.sentiment)\n",
    "    print(\"\")\n",
    "    nova = list(zip(analysis.sentiment, tweet.text))\n",
    "    print(nova)"
   ]
  },
  {
   "cell_type": "code",
   "execution_count": 97,
   "metadata": {},
   "outputs": [],
   "source": [
    "import tweepy\n",
    "from textblob import TextBlob\n",
    "import sys\n",
    "import csv"
   ]
  },
  {
   "cell_type": "code",
   "execution_count": 98,
   "metadata": {},
   "outputs": [],
   "source": [
    "if len(sys.argv) >= 2:\n",
    "    topic = sys.argv[1]\n",
    "else:\n",
    "    print(\"By default topic is Trump.\")\n",
    "    topic = \"Leany Lemos\""
   ]
  },
  {
   "cell_type": "code",
   "execution_count": 99,
   "metadata": {},
   "outputs": [],
   "source": [
    "consumer_key= 'EnELVcesJEGCbCyG3upiNFuMT'\n",
    "consumer_secret= 'nCX6yWVVZIk24NXDSdznpmyGTAFDEirsWHJ9xE0v5UFHPkVBkf'\n",
    "\n",
    "access_token='55943119-cXi7Xl0DDmoxwVcMyrf80v7woheh9YxnNwmAh8YSM'\n",
    "access_token_secret='fOUYMQcyNAO3X2siI4aWCwE8Q9p2ZLdxDh04xmaNgsC8l'\n",
    "\n",
    "auth = tweepy.OAuthHandler(consumer_key, consumer_secret)\n",
    "auth.set_access_token(access_token, access_token_secret)\n",
    "\n",
    "api = tweepy.API(auth)"
   ]
  },
  {
   "cell_type": "code",
   "execution_count": 105,
   "metadata": {},
   "outputs": [],
   "source": [
    "public_tweets = api.search('Leany Lemos', 100)\n"
   ]
  },
  {
   "cell_type": "code",
   "execution_count": 106,
   "metadata": {},
   "outputs": [],
   "source": [
    "with open('sentiment.csv', 'w', newline='\\n') as  f:\n",
    "    writer = csv.DictWriter(f, fieldnames=['Tweet', 'Sentiment'])\n",
    "    writer.writeheader()\n",
    "    for tweet in public_tweets:\n",
    "        text = tweet.text\n",
    "        #Cleaning tweet\n",
    "        cleanedtext = ' '.join([word for word in text.split(' ') if len(word) > 0 and word[0] != '@' and word[0] == '.' and word[0] != '#' and 'http' not in word and word != 'RT'])\n",
    "        analysis = TextBlob(cleanedtext)\n",
    "\n",
    "        sentiment = analysis.sentiment.polarity\n",
    "        if sentiment >= 0:\n",
    "            polarity = 'Positive'\n",
    "        else:\n",
    "            polarity = 'Negative'\n",
    "\n",
    "\n",
    "        writer.writerow({'Tweet':text, 'Sentiment':polarity})"
   ]
  },
  {
   "cell_type": "code",
   "execution_count": 109,
   "metadata": {},
   "outputs": [
    {
     "ename": "ModuleNotFoundError",
     "evalue": "No module named 'twitter'",
     "output_type": "error",
     "traceback": [
      "\u001b[1;31m---------------------------------------------------------------------------\u001b[0m",
      "\u001b[1;31mModuleNotFoundError\u001b[0m                       Traceback (most recent call last)",
      "\u001b[1;32m<ipython-input-109-6d0ae2c37b0e>\u001b[0m in \u001b[0;36m<module>\u001b[1;34m()\u001b[0m\n\u001b[1;32m----> 1\u001b[1;33m \u001b[1;32mfrom\u001b[0m \u001b[0mtwitter\u001b[0m \u001b[1;32mimport\u001b[0m \u001b[1;33m*\u001b[0m\u001b[1;33m\u001b[0m\u001b[0m\n\u001b[0m\u001b[0;32m      2\u001b[0m \u001b[1;32mfrom\u001b[0m \u001b[0mtkinter\u001b[0m \u001b[1;32mimport\u001b[0m \u001b[1;33m*\u001b[0m\u001b[1;33m\u001b[0m\u001b[0m\n\u001b[0;32m      3\u001b[0m \u001b[1;33m\u001b[0m\u001b[0m\n\u001b[0;32m      4\u001b[0m \u001b[1;32mdef\u001b[0m \u001b[0mshowTweets\u001b[0m\u001b[1;33m(\u001b[0m\u001b[0mx\u001b[0m\u001b[1;33m,\u001b[0m \u001b[0mnum\u001b[0m\u001b[1;33m)\u001b[0m\u001b[1;33m:\u001b[0m\u001b[1;33m\u001b[0m\u001b[0m\n\u001b[0;32m      5\u001b[0m     \u001b[1;31m# display a number of new tweets and usernames\u001b[0m\u001b[1;33m\u001b[0m\u001b[1;33m\u001b[0m\u001b[0m\n",
      "\u001b[1;31mModuleNotFoundError\u001b[0m: No module named 'twitter'"
     ]
    }
   ],
   "source": [
    "from twitter import *\n",
    "from tkinter import *\n",
    "\n",
    "def showTweets(x, num):\n",
    "    # display a number of new tweets and usernames\n",
    "    for i in range(0, num):\n",
    "        line1 = (x[i]['user']['screen_name'])\n",
    "        line2 = (x[i]['text'])\n",
    "        w = Label(master, text=line1 + \"\\n\" + line2 + \"\\n\\n\")\n",
    "        w.pack()\n",
    "\n",
    "def getTweets():\n",
    "\n",
    "    x = t.statuses.home_timeline(screen_name=\"putscreennamehere\")\n",
    "    return x\n",
    "\n",
    "\n",
    "def tweet():\n",
    "\n",
    "    global entryWidget\n",
    "\n",
    "    if entryWidget.get().strip() == \"\":\n",
    "        print(\"Empty\")\n",
    "    else:\n",
    "        t.statuses.update(status=entryWidget.get().strip())\n",
    "        entryWidget.delete(0,END)\n",
    "        print(\"working\")\n",
    "\n",
    "\n",
    "# Put in token, token_key, con_secret, con_secret_key\n",
    "t = Twitter(\n",
    "    auth=OAuth('', '',\n",
    "               '', ''))\n",
    "\n",
    "numberOfTweets = 10\n",
    "\n",
    "\n",
    "\n",
    "master = Tk()\n",
    "showTweets(getTweets(), numberOfTweets)\n",
    "\n",
    "master.title(\"Tkinter Entry Widget\")\n",
    "master[\"padx\"] = 40\n",
    "master[\"pady\"] = 20\n",
    "# Create a text frame to hold the text Label and the Entry widget\n",
    "textFrame = Frame(master)\n",
    "#Create a Label in textFrame\n",
    "entryLabel = Label(textFrame)\n",
    "entryLabel[\"text\"] = \"Make a new Tweet:\"\n",
    "entryLabel.pack(side=LEFT)\n",
    "# Create an Entry Widget in textFrame\n",
    "entryWidget = Entry(textFrame)\n",
    "entryWidget[\"width\"] = 50\n",
    "entryWidget.pack(side=LEFT)\n",
    "textFrame.pack()\n",
    "button = Button(master, text=\"Submit\", command=tweet)\n",
    "button.pack()\n",
    "\n",
    "master.mainloop()"
   ]
  },
  {
   "cell_type": "code",
   "execution_count": null,
   "metadata": {},
   "outputs": [],
   "source": []
  }
 ],
 "metadata": {
  "kernelspec": {
   "display_name": "Python 3",
   "language": "python",
   "name": "python3"
  },
  "language_info": {
   "codemirror_mode": {
    "name": "ipython",
    "version": 3
   },
   "file_extension": ".py",
   "mimetype": "text/x-python",
   "name": "python",
   "nbconvert_exporter": "python",
   "pygments_lexer": "ipython3",
   "version": "3.7.3"
  }
 },
 "nbformat": 4,
 "nbformat_minor": 2
}
