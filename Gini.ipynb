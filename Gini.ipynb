{
  "cells": [
    {
      "cell_type": "markdown",
      "metadata": {
        "id": "view-in-github",
        "colab_type": "text"
      },
      "source": [
        "<a href=\"https://colab.research.google.com/github/ferreirabruno7/Text_analyze/blob/master/Gini.ipynb\" target=\"_parent\"><img src=\"https://colab.research.google.com/assets/colab-badge.svg\" alt=\"Open In Colab\"/></a>"
      ]
    },
    {
      "cell_type": "code",
      "execution_count": null,
      "metadata": {
        "colab": {
          "base_uri": "https://localhost:8080/"
        },
        "id": "KhtihpdEzcpt",
        "outputId": "1fac702d-02fa-46b0-c590-a5149b04e830"
      },
      "outputs": [
        {
          "output_type": "stream",
          "name": "stdout",
          "text": [
            "Mounted at /content/drive\n"
          ]
        }
      ],
      "source": [
        "#acessar google drive\n",
        "from google.colab import drive\n",
        "drive.mount('/content/drive', force_remount=True)"
      ]
    },
    {
      "cell_type": "code",
      "execution_count": null,
      "metadata": {
        "id": "aONNXcUG0e8_"
      },
      "outputs": [],
      "source": [
        "import numpy as np\n",
        "import pandas as pd\n"
      ]
    },
    {
      "cell_type": "code",
      "execution_count": null,
      "metadata": {
        "colab": {
          "base_uri": "https://localhost:8080/",
          "height": 270
        },
        "id": "wG9QUYyP03QO",
        "outputId": "25c1b659-1293-4ced-c0f4-50ca3dc79788"
      },
      "outputs": [
        {
          "output_type": "execute_result",
          "data": {
            "text/plain": [
              "   familia  recebe_pbf  qtde_pessoas  renda_per_capita_pbf  \\\n",
              "0  4590240           1             3                     0   \n",
              "1  4590258           1             4                     0   \n",
              "2  4590268           1             1                     0   \n",
              "3  4590280           1             1                     0   \n",
              "4  4590281           1             2                     0   \n",
              "\n",
              "   renda_familiar_pbf  renda_familiar_pos_df_sem_miseria  \\\n",
              "0                   0                                440   \n",
              "1                   0                                580   \n",
              "2                   0                                160   \n",
              "3                   0                                160   \n",
              "4                   0                                300   \n",
              "\n",
              "   renda_per_capita_pos_df_sem_miseria  renda_familiar_pos_auxilio_brasil  \\\n",
              "0                           146.666667                                400   \n",
              "1                           145.000000                                400   \n",
              "2                           160.000000                                400   \n",
              "3                           160.000000                                400   \n",
              "4                           150.000000                                400   \n",
              "\n",
              "   renda_percapita_pos_auxilio_brasil  renda_familiar_pos_ab_df  \\\n",
              "0                          133.333333                       550   \n",
              "1                          100.000000                       550   \n",
              "2                          400.000000                       550   \n",
              "3                          400.000000                       550   \n",
              "4                          200.000000                       550   \n",
              "\n",
              "   renda_per_capita_pos_ab_df  \n",
              "0                  183.333333  \n",
              "1                  137.500000  \n",
              "2                  550.000000  \n",
              "3                  550.000000  \n",
              "4                  275.000000  "
            ],
            "text/html": [
              "\n",
              "  <div id=\"df-0f22efa0-ee51-4753-aa0f-daed0b051a61\">\n",
              "    <div class=\"colab-df-container\">\n",
              "      <div>\n",
              "<style scoped>\n",
              "    .dataframe tbody tr th:only-of-type {\n",
              "        vertical-align: middle;\n",
              "    }\n",
              "\n",
              "    .dataframe tbody tr th {\n",
              "        vertical-align: top;\n",
              "    }\n",
              "\n",
              "    .dataframe thead th {\n",
              "        text-align: right;\n",
              "    }\n",
              "</style>\n",
              "<table border=\"1\" class=\"dataframe\">\n",
              "  <thead>\n",
              "    <tr style=\"text-align: right;\">\n",
              "      <th></th>\n",
              "      <th>familia</th>\n",
              "      <th>recebe_pbf</th>\n",
              "      <th>qtde_pessoas</th>\n",
              "      <th>renda_per_capita_pbf</th>\n",
              "      <th>renda_familiar_pbf</th>\n",
              "      <th>renda_familiar_pos_df_sem_miseria</th>\n",
              "      <th>renda_per_capita_pos_df_sem_miseria</th>\n",
              "      <th>renda_familiar_pos_auxilio_brasil</th>\n",
              "      <th>renda_percapita_pos_auxilio_brasil</th>\n",
              "      <th>renda_familiar_pos_ab_df</th>\n",
              "      <th>renda_per_capita_pos_ab_df</th>\n",
              "    </tr>\n",
              "  </thead>\n",
              "  <tbody>\n",
              "    <tr>\n",
              "      <th>0</th>\n",
              "      <td>4590240</td>\n",
              "      <td>1</td>\n",
              "      <td>3</td>\n",
              "      <td>0</td>\n",
              "      <td>0</td>\n",
              "      <td>440</td>\n",
              "      <td>146.666667</td>\n",
              "      <td>400</td>\n",
              "      <td>133.333333</td>\n",
              "      <td>550</td>\n",
              "      <td>183.333333</td>\n",
              "    </tr>\n",
              "    <tr>\n",
              "      <th>1</th>\n",
              "      <td>4590258</td>\n",
              "      <td>1</td>\n",
              "      <td>4</td>\n",
              "      <td>0</td>\n",
              "      <td>0</td>\n",
              "      <td>580</td>\n",
              "      <td>145.000000</td>\n",
              "      <td>400</td>\n",
              "      <td>100.000000</td>\n",
              "      <td>550</td>\n",
              "      <td>137.500000</td>\n",
              "    </tr>\n",
              "    <tr>\n",
              "      <th>2</th>\n",
              "      <td>4590268</td>\n",
              "      <td>1</td>\n",
              "      <td>1</td>\n",
              "      <td>0</td>\n",
              "      <td>0</td>\n",
              "      <td>160</td>\n",
              "      <td>160.000000</td>\n",
              "      <td>400</td>\n",
              "      <td>400.000000</td>\n",
              "      <td>550</td>\n",
              "      <td>550.000000</td>\n",
              "    </tr>\n",
              "    <tr>\n",
              "      <th>3</th>\n",
              "      <td>4590280</td>\n",
              "      <td>1</td>\n",
              "      <td>1</td>\n",
              "      <td>0</td>\n",
              "      <td>0</td>\n",
              "      <td>160</td>\n",
              "      <td>160.000000</td>\n",
              "      <td>400</td>\n",
              "      <td>400.000000</td>\n",
              "      <td>550</td>\n",
              "      <td>550.000000</td>\n",
              "    </tr>\n",
              "    <tr>\n",
              "      <th>4</th>\n",
              "      <td>4590281</td>\n",
              "      <td>1</td>\n",
              "      <td>2</td>\n",
              "      <td>0</td>\n",
              "      <td>0</td>\n",
              "      <td>300</td>\n",
              "      <td>150.000000</td>\n",
              "      <td>400</td>\n",
              "      <td>200.000000</td>\n",
              "      <td>550</td>\n",
              "      <td>275.000000</td>\n",
              "    </tr>\n",
              "  </tbody>\n",
              "</table>\n",
              "</div>\n",
              "      <button class=\"colab-df-convert\" onclick=\"convertToInteractive('df-0f22efa0-ee51-4753-aa0f-daed0b051a61')\"\n",
              "              title=\"Convert this dataframe to an interactive table.\"\n",
              "              style=\"display:none;\">\n",
              "        \n",
              "  <svg xmlns=\"http://www.w3.org/2000/svg\" height=\"24px\"viewBox=\"0 0 24 24\"\n",
              "       width=\"24px\">\n",
              "    <path d=\"M0 0h24v24H0V0z\" fill=\"none\"/>\n",
              "    <path d=\"M18.56 5.44l.94 2.06.94-2.06 2.06-.94-2.06-.94-.94-2.06-.94 2.06-2.06.94zm-11 1L8.5 8.5l.94-2.06 2.06-.94-2.06-.94L8.5 2.5l-.94 2.06-2.06.94zm10 10l.94 2.06.94-2.06 2.06-.94-2.06-.94-.94-2.06-.94 2.06-2.06.94z\"/><path d=\"M17.41 7.96l-1.37-1.37c-.4-.4-.92-.59-1.43-.59-.52 0-1.04.2-1.43.59L10.3 9.45l-7.72 7.72c-.78.78-.78 2.05 0 2.83L4 21.41c.39.39.9.59 1.41.59.51 0 1.02-.2 1.41-.59l7.78-7.78 2.81-2.81c.8-.78.8-2.07 0-2.86zM5.41 20L4 18.59l7.72-7.72 1.47 1.35L5.41 20z\"/>\n",
              "  </svg>\n",
              "      </button>\n",
              "      \n",
              "  <style>\n",
              "    .colab-df-container {\n",
              "      display:flex;\n",
              "      flex-wrap:wrap;\n",
              "      gap: 12px;\n",
              "    }\n",
              "\n",
              "    .colab-df-convert {\n",
              "      background-color: #E8F0FE;\n",
              "      border: none;\n",
              "      border-radius: 50%;\n",
              "      cursor: pointer;\n",
              "      display: none;\n",
              "      fill: #1967D2;\n",
              "      height: 32px;\n",
              "      padding: 0 0 0 0;\n",
              "      width: 32px;\n",
              "    }\n",
              "\n",
              "    .colab-df-convert:hover {\n",
              "      background-color: #E2EBFA;\n",
              "      box-shadow: 0px 1px 2px rgba(60, 64, 67, 0.3), 0px 1px 3px 1px rgba(60, 64, 67, 0.15);\n",
              "      fill: #174EA6;\n",
              "    }\n",
              "\n",
              "    [theme=dark] .colab-df-convert {\n",
              "      background-color: #3B4455;\n",
              "      fill: #D2E3FC;\n",
              "    }\n",
              "\n",
              "    [theme=dark] .colab-df-convert:hover {\n",
              "      background-color: #434B5C;\n",
              "      box-shadow: 0px 1px 3px 1px rgba(0, 0, 0, 0.15);\n",
              "      filter: drop-shadow(0px 1px 2px rgba(0, 0, 0, 0.3));\n",
              "      fill: #FFFFFF;\n",
              "    }\n",
              "  </style>\n",
              "\n",
              "      <script>\n",
              "        const buttonEl =\n",
              "          document.querySelector('#df-0f22efa0-ee51-4753-aa0f-daed0b051a61 button.colab-df-convert');\n",
              "        buttonEl.style.display =\n",
              "          google.colab.kernel.accessAllowed ? 'block' : 'none';\n",
              "\n",
              "        async function convertToInteractive(key) {\n",
              "          const element = document.querySelector('#df-0f22efa0-ee51-4753-aa0f-daed0b051a61');\n",
              "          const dataTable =\n",
              "            await google.colab.kernel.invokeFunction('convertToInteractive',\n",
              "                                                     [key], {});\n",
              "          if (!dataTable) return;\n",
              "\n",
              "          const docLinkHtml = 'Like what you see? Visit the ' +\n",
              "            '<a target=\"_blank\" href=https://colab.research.google.com/notebooks/data_table.ipynb>data table notebook</a>'\n",
              "            + ' to learn more about interactive tables.';\n",
              "          element.innerHTML = '';\n",
              "          dataTable['output_type'] = 'display_data';\n",
              "          await google.colab.output.renderOutput(dataTable, element);\n",
              "          const docLink = document.createElement('div');\n",
              "          docLink.innerHTML = docLinkHtml;\n",
              "          element.appendChild(docLink);\n",
              "        }\n",
              "      </script>\n",
              "    </div>\n",
              "  </div>\n",
              "  "
            ]
          },
          "metadata": {},
          "execution_count": 3
        }
      ],
      "source": [
        "df = pd.read_csv(\"/content/drive/My Drive/base_tratada_variaveis.csv\", delimiter = ',')\n",
        "df.head()\n"
      ]
    },
    {
      "cell_type": "code",
      "execution_count": null,
      "metadata": {
        "colab": {
          "base_uri": "https://localhost:8080/"
        },
        "id": "eVrlV1ya1f1g",
        "outputId": "fc75ea5b-2197-4a16-bf30-d36e3785f158"
      },
      "outputs": [
        {
          "output_type": "stream",
          "name": "stdout",
          "text": [
            "<class 'pandas.core.frame.DataFrame'>\n",
            "RangeIndex: 13065 entries, 0 to 13064\n",
            "Data columns (total 11 columns):\n",
            " #   Column                               Non-Null Count  Dtype  \n",
            "---  ------                               --------------  -----  \n",
            " 0   familia                              13065 non-null  int64  \n",
            " 1   recebe_pbf                           13065 non-null  int64  \n",
            " 2   qtde_pessoas                         13065 non-null  int64  \n",
            " 3   renda_per_capita_pbf                 13065 non-null  int64  \n",
            " 4   renda_familiar_pbf                   13065 non-null  int64  \n",
            " 5   renda_familiar_pos_df_sem_miseria    13065 non-null  int64  \n",
            " 6   renda_per_capita_pos_df_sem_miseria  13065 non-null  float64\n",
            " 7   renda_familiar_pos_auxilio_brasil    13065 non-null  int64  \n",
            " 8   renda_percapita_pos_auxilio_brasil   13065 non-null  float64\n",
            " 9   renda_familiar_pos_ab_df             13065 non-null  int64  \n",
            " 10  renda_per_capita_pos_ab_df           13065 non-null  float64\n",
            "dtypes: float64(3), int64(8)\n",
            "memory usage: 1.1 MB\n"
          ]
        }
      ],
      "source": [
        "df.info()"
      ]
    },
    {
      "cell_type": "code",
      "execution_count": null,
      "metadata": {
        "colab": {
          "base_uri": "https://localhost:8080/"
        },
        "id": "5Ju2qrMr1qgX",
        "outputId": "bacc43e7-3874-499d-e532-4307d6c60340"
      },
      "outputs": [
        {
          "output_type": "execute_result",
          "data": {
            "text/plain": [
              "1    13065\n",
              "Name: recebe_pbf, dtype: int64"
            ]
          },
          "metadata": {},
          "execution_count": 5
        }
      ],
      "source": [
        "df['recebe_pbf'].value_counts()\n",
        "\n"
      ]
    },
    {
      "cell_type": "code",
      "execution_count": null,
      "metadata": {
        "id": "OSIMmRxY11Xm"
      },
      "outputs": [],
      "source": [
        "x = df['renda_per_capita_pbf']\n",
        "dfsemmiseria = df['renda_per_capita_pos_df_sem_miseria']\n",
        "ab = df['renda_percapita_pos_auxilio_brasil']\n",
        "dfsocial = df['renda_per_capita_pos_ab_df']\n"
      ]
    },
    {
      "cell_type": "code",
      "execution_count": null,
      "metadata": {
        "id": "ZGvPTJLc1MZB"
      },
      "outputs": [],
      "source": [
        "def gini(x):\n",
        "    total = 0\n",
        "    for i, xi in enumerate(x[:-1], 1):\n",
        "        total += np.sum(np.abs(xi - x[i:]))\n",
        "    return total / (len(x)**2 * np.mean(x))"
      ]
    },
    {
      "cell_type": "code",
      "execution_count": null,
      "metadata": {
        "colab": {
          "base_uri": "https://localhost:8080/"
        },
        "id": "JfNb2O5F1Yb_",
        "outputId": "a5cbabf6-33b2-480a-b9e8-c19f61f196fb"
      },
      "outputs": [
        {
          "output_type": "execute_result",
          "data": {
            "text/plain": [
              "0.46117324561449174"
            ]
          },
          "metadata": {},
          "execution_count": 8
        }
      ],
      "source": [
        "gini(x)\n"
      ]
    },
    {
      "cell_type": "code",
      "execution_count": null,
      "metadata": {
        "colab": {
          "base_uri": "https://localhost:8080/"
        },
        "id": "lhyikPFZ130d",
        "outputId": "b159d8de-8b1a-4142-8bbd-527ff7e00d9a"
      },
      "outputs": [
        {
          "output_type": "execute_result",
          "data": {
            "text/plain": [
              "0.0402419993773514"
            ]
          },
          "metadata": {},
          "execution_count": 9
        }
      ],
      "source": [
        "gini(dfsemmiseria)"
      ]
    },
    {
      "cell_type": "code",
      "execution_count": null,
      "metadata": {
        "colab": {
          "base_uri": "https://localhost:8080/"
        },
        "id": "iql7rIB42FUm",
        "outputId": "46ba60c5-1dce-48b4-9de7-42f78820a37f"
      },
      "outputs": [
        {
          "output_type": "execute_result",
          "data": {
            "text/plain": [
              "0.23986156278628037"
            ]
          },
          "metadata": {},
          "execution_count": 10
        }
      ],
      "source": [
        "gini(ab)"
      ]
    },
    {
      "cell_type": "code",
      "execution_count": null,
      "metadata": {
        "colab": {
          "base_uri": "https://localhost:8080/"
        },
        "id": "-DHz6J4o2YBl",
        "outputId": "169b1e63-3e84-4456-d877-d51daac6b6d9"
      },
      "outputs": [
        {
          "output_type": "execute_result",
          "data": {
            "text/plain": [
              "0.24742253964548813"
            ]
          },
          "metadata": {},
          "execution_count": 11
        }
      ],
      "source": [
        "gini(dfsocial)"
      ]
    },
    {
      "cell_type": "code",
      "execution_count": null,
      "metadata": {
        "id": "VJPWjFbw24gF"
      },
      "outputs": [],
      "source": [
        "from matplotlib import pyplot as plt\n",
        "%matplotlib inline"
      ]
    },
    {
      "cell_type": "code",
      "execution_count": null,
      "metadata": {
        "colab": {
          "base_uri": "https://localhost:8080/",
          "height": 282
        },
        "id": "XzBGq1wN3ORi",
        "outputId": "47518ba8-5b0b-42de-b4e3-df776568e751"
      },
      "outputs": [
        {
          "output_type": "display_data",
          "data": {
            "text/plain": [
              "<Figure size 432x288 with 1 Axes>"
            ],
            "image/png": "[encoded data removed]"
          },
          "metadata": {
            "needs_background": "light"
          }
        },
        {
          "output_type": "execute_result",
          "data": {
            "text/plain": [
              "0.46117324561449174"
            ]
          },
          "metadata": {},
          "execution_count": 38
        }
      ],
      "source": [
        "import numpy as np\n",
        "import matplotlib.pyplot as plt\n",
        "\n",
        "# ensure your arr is sorted from lowest to highest values first!\n",
        "arr = np.array(df['renda_familiar_pos_df_sem_miseria'])\n",
        "\n",
        "def gini(x):\n",
        "    total = 0\n",
        "    for i, xi in enumerate(x[:-1], 1):\n",
        "        total += np.sum(np.abs(xi - x[i:]))\n",
        "    return total / (len(x)**2 * np.mean(x))\n",
        "\n",
        "def lorenz(arr):\n",
        "   \n",
        "    scaled_prefix_sum = arr.cumsum() / arr.sum()\n",
        "    return np.insert(scaled_prefix_sum, 0, 0)\n",
        "\n",
        "# show the gini index!\n",
        "lorenz_curve = lorenz(arr)\n",
        "\n",
        "# we need the X values to be between 0.0 to 1.0\n",
        "plt.plot(np.linspace(0.0, 1.0, lorenz_curve.size), lorenz_curve)\n",
        "# plot the straight line perfect equality curve\n",
        "plt.plot([0,1], [0,1])\n",
        "plt.show()\n",
        "\n",
        "gini(x)\n"
      ]
    },
    {
      "cell_type": "code",
      "source": [
        "import numpy as np\n",
        "import matplotlib.pyplot as plt\n",
        "\n",
        "# ensure your arr is sorted from lowest to highest values first!\n",
        "arr = np.array(df['renda_familiar_pbf'])\n",
        "\n",
        "def gini(arr):\n",
        "    count = arr.size\n",
        "    coefficient = 2 / count\n",
        "    indexes = np.arange(1, count + 1)\n",
        "    weighted_sum = (indexes * arr).sum()\n",
        "    total = arr.sum()\n",
        "    constant = (count + 1) / count\n",
        "    return coefficient * weighted_sum / total - constant\n",
        "\n",
        "def lorenz(arr):\n",
        "    # this divides the prefix sum by the total sum\n",
        "    # this ensures all the values are between 0 and 1.0\n",
        "    scaled_prefix_sum = arr.cumsum() / arr.sum()\n",
        "    # this prepends the 0 value (because 0% of all people have 0% of all wealth)\n",
        "    return np.insert(scaled_prefix_sum, 0, 0)\n",
        "\n",
        "# show the gini index!\n",
        "\n",
        "lorenz_curve = lorenz(arr)\n",
        "\n",
        "# we need the X values to be between 0.0 to 1.0\n",
        "plt.plot(np.linspace(0.0, 1.0, lorenz_curve.size), lorenz_curve)\n",
        "# plot the straight line perfect equality curve\n",
        "plt.plot([0,1], [0,1])\n",
        "plt.show()"
      ],
      "metadata": {
        "colab": {
          "base_uri": "https://localhost:8080/",
          "height": 265
        },
        "id": "adadmzi08zOT",
        "outputId": "6cd7ded0-dba5-4470-eac5-ed840f0a4569"
      },
      "execution_count": null,
      "outputs": [
        {
          "output_type": "display_data",
          "data": {
            "text/plain": [
              "<Figure size 432x288 with 1 Axes>"
            ],
            "image/png": "[encoded data removed]"
          },
          "metadata": {
            "needs_background": "light"
          }
        }
      ]
    },
    {
      "cell_type": "code",
      "source": [
        "import numpy as np\n",
        "import matplotlib.pyplot as plt\n",
        "\n",
        "# ensure your arr is sorted from lowest to highest values first!\n",
        "arr = np.array(df['renda_familiar_pos_auxilio_brasil'])\n",
        "\n",
        "def gini(arr):\n",
        "    count = arr.size\n",
        "    coefficient = 2 / count\n",
        "    indexes = np.arange(1, count + 1)\n",
        "    weighted_sum = (indexes * arr).sum()\n",
        "    total = arr.sum()\n",
        "    constant = (count + 1) / count\n",
        "    return coefficient * weighted_sum / total - constant\n",
        "\n",
        "def lorenz(arr):\n",
        "    # this divides the prefix sum by the total sum\n",
        "    # this ensures all the values are between 0 and 1.0\n",
        "    scaled_prefix_sum = arr.cumsum() / arr.sum()\n",
        "    # this prepends the 0 value (because 0% of all people have 0% of all wealth)\n",
        "    return np.insert(scaled_prefix_sum, 0, 0)\n",
        "\n",
        "# show the gini index!\n",
        "\n",
        "lorenz_curve = lorenz(arr)\n",
        "\n",
        "# we need the X values to be between 0.0 to 1.0\n",
        "plt.plot(np.linspace(0.0, 1.0, lorenz_curve.size), lorenz_curve)\n",
        "# plot the straight line perfect equality curve\n",
        "plt.plot([0,1], [0,1])\n",
        "plt.show()"
      ],
      "metadata": {
        "colab": {
          "base_uri": "https://localhost:8080/",
          "height": 265
        },
        "id": "97Jb7C1z83fn",
        "outputId": "601cef59-8e41-4ff4-d94f-714b0e7ed715"
      },
      "execution_count": null,
      "outputs": [
        {
          "output_type": "display_data",
          "data": {
            "text/plain": [
              "<Figure size 432x288 with 1 Axes>"
            ],
            "image/png": "[encoded data removed]"
          },
          "metadata": {
            "needs_background": "light"
          }
        }
      ]
    },
    {
      "cell_type": "code",
      "source": [
        "import numpy as np\n",
        "import matplotlib.pyplot as plt\n",
        "\n",
        "# ensure your arr is sorted from lowest to highest values first!\n",
        "arr = np.array(df['renda_familiar_pos_ab_df'])\n",
        "\n",
        "def gini(arr):\n",
        "    count = arr.size\n",
        "    coefficient = 2 / count\n",
        "    indexes = np.arange(1, count + 1)\n",
        "    weighted_sum = (indexes * arr).sum()\n",
        "    total = arr.sum()\n",
        "    constant = (count + 1) / count\n",
        "    return coefficient * weighted_sum / total - constant\n",
        "\n",
        "def lorenz(arr):\n",
        "    # this divides the prefix sum by the total sum\n",
        "    # this ensures all the values are between 0 and 1.0\n",
        "    scaled_prefix_sum = arr.cumsum() / arr.sum()\n",
        "    # this prepends the 0 value (because 0% of all people have 0% of all wealth)\n",
        "    return np.insert(scaled_prefix_sum, 0, 0)\n",
        "\n",
        "# show the gini index!\n",
        "\n",
        "lorenz_curve = lorenz(arr)\n",
        "\n",
        "# we need the X values to be between 0.0 to 1.0\n",
        "plt.plot(np.linspace(0.0, 1.0, lorenz_curve.size), lorenz_curve)\n",
        "# plot the straight line perfect equality curve\n",
        "plt.plot([0,1], [0,1])\n",
        "plt.show()"
      ],
      "metadata": {
        "colab": {
          "base_uri": "https://localhost:8080/",
          "height": 265
        },
        "id": "Jdc_dr3i88gu",
        "outputId": "52b543cc-4968-4589-ca50-0ad08ec98904"
      },
      "execution_count": null,
      "outputs": [
        {
          "output_type": "display_data",
          "data": {
            "text/plain": [
              "<Figure size 432x288 with 1 Axes>"
            ],
            "image/png": "[encoded data removed]"
          },
          "metadata": {
            "needs_background": "light"
          }
        }
      ]
    },
    {
      "cell_type": "code",
      "source": [
        "df.info()"
      ],
      "metadata": {
        "colab": {
          "base_uri": "https://localhost:8080/"
        },
        "id": "IrYT1OzLuLbx",
        "outputId": "f5c90771-7711-4fe5-fd97-5801491015e0"
      },
      "execution_count": null,
      "outputs": [
        {
          "output_type": "stream",
          "name": "stdout",
          "text": [
            "<class 'pandas.core.frame.DataFrame'>\n",
            "RangeIndex: 13065 entries, 0 to 13064\n",
            "Data columns (total 11 columns):\n",
            " #   Column                               Non-Null Count  Dtype  \n",
            "---  ------                               --------------  -----  \n",
            " 0   familia                              13065 non-null  int64  \n",
            " 1   recebe_pbf                           13065 non-null  int64  \n",
            " 2   qtde_pessoas                         13065 non-null  int64  \n",
            " 3   renda_per_capita_pbf                 13065 non-null  int64  \n",
            " 4   renda_familiar_pbf                   13065 non-null  int64  \n",
            " 5   renda_familiar_pos_df_sem_miseria    13065 non-null  int64  \n",
            " 6   renda_per_capita_pos_df_sem_miseria  13065 non-null  float64\n",
            " 7   renda_familiar_pos_auxilio_brasil    13065 non-null  int64  \n",
            " 8   renda_percapita_pos_auxilio_brasil   13065 non-null  float64\n",
            " 9   renda_familiar_pos_ab_df             13065 non-null  int64  \n",
            " 10  renda_per_capita_pos_ab_df           13065 non-null  float64\n",
            "dtypes: float64(3), int64(8)\n",
            "memory usage: 1.1 MB\n"
          ]
        }
      ]
    },
    {
      "cell_type": "code",
      "execution_count": null,
      "metadata": {
        "colab": {
          "base_uri": "https://localhost:8080/"
        },
        "id": "6RHQV0mP4LWV",
        "outputId": "685dc034-7232-4b26-9905-ca4caf5982ba"
      },
      "outputs": [
        {
          "output_type": "execute_result",
          "data": {
            "text/plain": [
              "count    13065.000000\n",
              "mean        61.189361\n",
              "std         55.394431\n",
              "min          0.000000\n",
              "25%         24.000000\n",
              "50%         50.000000\n",
              "75%         83.000000\n",
              "max        477.000000\n",
              "Name: renda_per_capita_pbf, dtype: float64"
            ]
          },
          "metadata": {},
          "execution_count": 14
        }
      ],
      "source": [
        "df['renda_per_capita_pbf'].describe()"
      ]
    },
    {
      "cell_type": "code",
      "execution_count": null,
      "metadata": {
        "colab": {
          "base_uri": "https://localhost:8080/"
        },
        "id": "EUyYPWw06CZt",
        "outputId": "71856e38-024f-45f6-d4ee-a758da4b8e5a"
      },
      "outputs": [
        {
          "output_type": "execute_result",
          "data": {
            "text/plain": [
              "count    13065.000000\n",
              "mean       152.767698\n",
              "std         24.348329\n",
              "min        141.333333\n",
              "25%        145.000000\n",
              "50%        147.000000\n",
              "75%        153.000000\n",
              "max        487.000000\n",
              "Name: renda_per_capita_pos_df_sem_miseria, dtype: float64"
            ]
          },
          "metadata": {},
          "execution_count": 15
        }
      ],
      "source": [
        "df['renda_per_capita_pos_df_sem_miseria'].describe()"
      ]
    },
    {
      "cell_type": "code",
      "execution_count": null,
      "metadata": {
        "colab": {
          "base_uri": "https://localhost:8080/"
        },
        "id": "rxKAE6cc6mqc",
        "outputId": "d57b930a-ce93-49e4-ef5f-7c331eea2c88"
      },
      "outputs": [
        {
          "output_type": "execute_result",
          "data": {
            "text/plain": [
              "count    13065.000000\n",
              "mean       225.462602\n",
              "std         99.227117\n",
              "min         36.333333\n",
              "25%        152.000000\n",
              "50%        200.000000\n",
              "75%        266.333333\n",
              "max        606.000000\n",
              "Name: renda_percapita_pos_auxilio_brasil, dtype: float64"
            ]
          },
          "metadata": {},
          "execution_count": 16
        }
      ],
      "source": [
        "df['renda_percapita_pos_auxilio_brasil'].describe()"
      ]
    },
    {
      "cell_type": "code",
      "execution_count": null,
      "metadata": {
        "colab": {
          "base_uri": "https://localhost:8080/"
        },
        "id": "UqjIB03963gK",
        "outputId": "76bcc31f-bcd5-4f1f-df85-5c7efd17989f"
      },
      "outputs": [
        {
          "output_type": "execute_result",
          "data": {
            "text/plain": [
              "count    13065.000000\n",
              "mean       287.815546\n",
              "std        133.807577\n",
              "min         48.833333\n",
              "25%        191.666667\n",
              "50%        250.000000\n",
              "75%        333.333333\n",
              "max        756.000000\n",
              "Name: renda_per_capita_pos_ab_df, dtype: float64"
            ]
          },
          "metadata": {},
          "execution_count": 17
        }
      ],
      "source": [
        "df['renda_per_capita_pos_ab_df'].describe()"
      ]
    },
    {
      "cell_type": "code",
      "source": [
        "df['qtde_pessoas'].describe()"
      ],
      "metadata": {
        "colab": {
          "base_uri": "https://localhost:8080/"
        },
        "id": "on-nO_djh28g",
        "outputId": "b2e818e4-806f-42cd-9207-4ccf19b9fbd7"
      },
      "execution_count": null,
      "outputs": [
        {
          "output_type": "execute_result",
          "data": {
            "text/plain": [
              "count    13065.000000\n",
              "mean         3.163643\n",
              "std          1.507537\n",
              "min          1.000000\n",
              "25%          2.000000\n",
              "50%          3.000000\n",
              "75%          4.000000\n",
              "max         12.000000\n",
              "Name: qtde_pessoas, dtype: float64"
            ]
          },
          "metadata": {},
          "execution_count": 18
        }
      ]
    },
    {
      "cell_type": "code",
      "execution_count": null,
      "metadata": {
        "id": "EVtlX7rR8JQW"
      },
      "outputs": [],
      "source": [
        "import seaborn as sns\n",
        "import matplotlib.pyplot as plt"
      ]
    },
    {
      "cell_type": "code",
      "source": [
        "df.info()"
      ],
      "metadata": {
        "colab": {
          "base_uri": "https://localhost:8080/"
        },
        "id": "x4FiO0nv9viH",
        "outputId": "ab040759-c45a-4fe7-95b8-2b73135ea72f"
      },
      "execution_count": null,
      "outputs": [
        {
          "output_type": "stream",
          "name": "stdout",
          "text": [
            "<class 'pandas.core.frame.DataFrame'>\n",
            "RangeIndex: 13065 entries, 0 to 13064\n",
            "Data columns (total 11 columns):\n",
            " #   Column                               Non-Null Count  Dtype  \n",
            "---  ------                               --------------  -----  \n",
            " 0   familia                              13065 non-null  int64  \n",
            " 1   recebe_pbf                           13065 non-null  int64  \n",
            " 2   qtde_pessoas                         13065 non-null  int64  \n",
            " 3   renda_per_capita_pbf                 13065 non-null  int64  \n",
            " 4   renda_familiar_pbf                   13065 non-null  int64  \n",
            " 5   renda_familiar_pos_df_sem_miseria    13065 non-null  int64  \n",
            " 6   renda_per_capita_pos_df_sem_miseria  13065 non-null  float64\n",
            " 7   renda_familiar_pos_auxilio_brasil    13065 non-null  int64  \n",
            " 8   renda_percapita_pos_auxilio_brasil   13065 non-null  float64\n",
            " 9   renda_familiar_pos_ab_df             13065 non-null  int64  \n",
            " 10  renda_per_capita_pos_ab_df           13065 non-null  float64\n",
            "dtypes: float64(3), int64(8)\n",
            "memory usage: 1.1 MB\n"
          ]
        }
      ]
    },
    {
      "cell_type": "code",
      "execution_count": null,
      "metadata": {
        "colab": {
          "base_uri": "https://localhost:8080/",
          "height": 404
        },
        "id": "vj_F-Xg8IVJH",
        "outputId": "f4d228c6-862c-4525-cd1e-6ef9e5020fe3"
      },
      "outputs": [
        {
          "output_type": "execute_result",
          "data": {
            "text/plain": [
              "<seaborn.axisgrid.FacetGrid at 0x7f114e844bd0>"
            ]
          },
          "metadata": {},
          "execution_count": 21
        },
        {
          "output_type": "display_data",
          "data": {
            "text/plain": [
              "<Figure size 1080x360 with 0 Axes>"
            ]
          },
          "metadata": {}
        },
        {
          "output_type": "display_data",
          "data": {
            "text/plain": [
              "<Figure size 360x360 with 1 Axes>"
            ],
            "image/png": "[encoded data removed]"
          },
          "metadata": {
            "needs_background": "light"
          }
        }
      ],
      "source": [
        "plt.figure(figsize=(15,5))\n",
        "\n",
        "sns.catplot(y='renda_per_capita_pbf', x='qtde_pessoas', data=df, kind=\"bar\")"
      ]
    },
    {
      "cell_type": "code",
      "execution_count": null,
      "metadata": {
        "colab": {
          "base_uri": "https://localhost:8080/",
          "height": 386
        },
        "id": "iVJCKvfbIYV5",
        "outputId": "14224704-c1f5-44bb-e118-0a8b420bf7db"
      },
      "outputs": [
        {
          "output_type": "execute_result",
          "data": {
            "text/plain": [
              "<seaborn.axisgrid.FacetGrid at 0x7f114bef9f90>"
            ]
          },
          "metadata": {},
          "execution_count": 22
        },
        {
          "output_type": "display_data",
          "data": {
            "text/plain": [
              "<Figure size 360x360 with 1 Axes>"
            ],
            "image/png": "[encoded data removed]"
          },
          "metadata": {
            "needs_background": "light"
          }
        }
      ],
      "source": [
        "diamonds = sns.load_dataset(\"diamonds\")\n",
        "\n",
        "sns.catplot(y='renda_per_capita_pos_df_sem_miseria', x='qtde_pessoas', data=df, kind=\"bar\")"
      ]
    },
    {
      "cell_type": "code",
      "execution_count": null,
      "metadata": {
        "colab": {
          "base_uri": "https://localhost:8080/",
          "height": 404
        },
        "id": "W0ZhGxb-787_",
        "outputId": "ff95c96d-42a2-4824-b80b-88f39c8d6990"
      },
      "outputs": [
        {
          "output_type": "execute_result",
          "data": {
            "text/plain": [
              "<seaborn.axisgrid.FacetGrid at 0x7f114b56f750>"
            ]
          },
          "metadata": {},
          "execution_count": 23
        },
        {
          "output_type": "display_data",
          "data": {
            "text/plain": [
              "<Figure size 1080x360 with 0 Axes>"
            ]
          },
          "metadata": {}
        },
        {
          "output_type": "display_data",
          "data": {
            "text/plain": [
              "<Figure size 360x360 with 1 Axes>"
            ],
            "image/png": "[encoded data removed]"
          },
          "metadata": {
            "needs_background": "light"
          }
        }
      ],
      "source": [
        "plt.figure(figsize=(15,5))\n",
        "\n",
        "sns.catplot(y='renda_percapita_pos_auxilio_brasil', x='qtde_pessoas', data=df, kind=\"bar\")"
      ]
    },
    {
      "cell_type": "code",
      "execution_count": null,
      "metadata": {
        "colab": {
          "base_uri": "https://localhost:8080/",
          "height": 404
        },
        "id": "0KPb9D0E8GgE",
        "outputId": "56f08732-eef8-4d39-c3b3-38e855c02dcb"
      },
      "outputs": [
        {
          "output_type": "execute_result",
          "data": {
            "text/plain": [
              "<seaborn.axisgrid.FacetGrid at 0x7f114b56f150>"
            ]
          },
          "metadata": {},
          "execution_count": 24
        },
        {
          "output_type": "display_data",
          "data": {
            "text/plain": [
              "<Figure size 1080x360 with 0 Axes>"
            ]
          },
          "metadata": {}
        },
        {
          "output_type": "display_data",
          "data": {
            "text/plain": [
              "<Figure size 360x360 with 1 Axes>"
            ],
            "image/png": "[encoded data removed]"
          },
          "metadata": {
            "needs_background": "light"
          }
        }
      ],
      "source": [
        "plt.figure(figsize=(15,5))\n",
        "\n",
        "sns.catplot(y='renda_per_capita_pos_ab_df', x='qtde_pessoas', data=df, kind=\"bar\")"
      ]
    },
    {
      "cell_type": "code",
      "execution_count": null,
      "metadata": {
        "id": "mSeSWlCaH4yJ"
      },
      "outputs": [],
      "source": [
        "df['DecileRankbpf'] = pd.qcut(df['renda_per_capita_pbf'], q = 10, labels = False, duplicates='drop')\n",
        "df['DecileRankrendapercapitaposauxliobrasil'] = pd.qcut(df['renda_percapita_pos_auxilio_brasil'], q = 12, labels = False)\n",
        "df['DecileRankrendafamiliarposdfsemmiseria'] = pd.qcut(df['renda_per_capita_pos_df_sem_miseria'], q = 11, labels = False, duplicates='drop')\n",
        "df['DecileRankrendafamiliarposabdfsocial'] = pd.qcut(df['renda_per_capita_pos_ab_df'], q = 10, labels = False)\n"
      ]
    },
    {
      "cell_type": "code",
      "execution_count": null,
      "metadata": {
        "id": "HDBnUwSntQBm",
        "colab": {
          "base_uri": "https://localhost:8080/",
          "height": 404
        },
        "outputId": "e2eb0aa9-bf35-46c5-98a4-0f966e8f0b6c"
      },
      "outputs": [
        {
          "output_type": "execute_result",
          "data": {
            "text/plain": [
              "<seaborn.axisgrid.FacetGrid at 0x7fac384976d0>"
            ]
          },
          "metadata": {},
          "execution_count": 23
        },
        {
          "output_type": "display_data",
          "data": {
            "text/plain": [
              "<Figure size 1080x360 with 0 Axes>"
            ]
          },
          "metadata": {}
        },
        {
          "output_type": "display_data",
          "data": {
            "text/plain": [
              "<Figure size 360x360 with 1 Axes>"
            ],
            "image/png": "[encoded data removed]"
          },
          "metadata": {
            "needs_background": "light"
          }
        }
      ],
      "source": [
        "plt.figure(figsize=(15,5))\n",
        "\n",
        "sns.catplot(y='renda_per_capita_pbf', x='DecileRankbpf', data=df, kind=\"bar\")"
      ]
    },
    {
      "cell_type": "code",
      "execution_count": null,
      "metadata": {
        "id": "uMAhmnnKHjOI",
        "colab": {
          "base_uri": "https://localhost:8080/"
        },
        "outputId": "46c3d4e6-7d5e-4d45-b341-fdf40b171f17"
      },
      "outputs": [
        {
          "output_type": "execute_result",
          "data": {
            "text/plain": [
              "5    2187\n",
              "0    1879\n",
              "1    1797\n",
              "8    1235\n",
              "3    1216\n",
              "2    1149\n",
              "9    1120\n",
              "4    1109\n",
              "7    1089\n",
              "6     284\n",
              "Name: DecileRankrendafamiliarposdfsemmiseria, dtype: int64"
            ]
          },
          "metadata": {},
          "execution_count": 24
        }
      ],
      "source": [
        "df[\"DecileRankrendafamiliarposdfsemmiseria\"].value_counts()"
      ]
    },
    {
      "cell_type": "code",
      "source": [
        "plt.figure(figsize=(15,5))\n",
        "\n",
        "sns.catplot(y='renda_per_capita_pos_df_sem_miseria', x='DecileRankrendafamiliarposdfsemmiseria', data=df, kind=\"bar\")"
      ],
      "metadata": {
        "colab": {
          "base_uri": "https://localhost:8080/",
          "height": 404
        },
        "id": "IaQCQhDYUzHy",
        "outputId": "275d25ff-107b-4b69-b875-fb9815fa27cd"
      },
      "execution_count": null,
      "outputs": [
        {
          "output_type": "execute_result",
          "data": {
            "text/plain": [
              "<seaborn.axisgrid.FacetGrid at 0x7fac382ebb50>"
            ]
          },
          "metadata": {},
          "execution_count": 26
        },
        {
          "output_type": "display_data",
          "data": {
            "text/plain": [
              "<Figure size 1080x360 with 0 Axes>"
            ]
          },
          "metadata": {}
        },
        {
          "output_type": "display_data",
          "data": {
            "text/plain": [
              "<Figure size 360x360 with 1 Axes>"
            ],
            "image/png": "[encoded data removed]"
          },
          "metadata": {
            "needs_background": "light"
          }
        }
      ]
    },
    {
      "cell_type": "code",
      "source": [
        "np.percentile(df[\"renda_per_capita_pos_df_sem_miseria\"], np.arange(0, 100, 10))\n"
      ],
      "metadata": {
        "colab": {
          "base_uri": "https://localhost:8080/"
        },
        "id": "Nm5esRTE6OQl",
        "outputId": "9139675e-a1f4-4ff2-a943-dd3d1c9d340e"
      },
      "execution_count": null,
      "outputs": [
        {
          "output_type": "execute_result",
          "data": {
            "text/plain": [
              "array([141.33333333, 144.        , 145.        , 146.        ,\n",
              "       146.33333333, 147.        , 150.        , 150.        ,\n",
              "       155.        , 160.        ])"
            ]
          },
          "metadata": {},
          "execution_count": 15
        }
      ]
    },
    {
      "cell_type": "code",
      "source": [
        "\n",
        "sns.catplot(y='renda_per_capita_pos_ab_df', x='DecileRankrendafamiliarposabdfsocial', data=df, kind=\"bar\")"
      ],
      "metadata": {
        "colab": {
          "base_uri": "https://localhost:8080/",
          "height": 386
        },
        "id": "XUboKTLM5epI",
        "outputId": "f66cffa5-d5dd-4c22-9902-d2f8f28a2469"
      },
      "execution_count": null,
      "outputs": [
        {
          "output_type": "execute_result",
          "data": {
            "text/plain": [
              "<seaborn.axisgrid.FacetGrid at 0x7f1148e4bc50>"
            ]
          },
          "metadata": {},
          "execution_count": 42
        },
        {
          "output_type": "display_data",
          "data": {
            "text/plain": [
              "<Figure size 360x360 with 1 Axes>"
            ],
            "image/png": "[encoded data removed]"
          },
          "metadata": {
            "needs_background": "light"
          }
        }
      ]
    },
    {
      "cell_type": "code",
      "source": [
        "np.percentile(df[\"renda_per_capita_pos_ab_df\"], np.arange(0, 100, 10))\n"
      ],
      "metadata": {
        "colab": {
          "base_uri": "https://localhost:8080/"
        },
        "id": "--WrNdwL56J4",
        "outputId": "6a353b73-df8e-4938-f0ca-c01e68bebd49"
      },
      "execution_count": null,
      "outputs": [
        {
          "output_type": "execute_result",
          "data": {
            "text/plain": [
              "array([ 48.83333333, 150.        , 183.33333333, 206.06666667,\n",
              "       227.33333333, 250.        , 283.33333333, 316.33333333,\n",
              "       350.        , 550.        ])"
            ]
          },
          "metadata": {},
          "execution_count": 44
        }
      ]
    },
    {
      "cell_type": "code",
      "execution_count": null,
      "metadata": {
        "colab": {
          "base_uri": "https://localhost:8080/",
          "height": 476
        },
        "id": "TPq7UIKWIFHv",
        "outputId": "c0c7df7f-1f86-4af1-b49f-df0ffc4d157e"
      },
      "outputs": [
        {
          "output_type": "execute_result",
          "data": {
            "text/plain": [
              "<seaborn.axisgrid.JointGrid at 0x7fa5d6641b90>"
            ]
          },
          "metadata": {},
          "execution_count": 61
        },
        {
          "output_type": "display_data",
          "data": {
            "text/plain": [
              "<Figure size 720x360 with 0 Axes>"
            ]
          },
          "metadata": {}
        },
        {
          "output_type": "display_data",
          "data": {
            "text/plain": [
              "<Figure size 432x432 with 3 Axes>"
            ],
            "image/png": "[encoded data removed]"
          },
          "metadata": {
            "needs_background": "light"
          }
        }
      ],
      "source": [
        "plt.figure(figsize=(10,5))\n",
        "\n",
        "sns.jointplot(x='renda_per_capita_pbf', y='renda_per_capita_pos_df_sem_miseria', data=df, kind='reg')"
      ]
    },
    {
      "cell_type": "code",
      "execution_count": null,
      "metadata": {
        "colab": {
          "base_uri": "https://localhost:8080/",
          "height": 476
        },
        "id": "E-nB1xXWM6SZ",
        "outputId": "3940d42f-f805-4932-a3a6-673c1eb670c0"
      },
      "outputs": [
        {
          "output_type": "execute_result",
          "data": {
            "text/plain": [
              "<seaborn.axisgrid.JointGrid at 0x7fa5d5d89710>"
            ]
          },
          "metadata": {},
          "execution_count": 63
        },
        {
          "output_type": "display_data",
          "data": {
            "text/plain": [
              "<Figure size 720x360 with 0 Axes>"
            ]
          },
          "metadata": {}
        },
        {
          "output_type": "display_data",
          "data": {
            "text/plain": [
              "<Figure size 432x432 with 3 Axes>"
            ],
            "image/png": "[encoded data removed]"
          },
          "metadata": {
            "needs_background": "light"
          }
        }
      ],
      "source": [
        "##valor de renda x empréstimo soliciado ao clientes tomado por clientes inadimplementes\n",
        "plt.figure(figsize=(10,5))\n",
        "\n",
        "sns.jointplot(x='renda_percapita_pos_auxilio_brasil', y='renda_per_capita_pos_ab_df', data=df, kind='reg')"
      ]
    },
    {
      "cell_type": "code",
      "execution_count": null,
      "metadata": {
        "colab": {
          "base_uri": "https://localhost:8080/",
          "height": 351
        },
        "id": "EbTgPatoNgjB",
        "outputId": "420a9ffa-61b5-4f6f-bd49-72dbd0e069ba"
      },
      "outputs": [
        {
          "output_type": "execute_result",
          "data": {
            "text/plain": [
              "Text(0.5, 0, 'Renda Per Capita pós benefício ')"
            ]
          },
          "metadata": {},
          "execution_count": 32
        },
        {
          "output_type": "display_data",
          "data": {
            "text/plain": [
              "<Figure size 720x360 with 1 Axes>"
            ],
            "image/png": "[encoded data removed]"
          },
          "metadata": {
            "needs_background": "light"
          }
        }
      ],
      "source": [
        "##comparativo entre inadimplementes e fraudadores\n",
        "plt.figure(figsize=(10,5))\n",
        "df['renda_per_capita_pbf'].hist(alpha=0.5, color='red', bins=30, label='PBF', density = True)\n",
        "df['renda_per_capita_pos_df_sem_miseria'].hist(alpha=0.5, color='blue', bins=30, label='DF sem miséria', density = True)\n",
        "df['renda_percapita_pos_auxilio_brasil'].hist(alpha=0.5, color='green', bins=30, label='Auxílio Brasil', density = True)\n",
        "df['renda_per_capita_pos_ab_df'].hist(alpha=0.5, color='yellow', bins=30, label='DF Social', density = True)\n",
        "plt.legend()\n",
        "plt.xlabel('Renda Per Capita pós benefício ')"
      ]
    },
    {
      "cell_type": "code",
      "source": [
        "sns.histplot(data=df, x=\"renda_per_capita_pbf\", color=\"red\", label=\"PBF\", kde=True, stat='probability', bins=30)\n",
        "sns.histplot(data=df, x=\"renda_per_capita_pos_df_sem_miseria\", color=\"blue\", label=\"DF sem Miséria\", kde=True, stat='probability', bins=30)\n",
        "sns.histplot(data=df, x=\"renda_percapita_pos_auxilio_brasil\", color=\"green\", label=\"Auxílio Brasil\", kde=True, stat='probability', bins=30)\n",
        "sns.histplot(data=df, x=\"renda_per_capita_pos_ab_df\", color=\"yellow\", label=\"DF Social\", kde=True, stat='probability', bins=30)\n"
      ],
      "metadata": {
        "colab": {
          "base_uri": "https://localhost:8080/",
          "height": 298
        },
        "id": "rcZo5TeD5zFI",
        "outputId": "b9dc3359-9ef4-4de3-c218-8273177c13c0"
      },
      "execution_count": null,
      "outputs": [
        {
          "output_type": "execute_result",
          "data": {
            "text/plain": [
              "<matplotlib.axes._subplots.AxesSubplot at 0x7f848c50ab10>"
            ]
          },
          "metadata": {},
          "execution_count": 40
        },
        {
          "output_type": "display_data",
          "data": {
            "text/plain": [
              "<Figure size 432x288 with 1 Axes>"
            ],
            "image/png": "[encoded data removed]"
          },
          "metadata": {
            "needs_background": "light"
          }
        }
      ]
    },
    {
      "cell_type": "code",
      "execution_count": null,
      "metadata": {
        "colab": {
          "base_uri": "https://localhost:8080/",
          "height": 394
        },
        "id": "CULM9uTIOWck",
        "outputId": "9462639b-801f-4a81-c179-a4e7e7aa0035"
      },
      "outputs": [
        {
          "output_type": "execute_result",
          "data": {
            "text/plain": [
              "                                         count        mean        std  \\\n",
              "DecileRankrendafamiliarposdfsemmiseria                                  \n",
              "0                                       1879.0  143.392848   0.685363   \n",
              "1                                       1797.0  144.931725   0.185132   \n",
              "2                                       1149.0  145.977392   0.115213   \n",
              "3                                       1216.0  146.530702   0.163882   \n",
              "4                                       1109.0  147.318906   0.487296   \n",
              "5                                       2187.0  149.809197   0.357097   \n",
              "6                                        284.0  151.505533   0.520773   \n",
              "7                                       1089.0  154.874743   1.290596   \n",
              "8                                       1235.0  159.998920   0.018947   \n",
              "9                                       1120.0  196.275836  67.666616   \n",
              "\n",
              "                                               min         25%         50%  \\\n",
              "DecileRankrendafamiliarposdfsemmiseria                                       \n",
              "0                                       141.333333  143.000000  143.666667   \n",
              "1                                       144.142857  145.000000  145.000000   \n",
              "2                                       145.333333  146.000000  146.000000   \n",
              "3                                       146.333333  146.333333  146.666667   \n",
              "4                                       147.000000  147.000000  147.000000   \n",
              "5                                       148.666667  149.666667  150.000000   \n",
              "6                                       150.333333  151.000000  152.000000   \n",
              "7                                       152.666667  155.000000  155.000000   \n",
              "8                                       159.666667  160.000000  160.000000   \n",
              "9                                       160.333333  167.000000  170.000000   \n",
              "\n",
              "                                               75%         max  \n",
              "DecileRankrendafamiliarposdfsemmiseria                          \n",
              "0                                       144.000000  144.000000  \n",
              "1                                       145.000000  145.000000  \n",
              "2                                       146.000000  146.000000  \n",
              "3                                       146.666667  146.666667  \n",
              "4                                       147.666667  148.333333  \n",
              "5                                       150.000000  150.000000  \n",
              "6                                       152.000000  152.000000  \n",
              "7                                       155.000000  159.333333  \n",
              "8                                       160.000000  160.000000  \n",
              "9                                       180.000000  487.000000  "
            ],
            "text/html": [
              "\n",
              "  <div id=\"df-4d8acff5-0481-4731-92d4-2317dcec3fc4\">\n",
              "    <div class=\"colab-df-container\">\n",
              "      <div>\n",
              "<style scoped>\n",
              "    .dataframe tbody tr th:only-of-type {\n",
              "        vertical-align: middle;\n",
              "    }\n",
              "\n",
              "    .dataframe tbody tr th {\n",
              "        vertical-align: top;\n",
              "    }\n",
              "\n",
              "    .dataframe thead th {\n",
              "        text-align: right;\n",
              "    }\n",
              "</style>\n",
              "<table border=\"1\" class=\"dataframe\">\n",
              "  <thead>\n",
              "    <tr style=\"text-align: right;\">\n",
              "      <th></th>\n",
              "      <th>count</th>\n",
              "      <th>mean</th>\n",
              "      <th>std</th>\n",
              "      <th>min</th>\n",
              "      <th>25%</th>\n",
              "      <th>50%</th>\n",
              "      <th>75%</th>\n",
              "      <th>max</th>\n",
              "    </tr>\n",
              "    <tr>\n",
              "      <th>DecileRankrendafamiliarposdfsemmiseria</th>\n",
              "      <th></th>\n",
              "      <th></th>\n",
              "      <th></th>\n",
              "      <th></th>\n",
              "      <th></th>\n",
              "      <th></th>\n",
              "      <th></th>\n",
              "      <th></th>\n",
              "    </tr>\n",
              "  </thead>\n",
              "  <tbody>\n",
              "    <tr>\n",
              "      <th>0</th>\n",
              "      <td>1879.0</td>\n",
              "      <td>143.392848</td>\n",
              "      <td>0.685363</td>\n",
              "      <td>141.333333</td>\n",
              "      <td>143.000000</td>\n",
              "      <td>143.666667</td>\n",
              "      <td>144.000000</td>\n",
              "      <td>144.000000</td>\n",
              "    </tr>\n",
              "    <tr>\n",
              "      <th>1</th>\n",
              "      <td>1797.0</td>\n",
              "      <td>144.931725</td>\n",
              "      <td>0.185132</td>\n",
              "      <td>144.142857</td>\n",
              "      <td>145.000000</td>\n",
              "      <td>145.000000</td>\n",
              "      <td>145.000000</td>\n",
              "      <td>145.000000</td>\n",
              "    </tr>\n",
              "    <tr>\n",
              "      <th>2</th>\n",
              "      <td>1149.0</td>\n",
              "      <td>145.977392</td>\n",
              "      <td>0.115213</td>\n",
              "      <td>145.333333</td>\n",
              "      <td>146.000000</td>\n",
              "      <td>146.000000</td>\n",
              "      <td>146.000000</td>\n",
              "      <td>146.000000</td>\n",
              "    </tr>\n",
              "    <tr>\n",
              "      <th>3</th>\n",
              "      <td>1216.0</td>\n",
              "      <td>146.530702</td>\n",
              "      <td>0.163882</td>\n",
              "      <td>146.333333</td>\n",
              "      <td>146.333333</td>\n",
              "      <td>146.666667</td>\n",
              "      <td>146.666667</td>\n",
              "      <td>146.666667</td>\n",
              "    </tr>\n",
              "    <tr>\n",
              "      <th>4</th>\n",
              "      <td>1109.0</td>\n",
              "      <td>147.318906</td>\n",
              "      <td>0.487296</td>\n",
              "      <td>147.000000</td>\n",
              "      <td>147.000000</td>\n",
              "      <td>147.000000</td>\n",
              "      <td>147.666667</td>\n",
              "      <td>148.333333</td>\n",
              "    </tr>\n",
              "    <tr>\n",
              "      <th>5</th>\n",
              "      <td>2187.0</td>\n",
              "      <td>149.809197</td>\n",
              "      <td>0.357097</td>\n",
              "      <td>148.666667</td>\n",
              "      <td>149.666667</td>\n",
              "      <td>150.000000</td>\n",
              "      <td>150.000000</td>\n",
              "      <td>150.000000</td>\n",
              "    </tr>\n",
              "    <tr>\n",
              "      <th>6</th>\n",
              "      <td>284.0</td>\n",
              "      <td>151.505533</td>\n",
              "      <td>0.520773</td>\n",
              "      <td>150.333333</td>\n",
              "      <td>151.000000</td>\n",
              "      <td>152.000000</td>\n",
              "      <td>152.000000</td>\n",
              "      <td>152.000000</td>\n",
              "    </tr>\n",
              "    <tr>\n",
              "      <th>7</th>\n",
              "      <td>1089.0</td>\n",
              "      <td>154.874743</td>\n",
              "      <td>1.290596</td>\n",
              "      <td>152.666667</td>\n",
              "      <td>155.000000</td>\n",
              "      <td>155.000000</td>\n",
              "      <td>155.000000</td>\n",
              "      <td>159.333333</td>\n",
              "    </tr>\n",
              "    <tr>\n",
              "      <th>8</th>\n",
              "      <td>1235.0</td>\n",
              "      <td>159.998920</td>\n",
              "      <td>0.018947</td>\n",
              "      <td>159.666667</td>\n",
              "      <td>160.000000</td>\n",
              "      <td>160.000000</td>\n",
              "      <td>160.000000</td>\n",
              "      <td>160.000000</td>\n",
              "    </tr>\n",
              "    <tr>\n",
              "      <th>9</th>\n",
              "      <td>1120.0</td>\n",
              "      <td>196.275836</td>\n",
              "      <td>67.666616</td>\n",
              "      <td>160.333333</td>\n",
              "      <td>167.000000</td>\n",
              "      <td>170.000000</td>\n",
              "      <td>180.000000</td>\n",
              "      <td>487.000000</td>\n",
              "    </tr>\n",
              "  </tbody>\n",
              "</table>\n",
              "</div>\n",
              "      <button class=\"colab-df-convert\" onclick=\"convertToInteractive('df-4d8acff5-0481-4731-92d4-2317dcec3fc4')\"\n",
              "              title=\"Convert this dataframe to an interactive table.\"\n",
              "              style=\"display:none;\">\n",
              "        \n",
              "  <svg xmlns=\"http://www.w3.org/2000/svg\" height=\"24px\"viewBox=\"0 0 24 24\"\n",
              "       width=\"24px\">\n",
              "    <path d=\"M0 0h24v24H0V0z\" fill=\"none\"/>\n",
              "    <path d=\"M18.56 5.44l.94 2.06.94-2.06 2.06-.94-2.06-.94-.94-2.06-.94 2.06-2.06.94zm-11 1L8.5 8.5l.94-2.06 2.06-.94-2.06-.94L8.5 2.5l-.94 2.06-2.06.94zm10 10l.94 2.06.94-2.06 2.06-.94-2.06-.94-.94-2.06-.94 2.06-2.06.94z\"/><path d=\"M17.41 7.96l-1.37-1.37c-.4-.4-.92-.59-1.43-.59-.52 0-1.04.2-1.43.59L10.3 9.45l-7.72 7.72c-.78.78-.78 2.05 0 2.83L4 21.41c.39.39.9.59 1.41.59.51 0 1.02-.2 1.41-.59l7.78-7.78 2.81-2.81c.8-.78.8-2.07 0-2.86zM5.41 20L4 18.59l7.72-7.72 1.47 1.35L5.41 20z\"/>\n",
              "  </svg>\n",
              "      </button>\n",
              "      \n",
              "  <style>\n",
              "    .colab-df-container {\n",
              "      display:flex;\n",
              "      flex-wrap:wrap;\n",
              "      gap: 12px;\n",
              "    }\n",
              "\n",
              "    .colab-df-convert {\n",
              "      background-color: #E8F0FE;\n",
              "      border: none;\n",
              "      border-radius: 50%;\n",
              "      cursor: pointer;\n",
              "      display: none;\n",
              "      fill: #1967D2;\n",
              "      height: 32px;\n",
              "      padding: 0 0 0 0;\n",
              "      width: 32px;\n",
              "    }\n",
              "\n",
              "    .colab-df-convert:hover {\n",
              "      background-color: #E2EBFA;\n",
              "      box-shadow: 0px 1px 2px rgba(60, 64, 67, 0.3), 0px 1px 3px 1px rgba(60, 64, 67, 0.15);\n",
              "      fill: #174EA6;\n",
              "    }\n",
              "\n",
              "    [theme=dark] .colab-df-convert {\n",
              "      background-color: #3B4455;\n",
              "      fill: #D2E3FC;\n",
              "    }\n",
              "\n",
              "    [theme=dark] .colab-df-convert:hover {\n",
              "      background-color: #434B5C;\n",
              "      box-shadow: 0px 1px 3px 1px rgba(0, 0, 0, 0.15);\n",
              "      filter: drop-shadow(0px 1px 2px rgba(0, 0, 0, 0.3));\n",
              "      fill: #FFFFFF;\n",
              "    }\n",
              "  </style>\n",
              "\n",
              "      <script>\n",
              "        const buttonEl =\n",
              "          document.querySelector('#df-4d8acff5-0481-4731-92d4-2317dcec3fc4 button.colab-df-convert');\n",
              "        buttonEl.style.display =\n",
              "          google.colab.kernel.accessAllowed ? 'block' : 'none';\n",
              "\n",
              "        async function convertToInteractive(key) {\n",
              "          const element = document.querySelector('#df-4d8acff5-0481-4731-92d4-2317dcec3fc4');\n",
              "          const dataTable =\n",
              "            await google.colab.kernel.invokeFunction('convertToInteractive',\n",
              "                                                     [key], {});\n",
              "          if (!dataTable) return;\n",
              "\n",
              "          const docLinkHtml = 'Like what you see? Visit the ' +\n",
              "            '<a target=\"_blank\" href=https://colab.research.google.com/notebooks/data_table.ipynb>data table notebook</a>'\n",
              "            + ' to learn more about interactive tables.';\n",
              "          element.innerHTML = '';\n",
              "          dataTable['output_type'] = 'display_data';\n",
              "          await google.colab.output.renderOutput(dataTable, element);\n",
              "          const docLink = document.createElement('div');\n",
              "          docLink.innerHTML = docLinkHtml;\n",
              "          element.appendChild(docLink);\n",
              "        }\n",
              "      </script>\n",
              "    </div>\n",
              "  </div>\n",
              "  "
            ]
          },
          "metadata": {},
          "execution_count": 35
        }
      ],
      "source": [
        "df.groupby('DecileRankrendafamiliarposdfsemmiseria')['renda_per_capita_pos_df_sem_miseria'].describe()\n"
      ]
    },
    {
      "cell_type": "code",
      "execution_count": null,
      "metadata": {
        "colab": {
          "base_uri": "https://localhost:8080/",
          "height": 394
        },
        "id": "zGEGka8lPvFN",
        "outputId": "936d74d4-475e-40a0-a514-159218229e19"
      },
      "outputs": [
        {
          "output_type": "execute_result",
          "data": {
            "text/plain": [
              "                                       count        mean        std  \\\n",
              "DecileRankrendafamiliarposabdfsocial                                  \n",
              "0                                     1308.0  127.381295  19.040865   \n",
              "1                                     1474.0  171.371309  10.049838   \n",
              "2                                     1138.0  194.643269   6.403579   \n",
              "3                                     1310.0  216.143787   5.636484   \n",
              "4                                     1319.0  241.076465   7.159205   \n",
              "5                                     1496.0  270.909521   9.149255   \n",
              "6                                     1196.0  302.960424  10.239760   \n",
              "7                                     1239.0  335.836427  10.935163   \n",
              "8                                     1756.0  476.031986  80.740578   \n",
              "9                                      829.0  601.721351  28.870413   \n",
              "\n",
              "                                             min         25%         50%  \\\n",
              "DecileRankrendafamiliarposabdfsocial                                       \n",
              "0                                      48.833333  111.937500  135.571429   \n",
              "1                                     150.500000  162.500000  173.000000   \n",
              "2                                     183.500000  187.500000  194.333333   \n",
              "3                                     206.333333  212.500000  216.333333   \n",
              "4                                     227.500000  233.333333  239.333333   \n",
              "5                                     250.333333  263.333333  275.000000   \n",
              "6                                     283.500000  295.000000  300.000000   \n",
              "7                                     317.333333  325.000000  335.000000   \n",
              "8                                     350.333333  387.000000  550.000000   \n",
              "9                                     551.000000  583.000000  600.000000   \n",
              "\n",
              "                                             75%         max  \n",
              "DecileRankrendafamiliarposabdfsocial                          \n",
              "0                                     140.000000  150.000000  \n",
              "1                                     182.500000  183.333333  \n",
              "2                                     199.500000  206.000000  \n",
              "3                                     220.500000  227.333333  \n",
              "4                                     249.333333  250.000000  \n",
              "5                                     275.500000  283.333333  \n",
              "6                                     314.000000  316.333333  \n",
              "7                                     349.333333  350.000000  \n",
              "8                                     550.000000  550.000000  \n",
              "9                                     620.000000  756.000000  "
            ],
            "text/html": [
              "\n",
              "  <div id=\"df-b4fa2402-22bb-41c6-9983-6cd179423fcb\">\n",
              "    <div class=\"colab-df-container\">\n",
              "      <div>\n",
              "<style scoped>\n",
              "    .dataframe tbody tr th:only-of-type {\n",
              "        vertical-align: middle;\n",
              "    }\n",
              "\n",
              "    .dataframe tbody tr th {\n",
              "        vertical-align: top;\n",
              "    }\n",
              "\n",
              "    .dataframe thead th {\n",
              "        text-align: right;\n",
              "    }\n",
              "</style>\n",
              "<table border=\"1\" class=\"dataframe\">\n",
              "  <thead>\n",
              "    <tr style=\"text-align: right;\">\n",
              "      <th></th>\n",
              "      <th>count</th>\n",
              "      <th>mean</th>\n",
              "      <th>std</th>\n",
              "      <th>min</th>\n",
              "      <th>25%</th>\n",
              "      <th>50%</th>\n",
              "      <th>75%</th>\n",
              "      <th>max</th>\n",
              "    </tr>\n",
              "    <tr>\n",
              "      <th>DecileRankrendafamiliarposabdfsocial</th>\n",
              "      <th></th>\n",
              "      <th></th>\n",
              "      <th></th>\n",
              "      <th></th>\n",
              "      <th></th>\n",
              "      <th></th>\n",
              "      <th></th>\n",
              "      <th></th>\n",
              "    </tr>\n",
              "  </thead>\n",
              "  <tbody>\n",
              "    <tr>\n",
              "      <th>0</th>\n",
              "      <td>1308.0</td>\n",
              "      <td>127.381295</td>\n",
              "      <td>19.040865</td>\n",
              "      <td>48.833333</td>\n",
              "      <td>111.937500</td>\n",
              "      <td>135.571429</td>\n",
              "      <td>140.000000</td>\n",
              "      <td>150.000000</td>\n",
              "    </tr>\n",
              "    <tr>\n",
              "      <th>1</th>\n",
              "      <td>1474.0</td>\n",
              "      <td>171.371309</td>\n",
              "      <td>10.049838</td>\n",
              "      <td>150.500000</td>\n",
              "      <td>162.500000</td>\n",
              "      <td>173.000000</td>\n",
              "      <td>182.500000</td>\n",
              "      <td>183.333333</td>\n",
              "    </tr>\n",
              "    <tr>\n",
              "      <th>2</th>\n",
              "      <td>1138.0</td>\n",
              "      <td>194.643269</td>\n",
              "      <td>6.403579</td>\n",
              "      <td>183.500000</td>\n",
              "      <td>187.500000</td>\n",
              "      <td>194.333333</td>\n",
              "      <td>199.500000</td>\n",
              "      <td>206.000000</td>\n",
              "    </tr>\n",
              "    <tr>\n",
              "      <th>3</th>\n",
              "      <td>1310.0</td>\n",
              "      <td>216.143787</td>\n",
              "      <td>5.636484</td>\n",
              "      <td>206.333333</td>\n",
              "      <td>212.500000</td>\n",
              "      <td>216.333333</td>\n",
              "      <td>220.500000</td>\n",
              "      <td>227.333333</td>\n",
              "    </tr>\n",
              "    <tr>\n",
              "      <th>4</th>\n",
              "      <td>1319.0</td>\n",
              "      <td>241.076465</td>\n",
              "      <td>7.159205</td>\n",
              "      <td>227.500000</td>\n",
              "      <td>233.333333</td>\n",
              "      <td>239.333333</td>\n",
              "      <td>249.333333</td>\n",
              "      <td>250.000000</td>\n",
              "    </tr>\n",
              "    <tr>\n",
              "      <th>5</th>\n",
              "      <td>1496.0</td>\n",
              "      <td>270.909521</td>\n",
              "      <td>9.149255</td>\n",
              "      <td>250.333333</td>\n",
              "      <td>263.333333</td>\n",
              "      <td>275.000000</td>\n",
              "      <td>275.500000</td>\n",
              "      <td>283.333333</td>\n",
              "    </tr>\n",
              "    <tr>\n",
              "      <th>6</th>\n",
              "      <td>1196.0</td>\n",
              "      <td>302.960424</td>\n",
              "      <td>10.239760</td>\n",
              "      <td>283.500000</td>\n",
              "      <td>295.000000</td>\n",
              "      <td>300.000000</td>\n",
              "      <td>314.000000</td>\n",
              "      <td>316.333333</td>\n",
              "    </tr>\n",
              "    <tr>\n",
              "      <th>7</th>\n",
              "      <td>1239.0</td>\n",
              "      <td>335.836427</td>\n",
              "      <td>10.935163</td>\n",
              "      <td>317.333333</td>\n",
              "      <td>325.000000</td>\n",
              "      <td>335.000000</td>\n",
              "      <td>349.333333</td>\n",
              "      <td>350.000000</td>\n",
              "    </tr>\n",
              "    <tr>\n",
              "      <th>8</th>\n",
              "      <td>1756.0</td>\n",
              "      <td>476.031986</td>\n",
              "      <td>80.740578</td>\n",
              "      <td>350.333333</td>\n",
              "      <td>387.000000</td>\n",
              "      <td>550.000000</td>\n",
              "      <td>550.000000</td>\n",
              "      <td>550.000000</td>\n",
              "    </tr>\n",
              "    <tr>\n",
              "      <th>9</th>\n",
              "      <td>829.0</td>\n",
              "      <td>601.721351</td>\n",
              "      <td>28.870413</td>\n",
              "      <td>551.000000</td>\n",
              "      <td>583.000000</td>\n",
              "      <td>600.000000</td>\n",
              "      <td>620.000000</td>\n",
              "      <td>756.000000</td>\n",
              "    </tr>\n",
              "  </tbody>\n",
              "</table>\n",
              "</div>\n",
              "      <button class=\"colab-df-convert\" onclick=\"convertToInteractive('df-b4fa2402-22bb-41c6-9983-6cd179423fcb')\"\n",
              "              title=\"Convert this dataframe to an interactive table.\"\n",
              "              style=\"display:none;\">\n",
              "        \n",
              "  <svg xmlns=\"http://www.w3.org/2000/svg\" height=\"24px\"viewBox=\"0 0 24 24\"\n",
              "       width=\"24px\">\n",
              "    <path d=\"M0 0h24v24H0V0z\" fill=\"none\"/>\n",
              "    <path d=\"M18.56 5.44l.94 2.06.94-2.06 2.06-.94-2.06-.94-.94-2.06-.94 2.06-2.06.94zm-11 1L8.5 8.5l.94-2.06 2.06-.94-2.06-.94L8.5 2.5l-.94 2.06-2.06.94zm10 10l.94 2.06.94-2.06 2.06-.94-2.06-.94-.94-2.06-.94 2.06-2.06.94z\"/><path d=\"M17.41 7.96l-1.37-1.37c-.4-.4-.92-.59-1.43-.59-.52 0-1.04.2-1.43.59L10.3 9.45l-7.72 7.72c-.78.78-.78 2.05 0 2.83L4 21.41c.39.39.9.59 1.41.59.51 0 1.02-.2 1.41-.59l7.78-7.78 2.81-2.81c.8-.78.8-2.07 0-2.86zM5.41 20L4 18.59l7.72-7.72 1.47 1.35L5.41 20z\"/>\n",
              "  </svg>\n",
              "      </button>\n",
              "      \n",
              "  <style>\n",
              "    .colab-df-container {\n",
              "      display:flex;\n",
              "      flex-wrap:wrap;\n",
              "      gap: 12px;\n",
              "    }\n",
              "\n",
              "    .colab-df-convert {\n",
              "      background-color: #E8F0FE;\n",
              "      border: none;\n",
              "      border-radius: 50%;\n",
              "      cursor: pointer;\n",
              "      display: none;\n",
              "      fill: #1967D2;\n",
              "      height: 32px;\n",
              "      padding: 0 0 0 0;\n",
              "      width: 32px;\n",
              "    }\n",
              "\n",
              "    .colab-df-convert:hover {\n",
              "      background-color: #E2EBFA;\n",
              "      box-shadow: 0px 1px 2px rgba(60, 64, 67, 0.3), 0px 1px 3px 1px rgba(60, 64, 67, 0.15);\n",
              "      fill: #174EA6;\n",
              "    }\n",
              "\n",
              "    [theme=dark] .colab-df-convert {\n",
              "      background-color: #3B4455;\n",
              "      fill: #D2E3FC;\n",
              "    }\n",
              "\n",
              "    [theme=dark] .colab-df-convert:hover {\n",
              "      background-color: #434B5C;\n",
              "      box-shadow: 0px 1px 3px 1px rgba(0, 0, 0, 0.15);\n",
              "      filter: drop-shadow(0px 1px 2px rgba(0, 0, 0, 0.3));\n",
              "      fill: #FFFFFF;\n",
              "    }\n",
              "  </style>\n",
              "\n",
              "      <script>\n",
              "        const buttonEl =\n",
              "          document.querySelector('#df-b4fa2402-22bb-41c6-9983-6cd179423fcb button.colab-df-convert');\n",
              "        buttonEl.style.display =\n",
              "          google.colab.kernel.accessAllowed ? 'block' : 'none';\n",
              "\n",
              "        async function convertToInteractive(key) {\n",
              "          const element = document.querySelector('#df-b4fa2402-22bb-41c6-9983-6cd179423fcb');\n",
              "          const dataTable =\n",
              "            await google.colab.kernel.invokeFunction('convertToInteractive',\n",
              "                                                     [key], {});\n",
              "          if (!dataTable) return;\n",
              "\n",
              "          const docLinkHtml = 'Like what you see? Visit the ' +\n",
              "            '<a target=\"_blank\" href=https://colab.research.google.com/notebooks/data_table.ipynb>data table notebook</a>'\n",
              "            + ' to learn more about interactive tables.';\n",
              "          element.innerHTML = '';\n",
              "          dataTable['output_type'] = 'display_data';\n",
              "          await google.colab.output.renderOutput(dataTable, element);\n",
              "          const docLink = document.createElement('div');\n",
              "          docLink.innerHTML = docLinkHtml;\n",
              "          element.appendChild(docLink);\n",
              "        }\n",
              "      </script>\n",
              "    </div>\n",
              "  </div>\n",
              "  "
            ]
          },
          "metadata": {},
          "execution_count": 45
        }
      ],
      "source": [
        "df.groupby('DecileRankrendafamiliarposabdfsocial')['renda_per_capita_pos_ab_df'].describe()\n"
      ]
    },
    {
      "cell_type": "code",
      "source": [
        "plt.figure(figsize=(15,5))\n",
        "sns.catplot(y='renda_per_capita_pos_df_sem_miseria', x='DecileRankrendafamiliarposdfsemmiseria', data=df, kind=\"bar\")\n",
        "sns.catplot(y='renda_per_capita_pos_ab_df', x='DecileRankrendafamiliarposabdfsocial', data=df, kind=\"bar\")\n"
      ],
      "metadata": {
        "colab": {
          "base_uri": "https://localhost:8080/",
          "height": 756
        },
        "id": "JwDPjBJoGDSI",
        "outputId": "d0b9952b-0ed9-4cd6-bf83-ad19fbbe5bb6"
      },
      "execution_count": null,
      "outputs": [
        {
          "output_type": "execute_result",
          "data": {
            "text/plain": [
              "<seaborn.axisgrid.FacetGrid at 0x7f1148ce1590>"
            ]
          },
          "metadata": {},
          "execution_count": 46
        },
        {
          "output_type": "display_data",
          "data": {
            "text/plain": [
              "<Figure size 1080x360 with 0 Axes>"
            ]
          },
          "metadata": {}
        },
        {
          "output_type": "display_data",
          "data": {
            "text/plain": [
              "<Figure size 360x360 with 1 Axes>"
            ],
            "image/png": "[encoded data removed]"
          },
          "metadata": {
            "needs_background": "light"
          }
        },
        {
          "output_type": "display_data",
          "data": {
            "text/plain": [
              "<Figure size 360x360 with 1 Axes>"
            ],
            "image/png": "[encoded data removed]"
          },
          "metadata": {
            "needs_background": "light"
          }
        }
      ]
    },
    {
      "cell_type": "code",
      "source": [
        "sns.catplot(y='renda_percapita_pos_auxilio_brasil', x='DecileRankrendapercapitaposauxliobrasil', data=df, kind=\"bar\")\n"
      ],
      "metadata": {
        "id": "2bjVe0fIBhtE",
        "colab": {
          "base_uri": "https://localhost:8080/",
          "height": 386
        },
        "outputId": "e0644ec8-4808-4f5c-a554-27b6e687b57a"
      },
      "execution_count": null,
      "outputs": [
        {
          "output_type": "execute_result",
          "data": {
            "text/plain": [
              "<seaborn.axisgrid.FacetGrid at 0x7f1148c05110>"
            ]
          },
          "metadata": {},
          "execution_count": 47
        },
        {
          "output_type": "display_data",
          "data": {
            "text/plain": [
              "<Figure size 360x360 with 1 Axes>"
            ],
            "image/png": "[encoded data removed]"
          },
          "metadata": {
            "needs_background": "light"
          }
        }
      ]
    },
    {
      "cell_type": "code",
      "source": [
        "sns.catplot(y='renda_percapita_pos_auxilio_brasil', x='DecileRankrendapercapitaposauxliobrasil', data=df, kind=\"bar\")\n"
      ],
      "metadata": {
        "id": "LPNpGslZGi7s"
      },
      "execution_count": null,
      "outputs": []
    }
  ],
  "metadata": {
    "colab": {
      "name": "Gini.ipynb",
      "provenance": [],
      "authorship_tag": "ABX9TyNcL0oM4HxqZyX9ISsfJmOK",
      "include_colab_link": true
    },
    "kernelspec": {
      "display_name": "Python 3",
      "name": "python3"
    },
    "language_info": {
      "name": "python"
    }
  },
  "nbformat": 4,
  "nbformat_minor": 0
}