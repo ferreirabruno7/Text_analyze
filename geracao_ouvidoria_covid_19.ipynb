{
  "nbformat": 4,
  "nbformat_minor": 0,
  "metadata": {
    "colab": {
      "name": "geracao_ouvidoria_covid_19",
      "provenance": [],
      "include_colab_link": true
    },
    "kernelspec": {
      "name": "python3",
      "display_name": "Python 3"
    }
  },
  "cells": [
    {
      "cell_type": "markdown",
      "metadata": {
        "id": "view-in-github",
        "colab_type": "text"
      },
      "source": [
        "<a href=\"https://colab.research.google.com/github/ferreirabruno7/Text_analyze/blob/master/geracao_ouvidoria_covid_19.ipynb\" target=\"_parent\"><img src=\"https://colab.research.google.com/assets/colab-badge.svg\" alt=\"Open In Colab\"/></a>"
      ]
    },
    {
      "cell_type": "code",
      "metadata": {
        "id": "3WHkYnF--xc4",
        "colab_type": "code",
        "outputId": "174daa19-b3ab-41d9-c9d5-d52afce14485",
        "colab": {
          "base_uri": "https://localhost:8080/",
          "height": 68
        }
      },
      "source": [
        ""
      ],
      "execution_count": 0,
      "outputs": [
        {
          "output_type": "stream",
          "text": [
            "[nltk_data] Downloading package punkt to /root/nltk_data...\n",
            "[nltk_data]   Package punkt is already up-to-date!\n"
          ],
          "name": "stdout"
        },
        {
          "output_type": "execute_result",
          "data": {
            "text/plain": [
              "True"
            ]
          },
          "metadata": {
            "tags": []
          },
          "execution_count": 1
        }
      ]
    },
    {
      "cell_type": "markdown",
      "metadata": {
        "id": "WucvMiF-RX7O",
        "colab_type": "text"
      },
      "source": [
        "Abordage 1 - Carregamento de dados"
      ]
    },
    {
      "cell_type": "code",
      "metadata": {
        "id": "0AjHUXb9RXLE",
        "colab_type": "code",
        "outputId": "d329a5ba-bbe1-42b5-ea45-7c0f6e8704da",
        "colab": {
          "base_uri": "https://localhost:8080/",
          "height": 136
        }
      },
      "source": [
        "import nltk\n",
        "import urllib\n",
        "import bs4 as bs\n",
        "import re\n",
        "from gensim.models import Word2Vec\n",
        "import pandas as pd\n",
        "nltk.download('punkt')\n",
        "nltk.download('wordnet')\n",
        "nltk.download('stopwords')"
      ],
      "execution_count": 0,
      "outputs": [
        {
          "output_type": "stream",
          "text": [
            "[nltk_data] Downloading package punkt to /root/nltk_data...\n",
            "[nltk_data]   Unzipping tokenizers/punkt.zip.\n",
            "[nltk_data] Downloading package wordnet to /root/nltk_data...\n",
            "[nltk_data]   Unzipping corpora/wordnet.zip.\n",
            "[nltk_data] Downloading package stopwords to /root/nltk_data...\n",
            "[nltk_data]   Unzipping corpora/stopwords.zip.\n"
          ],
          "name": "stdout"
        },
        {
          "output_type": "execute_result",
          "data": {
            "text/plain": [
              "True"
            ]
          },
          "metadata": {
            "tags": []
          },
          "execution_count": 1
        }
      ]
    },
    {
      "cell_type": "markdown",
      "metadata": {
        "id": "IG_RE1nMRVuf",
        "colab_type": "text"
      },
      "source": [
        ""
      ]
    },
    {
      "cell_type": "code",
      "metadata": {
        "id": "0vpLzu1pLovu",
        "colab_type": "code",
        "outputId": "40156947-558a-4612-a69a-61f439edc73f",
        "colab": {
          "base_uri": "https://localhost:8080/",
          "height": 122
        }
      },
      "source": [
        "#acessar google drive\n",
        "from google.colab import drive\n",
        "drive.mount('/content/drive', force_remount=True)"
      ],
      "execution_count": 0,
      "outputs": [
        {
          "output_type": "stream",
          "text": [
            "Go to this URL in a browser: https://accounts.google.com/o/oauth2/auth?client_id=947318989803-6bn6qk8qdgf4n4g3pfee6491hc0brc4i.apps.googleusercontent.com&redirect_uri=urn%3aietf%3awg%3aoauth%3a2.0%3aoob&response_type=code&scope=email%20https%3a%2f%2fwww.googleapis.com%2fauth%2fdocs.test%20https%3a%2f%2fwww.googleapis.com%2fauth%2fdrive%20https%3a%2f%2fwww.googleapis.com%2fauth%2fdrive.photos.readonly%20https%3a%2f%2fwww.googleapis.com%2fauth%2fpeopleapi.readonly\n",
            "\n",
            "Enter your authorization code:\n",
            "··········\n",
            "Mounted at /content/drive\n"
          ],
          "name": "stdout"
        }
      ]
    },
    {
      "cell_type": "code",
      "metadata": {
        "id": "tB5lv97RLF-n",
        "colab_type": "code",
        "outputId": "81fe3f76-740c-49b4-c6e4-176268d9a331",
        "colab": {
          "base_uri": "https://localhost:8080/",
          "height": 479
        }
      },
      "source": [
        "comentarios = pd.read_csv(\"/content/drive/My Drive/Colab Notebooks/ouvidoria_covid_19_v2.csv\", delimiter = ';', encoding='iso-8859-1')\n",
        "comentarios.head()"
      ],
      "execution_count": 0,
      "outputs": [
        {
          "output_type": "execute_result",
          "data": {
            "text/html": [
              "<div>\n",
              "<style scoped>\n",
              "    .dataframe tbody tr th:only-of-type {\n",
              "        vertical-align: middle;\n",
              "    }\n",
              "\n",
              "    .dataframe tbody tr th {\n",
              "        vertical-align: top;\n",
              "    }\n",
              "\n",
              "    .dataframe thead th {\n",
              "        text-align: right;\n",
              "    }\n",
              "</style>\n",
              "<table border=\"1\" class=\"dataframe\">\n",
              "  <thead>\n",
              "    <tr style=\"text-align: right;\">\n",
              "      <th></th>\n",
              "      <th>protocolo</th>\n",
              "      <th>data_manifestacao</th>\n",
              "      <th>manifestacao</th>\n",
              "      <th>municipio_denunciante</th>\n",
              "      <th>municipio_fato</th>\n",
              "      <th>localFato</th>\n",
              "      <th>status_atual</th>\n",
              "      <th>desc_status</th>\n",
              "      <th>sigla</th>\n",
              "      <th>nome</th>\n",
              "      <th>tipo_manifestacao</th>\n",
              "      <th>assunto</th>\n",
              "      <th>sub_assunto</th>\n",
              "    </tr>\n",
              "  </thead>\n",
              "  <tbody>\n",
              "    <tr>\n",
              "      <th>0</th>\n",
              "      <td>2020.0314.215152-35</td>\n",
              "      <td>2020-03-14 21:51:52</td>\n",
              "      <td>Elogio com sugestão de ações</td>\n",
              "      <td>NaN</td>\n",
              "      <td>GOIANIA</td>\n",
              "      <td>Setor Candida de Morais</td>\n",
              "      <td>55</td>\n",
              "      <td>Finalizado pela ouvidoria do Órgão.</td>\n",
              "      <td>SGG/GOVERNADORIA</td>\n",
              "      <td>Secretaria Geral da Governadoria</td>\n",
              "      <td>Elogio</td>\n",
              "      <td>Saúde</td>\n",
              "      <td>Corona Vírus - Denúncia, solicitação ou inform...</td>\n",
              "    </tr>\n",
              "    <tr>\n",
              "      <th>1</th>\n",
              "      <td>2020.0316.083654-7</td>\n",
              "      <td>2020-03-16 08:36:54</td>\n",
              "      <td>Escolas fechadasEscritórios fechadosShopping v...</td>\n",
              "      <td>NaN</td>\n",
              "      <td>FORMOSA</td>\n",
              "      <td>Case</td>\n",
              "      <td>55</td>\n",
              "      <td>Finalizado pela ouvidoria do Órgão.</td>\n",
              "      <td>SEDS</td>\n",
              "      <td>Secretaria de Estado de Desenvolvimento Social...</td>\n",
              "      <td>Comunicação</td>\n",
              "      <td>COVID-19 - Corona Vírus</td>\n",
              "      <td>Estabelecimento aberto</td>\n",
              "    </tr>\n",
              "    <tr>\n",
              "      <th>2</th>\n",
              "      <td>2020.0316.203054-88</td>\n",
              "      <td>2020-03-16 20:30:54</td>\n",
              "      <td>Na empresa BTCC (prestadora de Serviços para O...</td>\n",
              "      <td>NaN</td>\n",
              "      <td>GOIANIA</td>\n",
              "      <td>Vila Redenção</td>\n",
              "      <td>55</td>\n",
              "      <td>Finalizado pela ouvidoria do Órgão.</td>\n",
              "      <td>SES</td>\n",
              "      <td>Secretaria de Estado da Saúde</td>\n",
              "      <td>Comunicação</td>\n",
              "      <td>Saúde</td>\n",
              "      <td>Corona Vírus - Denúncia, solicitação ou inform...</td>\n",
              "    </tr>\n",
              "    <tr>\n",
              "      <th>3</th>\n",
              "      <td>2020.0317.091024-64</td>\n",
              "      <td>2020-03-17 09:10:24</td>\n",
              "      <td>O reclamante, Sr. Marcos Vinícius de Araújo, d...</td>\n",
              "      <td>NaN</td>\n",
              "      <td>GOIANIA</td>\n",
              "      <td>Via pública</td>\n",
              "      <td>55</td>\n",
              "      <td>Finalizado pela ouvidoria do Órgão.</td>\n",
              "      <td>SSP</td>\n",
              "      <td>Sec. Estado da Segurança Pública (Policias Civ...</td>\n",
              "      <td>Reclamação</td>\n",
              "      <td>COVID-19 - Corona Vírus</td>\n",
              "      <td>Estabelecimento aberto</td>\n",
              "    </tr>\n",
              "    <tr>\n",
              "      <th>4</th>\n",
              "      <td>2020.0318.081504-41</td>\n",
              "      <td>2020-03-18 08:15:04</td>\n",
              "      <td>Considerando o decreto do Sr. Governador quant...</td>\n",
              "      <td>NaN</td>\n",
              "      <td>ANAPOLIS</td>\n",
              "      <td>Vapt Vupt</td>\n",
              "      <td>55</td>\n",
              "      <td>Finalizado pela ouvidoria do Órgão.</td>\n",
              "      <td>SEAD</td>\n",
              "      <td>Secretaria de Estado de Administração (Antiga ...</td>\n",
              "      <td>Comunicação</td>\n",
              "      <td>Saúde</td>\n",
              "      <td>Corona Vírus - Denúncia, solicitação ou inform...</td>\n",
              "    </tr>\n",
              "  </tbody>\n",
              "</table>\n",
              "</div>"
            ],
            "text/plain": [
              "             protocolo  ...                                        sub_assunto\n",
              "0  2020.0314.215152-35  ...  Corona Vírus - Denúncia, solicitação ou inform...\n",
              "1   2020.0316.083654-7  ...                             Estabelecimento aberto\n",
              "2  2020.0316.203054-88  ...  Corona Vírus - Denúncia, solicitação ou inform...\n",
              "3  2020.0317.091024-64  ...                             Estabelecimento aberto\n",
              "4  2020.0318.081504-41  ...  Corona Vírus - Denúncia, solicitação ou inform...\n",
              "\n",
              "[5 rows x 13 columns]"
            ]
          },
          "metadata": {
            "tags": []
          },
          "execution_count": 3
        }
      ]
    },
    {
      "cell_type": "code",
      "metadata": {
        "id": "rsSQv3aI1MUH",
        "colab_type": "code",
        "outputId": "17bc4eac-64cc-4a4f-c962-c6610037b505",
        "colab": {
          "base_uri": "https://localhost:8080/",
          "height": 68
        }
      },
      "source": [
        "nltk.download('webtext')"
      ],
      "execution_count": 0,
      "outputs": [
        {
          "output_type": "stream",
          "text": [
            "[nltk_data] Downloading package webtext to /root/nltk_data...\n",
            "[nltk_data]   Unzipping corpora/webtext.zip.\n"
          ],
          "name": "stdout"
        },
        {
          "output_type": "execute_result",
          "data": {
            "text/plain": [
              "True"
            ]
          },
          "metadata": {
            "tags": []
          },
          "execution_count": 4
        }
      ]
    },
    {
      "cell_type": "code",
      "metadata": {
        "id": "-6clj-fwgEOj",
        "colab_type": "code",
        "colab": {}
      },
      "source": [
        "#transformar coluna em lista\n",
        "col_one_list = comentarios['manifestacao'].tolist()\n",
        "texto = str(col_one_list)\n"
      ],
      "execution_count": 0,
      "outputs": []
    },
    {
      "cell_type": "code",
      "metadata": {
        "id": "snmdstXARmzv",
        "colab_type": "code",
        "colab": {}
      },
      "source": [
        ""
      ],
      "execution_count": 0,
      "outputs": []
    },
    {
      "cell_type": "code",
      "metadata": {
        "id": "p162mJpYgIcL",
        "colab_type": "code",
        "outputId": "e11be80e-1c86-4e8d-9d3a-1fb7a6cf0a40",
        "colab": {
          "base_uri": "https://localhost:8080/",
          "height": 68
        }
      },
      "source": [
        "# conveter lista para texto\n",
        "nltk.download('punkt')\n",
        "texto = str(col_one_list)\n",
        "type(texto)\n",
        "moby_tokens = nltk.word_tokenize(texto)\n",
        "text1 = nltk.Text(moby_tokens)\n",
        "text1"
      ],
      "execution_count": 0,
      "outputs": [
        {
          "output_type": "stream",
          "text": [
            "[nltk_data] Downloading package punkt to /root/nltk_data...\n",
            "[nltk_data]   Package punkt is already up-to-date!\n"
          ],
          "name": "stdout"
        },
        {
          "output_type": "execute_result",
          "data": {
            "text/plain": [
              "<Text: [ 'Elogio com sugestão de ações ' ,...>"
            ]
          },
          "metadata": {
            "tags": []
          },
          "execution_count": 6
        }
      ]
    },
    {
      "cell_type": "code",
      "metadata": {
        "id": "oLa7BZdo1z0t",
        "colab_type": "code",
        "colab": {}
      },
      "source": [
        ""
      ],
      "execution_count": 0,
      "outputs": []
    },
    {
      "cell_type": "code",
      "metadata": {
        "id": "MdP07NicgN-e",
        "colab_type": "code",
        "outputId": "756e1cde-8e51-4931-f153-18950121d7d1",
        "colab": {
          "base_uri": "https://localhost:8080/",
          "height": 34
        }
      },
      "source": [
        "#total de termos no documento\n",
        "from nltk.stem import WordNetLemmatizer\n",
        "\n",
        "def total_termos():\n",
        "\n",
        "    lemmatizer = WordNetLemmatizer()\n",
        "    lemmatized = [lemmatizer.lemmatize(w,'v') for w in text1]\n",
        "\n",
        "    return len(set(lemmatized))\n",
        "\n",
        "total_termos()"
      ],
      "execution_count": 0,
      "outputs": [
        {
          "output_type": "execute_result",
          "data": {
            "text/plain": [
              "13662"
            ]
          },
          "metadata": {
            "tags": []
          },
          "execution_count": 7
        }
      ]
    },
    {
      "cell_type": "code",
      "metadata": {
        "id": "-qCVbgFBtrBM",
        "colab_type": "code",
        "colab": {}
      },
      "source": [
        "#importar bibliotecas bigram\n",
        "from nltk.collocations import BigramCollocationFinder\n",
        "from nltk.metrics import BigramAssocMeasures\n",
        "from nltk.corpus import stopwords"
      ],
      "execution_count": 0,
      "outputs": []
    },
    {
      "cell_type": "code",
      "metadata": {
        "id": "6VyUHFaftv20",
        "colab_type": "code",
        "colab": {}
      },
      "source": [
        "#bigram tokens\n",
        "procurar = BigramCollocationFinder.from_words(moby_tokens)"
      ],
      "execution_count": 0,
      "outputs": []
    },
    {
      "cell_type": "code",
      "metadata": {
        "id": "xwSOWUkctmNP",
        "colab_type": "code",
        "colab": {}
      },
      "source": [
        "#retira stopwords\n",
        "retira = set(stopwords.words('portuguese'))"
      ],
      "execution_count": 0,
      "outputs": []
    },
    {
      "cell_type": "code",
      "metadata": {
        "id": "W9VCdBu1txCu",
        "colab_type": "code",
        "colab": {}
      },
      "source": [
        "filtra = lambda w: len(w) <3 or w in retira"
      ],
      "execution_count": 0,
      "outputs": []
    },
    {
      "cell_type": "code",
      "metadata": {
        "id": "aAcHH2rrt0st",
        "colab_type": "code",
        "colab": {}
      },
      "source": [
        "procurar.apply_word_filter(filtra)"
      ],
      "execution_count": 0,
      "outputs": []
    },
    {
      "cell_type": "code",
      "metadata": {
        "id": "s3wFJKKat2dN",
        "colab_type": "code",
        "outputId": "a6a46e60-077b-4dad-c76d-c980c020e1a4",
        "colab": {
          "base_uri": "https://localhost:8080/",
          "height": 697
        }
      },
      "source": [
        "#bigrams\n",
        "procurar.nbest(BigramAssocMeasures.likelihood_ratio, 40)\n"
      ],
      "execution_count": 0,
      "outputs": [
        {
          "output_type": "execute_result",
          "data": {
            "text/plain": [
              "[('funcionando', 'normalmente'),\n",
              " ('portas', 'fechadas'),\n",
              " (\"'Boa\", 'tarde'),\n",
              " (\"'Bom\", 'dia'),\n",
              " ('corona', 'vírus'),\n",
              " ('Ouvidoria', 'Geral'),\n",
              " ('trabalhando', 'normalmente'),\n",
              " ('Via', '181Interessado'),\n",
              " ('home', 'office'),\n",
              " ('Por', 'favor'),\n",
              " ('pleno', 'funcionamento'),\n",
              " ('tomadas.Manifestação', 'recebida'),\n",
              " ('Rio', 'Verde'),\n",
              " ('Secretario', 'Tarcisio'),\n",
              " ('assistente', 'Amanda'),\n",
              " ('estaduais', 'visando'),\n",
              " ('correndo', 'risco'),\n",
              " ('órgãos', 'municipais'),\n",
              " ('prazos', 'suspensos'),\n",
              " ('OUVIDORIA', 'SERVE'),\n",
              " (\"'Quero\", 'denunciar'),\n",
              " ('sendo', 'obrigados'),\n",
              " ('ESTAMOS', 'VIVENDO'),\n",
              " ('residente', 'morra'),\n",
              " ('contraria', 'TUDO'),\n",
              " ('responsabilizar', 'CIVIL'),\n",
              " ('CONTINUAM', 'ATÉ'),\n",
              " ('ESSA', 'OUVIDORIA'),\n",
              " ('Corona', 'Vírus'),\n",
              " ('Tarcisio', 'Francisco'),\n",
              " ('São', 'Paulo'),\n",
              " ('reclamante', 'disse'),\n",
              " ('PRESENTE', 'DIA'),\n",
              " ('sob', 'ameaça'),\n",
              " ('funcionários', 'trabalhando'),\n",
              " ('Governo', 'Federal'),\n",
              " ('continua', 'funcionando'),\n",
              " ('algum', 'residente'),\n",
              " ('PARA', 'ALGO'),\n",
              " ('SERVE', 'PARA')]"
            ]
          },
          "metadata": {
            "tags": []
          },
          "execution_count": 13
        }
      ]
    },
    {
      "cell_type": "code",
      "metadata": {
        "id": "utaps1Tst4Pl",
        "colab_type": "code",
        "outputId": "20fe84fa-91fe-4501-acc0-d1151405e549",
        "colab": {
          "base_uri": "https://localhost:8080/",
          "height": 1000
        }
      },
      "source": [
        "#termos frequentes com mais de 5 caracteres top 10\n",
        "def termos_frequentes():\n",
        "    dist = nltk.FreqDist(text1)\n",
        "    vocab1 = dist.keys()\n",
        "    freqwords = [w for w in vocab1 if len(w) > 3 and dist[w] > 2]\n",
        "    return sorted(freqwords)\n",
        "\n",
        "termos_frequentes()"
      ],
      "execution_count": 0,
      "outputs": [
        {
          "output_type": "execute_result",
          "data": {
            "text/plain": [
              "[\"'Aglomeração\",\n",
              " \"'Algumas\",\n",
              " \"'Apesar\",\n",
              " \"'Aqui\",\n",
              " \"'Auto\",\n",
              " \"'Avenida\",\n",
              " \"'BOM\",\n",
              " \"'Bar\",\n",
              " \"'Boa\",\n",
              " \"'Bom\",\n",
              " \"'Casa\",\n",
              " \"'Centro\",\n",
              " \"'Clínica\",\n",
              " \"'Comerciantes\",\n",
              " \"'Comercio\",\n",
              " \"'Como\",\n",
              " \"'Comércio\",\n",
              " \"'Comércios\",\n",
              " \"'Concessionária\",\n",
              " \"'Confecção\",\n",
              " \"'Conforme\",\n",
              " \"'Construtora\",\n",
              " \"'Consultório\",\n",
              " \"'DENUNCIA\",\n",
              " \"'Denunciar\",\n",
              " \"'Denuncio\",\n",
              " \"'Denúncia\",\n",
              " \"'Descumprimento\",\n",
              " \"'Devido\",\n",
              " \"'Diante\",\n",
              " \"'Distribuidora\",\n",
              " \"'EMPRESA\",\n",
              " \"'Empresa\",\n",
              " \"'Empresas\",\n",
              " \"'Escola\",\n",
              " \"'Escritório\",\n",
              " \"'Estabelecimento\",\n",
              " \"'Estamos\",\n",
              " \"'Estou\",\n",
              " \"'Está\",\n",
              " \"'Estão\",\n",
              " \"'Existe\",\n",
              " \"'Existem\",\n",
              " \"'Faculdade\",\n",
              " \"'Ferragista\",\n",
              " \"'Fui\",\n",
              " \"'Funcionamento\",\n",
              " \"'Funcionários\",\n",
              " \"'Fábrica\",\n",
              " \"'Gostaria\",\n",
              " \"'Grande\",\n",
              " \"'Grupo\",\n",
              " \"'Hoje\",\n",
              " \"'Hotel\",\n",
              " \"'INDUSTRIA\",\n",
              " \"'Industria\",\n",
              " \"'Indústria\",\n",
              " \"'Informamos\",\n",
              " \"'Informação\",\n",
              " \"'Jbs\",\n",
              " \"'LOJA\",\n",
              " \"'Lava\",\n",
              " \"'Local\",\n",
              " \"'Loja\",\n",
              " \"'Lojas\",\n",
              " \"'Mais\",\n",
              " \"'Mercado\",\n",
              " \"'Mesmo\",\n",
              " \"'Meu\",\n",
              " \"'Minha\",\n",
              " \"'Moro\",\n",
              " \"'Muitos\",\n",
              " \"'Não\",\n",
              " \"'Obra\",\n",
              " \"'Oficina\",\n",
              " \"'Oficinas\",\n",
              " \"'Ola\",\n",
              " \"'Olá\",\n",
              " \"'Ontem\",\n",
              " \"'Passei\",\n",
              " \"'Pessoas\",\n",
              " \"'Por\",\n",
              " \"'Porque\",\n",
              " \"'Prezados\",\n",
              " \"'Prédio\",\n",
              " \"'Queria\",\n",
              " \"'Quero\",\n",
              " \"'Restaurante\",\n",
              " \"'Rua\",\n",
              " \"'Secretaria\",\n",
              " \"'Sou\",\n",
              " \"'Supermercado\",\n",
              " \"'TEM\",\n",
              " \"'Tem\",\n",
              " \"'Tendo\",\n",
              " \"'Tenho\",\n",
              " \"'Todas\",\n",
              " \"'Todos\",\n",
              " \"'Trabalhamos\",\n",
              " \"'Trabalho\",\n",
              " \"'Uma\",\n",
              " \"'Venho\",\n",
              " \"'Várias\",\n",
              " \"'boa\",\n",
              " \"'empresa\",\n",
              " \"'estabelecimento\",\n",
              " \"'loja\",\n",
              " \"'sou\",\n",
              " \"'tem\",\n",
              " '-Goiás',\n",
              " '-Parque',\n",
              " '/Nutriex',\n",
              " '07:00',\n",
              " '08:00',\n",
              " '1000',\n",
              " '1138',\n",
              " '1141',\n",
              " '128591',\n",
              " '1500',\n",
              " '15dias..pois',\n",
              " '1621',\n",
              " '181Interessado',\n",
              " '18:00',\n",
              " '19/03',\n",
              " '19/03/2020',\n",
              " '19:00',\n",
              " '20/03',\n",
              " '20/03/2020',\n",
              " '2000',\n",
              " '2020',\n",
              " '20:00',\n",
              " '21/03/2020',\n",
              " '217-a',\n",
              " '22/03',\n",
              " '23/03',\n",
              " '23/03/2020',\n",
              " '24/03',\n",
              " '3238-6762',\n",
              " '5011',\n",
              " '7206',\n",
              " '74.010010',\n",
              " '74933-211',\n",
              " '75.126-207Anápolis',\n",
              " '8:00',\n",
              " '9.633',\n",
              " '9.637',\n",
              " '9.638',\n",
              " 'ABERTA',\n",
              " 'ABERTO',\n",
              " 'ABERTOS',\n",
              " 'ABSURDO',\n",
              " 'AGLOMERADOS',\n",
              " 'AGLOMERAÇÃO',\n",
              " 'AINDA',\n",
              " 'AJUDE',\n",
              " 'ALCOOL',\n",
              " 'ALGO',\n",
              " 'ALGUNS',\n",
              " 'ALTO',\n",
              " 'AMBIENTE',\n",
              " 'ANÁPOLIS',\n",
              " 'APARECIDA',\n",
              " 'AQUI',\n",
              " 'ASSIM',\n",
              " 'ATENDENDO',\n",
              " 'AVENIDA',\n",
              " 'Abadiânia',\n",
              " 'Abel',\n",
              " 'Abelha',\n",
              " 'Aberto',\n",
              " 'Abreu',\n",
              " 'Absurdo',\n",
              " 'Acho',\n",
              " 'Acredito',\n",
              " 'Administração',\n",
              " 'Aeroporto',\n",
              " 'Aglin',\n",
              " 'Aglomeração',\n",
              " 'Agradeço',\n",
              " 'Aguardo',\n",
              " 'Ainda',\n",
              " 'Ajude',\n",
              " 'Alameda',\n",
              " 'Alexânia',\n",
              " 'Alfa',\n",
              " 'Alfredo',\n",
              " 'Algumas',\n",
              " 'Alguns',\n",
              " 'Alimentos',\n",
              " 'Alphaville',\n",
              " 'Alto',\n",
              " 'Além',\n",
              " 'Amanda',\n",
              " 'Amazônia',\n",
              " 'Ambiente',\n",
              " 'America',\n",
              " 'American',\n",
              " 'Americanas',\n",
              " 'América',\n",
              " 'Andar',\n",
              " 'Anglo',\n",
              " 'Anhanguera',\n",
              " 'Anhangüera',\n",
              " 'Anicuns',\n",
              " 'Animal',\n",
              " 'Antiga',\n",
              " 'Antonio',\n",
              " 'Antônio',\n",
              " 'Anápolis',\n",
              " 'Anápolis-GO',\n",
              " 'Aparecida',\n",
              " 'Apesar',\n",
              " 'Aqui',\n",
              " 'Araguaia',\n",
              " 'Araújo',\n",
              " 'Arte',\n",
              " 'Artigos',\n",
              " 'Assaí',\n",
              " 'Assim',\n",
              " 'Atheneu',\n",
              " 'Atualmente',\n",
              " 'Auditoria',\n",
              " 'Aurora',\n",
              " 'Auto',\n",
              " 'Automotive',\n",
              " 'Avenida',\n",
              " 'Azul',\n",
              " 'BEVICRED',\n",
              " 'BR-040',\n",
              " 'BRASIL',\n",
              " 'BTCC',\n",
              " 'Bahia',\n",
              " 'Bairro',\n",
              " 'Balneário',\n",
              " 'Banco',\n",
              " 'Bandeirantes',\n",
              " 'Bandeiras',\n",
              " 'Barro',\n",
              " 'Batista',\n",
              " 'Bebidas',\n",
              " 'Bela',\n",
              " 'Belém',\n",
              " 'Bernardo',\n",
              " 'Bompreço',\n",
              " 'Bonaço',\n",
              " 'Bonfinópolis-GO',\n",
              " 'Borges',\n",
              " 'Bosco',\n",
              " 'Botafogo',\n",
              " 'Branco',\n",
              " 'Brasil',\n",
              " 'Brasilia',\n",
              " 'Brasília',\n",
              " 'Brava',\n",
              " 'Bretas',\n",
              " 'Btcc',\n",
              " 'Bueno',\n",
              " 'Buriti',\n",
              " 'Business',\n",
              " 'C169',\n",
              " 'CADASTRAIS',\n",
              " 'CALL',\n",
              " 'CAMBURY',\n",
              " 'CASA',\n",
              " 'CAÇU',\n",
              " 'CENTER',\n",
              " 'CENTRO',\n",
              " 'CIDADE',\n",
              " 'CIDADES',\n",
              " 'CIVIL',\n",
              " 'CLIENTE',\n",
              " 'CLIENTES',\n",
              " 'CNPJ',\n",
              " 'COLABORADORES',\n",
              " 'COLOCANDO',\n",
              " 'COMBATE',\n",
              " 'COMERCIO',\n",
              " 'COMO',\n",
              " 'CONSTRUTORA',\n",
              " 'CONTINUA',\n",
              " 'CONTINUAM',\n",
              " 'CONVID-19',\n",
              " 'CORONA',\n",
              " 'CORONAVIRUS',\n",
              " 'CORONAVÍRUS',\n",
              " 'COSMÉTICOS',\n",
              " 'COVID',\n",
              " 'COVID-19',\n",
              " 'COVID19',\n",
              " 'CRER',\n",
              " 'CRIMINALMENTE',\n",
              " 'CUMPRINDO',\n",
              " 'CURSOS',\n",
              " 'Cada',\n",
              " 'Cadê',\n",
              " 'Caiado',\n",
              " 'Caiapó',\n",
              " 'Caixa',\n",
              " 'Caldas',\n",
              " 'Califórnia',\n",
              " 'Call',\n",
              " 'Cambury',\n",
              " 'Campinas',\n",
              " 'Canedo',\n",
              " 'Capuava',\n",
              " 'Cardoso',\n",
              " 'Carlos',\n",
              " 'Carmo',\n",
              " 'Carrefour',\n",
              " 'Carvalho',\n",
              " 'Casa',\n",
              " 'Caso',\n",
              " 'Castelo',\n",
              " 'Castrillon',\n",
              " 'Castros',\n",
              " 'Catalão',\n",
              " 'Center',\n",
              " 'Central',\n",
              " 'Centro',\n",
              " 'Cerrado',\n",
              " 'Chamada',\n",
              " 'Chapecó',\n",
              " 'China',\n",
              " 'Cidade',\n",
              " 'Ciplan',\n",
              " 'Circular',\n",
              " 'Civil',\n",
              " 'Ciências',\n",
              " 'Clinica',\n",
              " 'Clínica',\n",
              " 'Coimbra',\n",
              " 'Colocando',\n",
              " 'Colocaram',\n",
              " 'Colorado',\n",
              " 'Comercial',\n",
              " 'Como',\n",
              " 'Comunicante',\n",
              " 'Comurg',\n",
              " 'Comércio',\n",
              " 'Condomínio',\n",
              " 'Conselho',\n",
              " 'Construcao',\n",
              " 'Construtora',\n",
              " 'Construção',\n",
              " 'Consultoria',\n",
              " 'Contabilidade',\n",
              " 'Continua',\n",
              " 'Continuam',\n",
              " 'Contorno',\n",
              " 'Corona',\n",
              " 'Coronavirus',\n",
              " 'Coronavírus',\n",
              " 'Coronel',\n",
              " 'Correios',\n",
              " 'Cosméticos',\n",
              " 'Costa',\n",
              " 'Covid',\n",
              " 'Covid-19',\n",
              " 'Crefisa',\n",
              " 'Creio',\n",
              " 'Crer',\n",
              " 'Cristalino',\n",
              " 'Cristo',\n",
              " 'Cruz',\n",
              " 'Câmara',\n",
              " 'Código',\n",
              " 'DAIA',\n",
              " 'DECRETO',\n",
              " 'DENTRO',\n",
              " 'DEUS',\n",
              " 'DEVE',\n",
              " 'DIAS',\n",
              " 'DISTRIBUIÇÃO',\n",
              " 'DONO',\n",
              " 'Daia',\n",
              " 'Decorações',\n",
              " 'Decreto',\n",
              " 'Dentro',\n",
              " 'Denunciante',\n",
              " 'Departamento',\n",
              " 'Desde',\n",
              " 'Dessa',\n",
              " 'Detran',\n",
              " 'Deus',\n",
              " 'Diante',\n",
              " 'Dias',\n",
              " 'Digital',\n",
              " 'Distribuidora',\n",
              " 'Distribuição',\n",
              " 'Distribuídora',\n",
              " 'Distrito',\n",
              " 'Dizem',\n",
              " 'Doce',\n",
              " 'Dourada',\n",
              " 'Drogaria',\n",
              " 'Dumont',\n",
              " 'ELES',\n",
              " 'EMPRESA',\n",
              " 'EMPRESARIAL',\n",
              " 'EMPRESAS',\n",
              " 'ENDEREÇO',\n",
              " 'ENERGIA',\n",
              " 'ENVIAR',\n",
              " 'EPIs',\n",
              " 'ESSA',\n",
              " 'ESSE',\n",
              " 'ESSENCIAIS',\n",
              " 'ESSENCIAL',\n",
              " 'ESSES',\n",
              " 'ESTA',\n",
              " 'ESTABELECIMENTO',\n",
              " 'ESTADO',\n",
              " 'ESTAMOS',\n",
              " 'ESTÁ',\n",
              " 'ESTÃO',\n",
              " 'Edifício',\n",
              " 'Educação',\n",
              " 'Eldorado',\n",
              " 'Eles',\n",
              " 'Eletro',\n",
              " 'Eletropar',\n",
              " 'Eletrosom',\n",
              " 'Empresa',\n",
              " 'Empresarial',\n",
              " 'Empresas',\n",
              " 'Encasa',\n",
              " 'Endereço',\n",
              " 'Enfim',\n",
              " 'Engenharia',\n",
              " 'Entendo',\n",
              " 'Então',\n",
              " 'Escritório',\n",
              " 'Espero',\n",
              " 'Esplanada',\n",
              " 'Essa',\n",
              " 'Esse',\n",
              " 'Esta',\n",
              " 'Estabelecimento',\n",
              " 'Estabelecimentos',\n",
              " 'Estado',\n",
              " 'Estados',\n",
              " 'Estadual',\n",
              " 'Estamos',\n",
              " 'Estao',\n",
              " 'Estou',\n",
              " 'Está',\n",
              " 'Estão',\n",
              " 'Eternit',\n",
              " 'Europa',\n",
              " 'Existe',\n",
              " 'Existem',\n",
              " 'Expondo',\n",
              " 'FAVOR',\n",
              " 'FAZER',\n",
              " 'FECHADAS',\n",
              " 'FECHADO',\n",
              " 'FECHAR',\n",
              " 'FECHOU',\n",
              " 'FERRAGISTA',\n",
              " 'FETZ',\n",
              " 'FICA',\n",
              " 'FICAM',\n",
              " 'FICAR',\n",
              " 'FLUXO',\n",
              " 'FORA',\n",
              " 'FUJIOKA',\n",
              " 'FUNCIONAMENTO',\n",
              " 'FUNCIONANDO',\n",
              " 'FUNCIONARIOS',\n",
              " 'FUNCIONÁRIOS',\n",
              " 'Faculdade',\n",
              " 'Falcão',\n",
              " 'Falta',\n",
              " 'Farmacêutica',\n",
              " 'Favor',\n",
              " 'Fazenda',\n",
              " 'Fazendo',\n",
              " 'Federal',\n",
              " 'Fernanda',\n",
              " 'Fernandes',\n",
              " 'Ferragista',\n",
              " 'Ferreira',\n",
              " 'Fiat',\n",
              " 'Fica',\n",
              " 'Filho',\n",
              " 'Fisioterapia',\n",
              " 'Flamboyant',\n",
              " 'Flores',\n",
              " 'Floresta',\n",
              " 'Florianópolis',\n",
              " 'Formosa',\n",
              " 'Fortaleza',\n",
              " 'Forte',\n",
              " 'Francisco',\n",
              " 'Fujioka',\n",
              " 'Funcionando',\n",
              " 'Funcionários',\n",
              " 'GENTE',\n",
              " 'GOIANIA',\n",
              " 'GOIAS',\n",
              " 'GOIÁS',\n",
              " 'GOIÂNIA',\n",
              " 'GOSTARIA',\n",
              " 'GOVERNADOR',\n",
              " 'GRANDE',\n",
              " 'Galeria',\n",
              " 'Garavelo',\n",
              " 'Genoveva',\n",
              " 'Geral',\n",
              " 'Goiania',\n",
              " 'Goianira',\n",
              " 'Goianésia',\n",
              " 'Goias',\n",
              " 'Goiatuba',\n",
              " 'Goiás',\n",
              " 'Goiânia',\n",
              " 'Goiânia-GO',\n",
              " 'Golden',\n",
              " 'Gomes',\n",
              " 'Gostaria',\n",
              " 'Governador',\n",
              " 'Governo',\n",
              " 'Grande',\n",
              " 'Grato',\n",
              " 'Grosso',\n",
              " 'Grupo',\n",
              " 'Guanabara',\n",
              " 'Guapó',\n",
              " 'Guararapes',\n",
              " 'HELP',\n",
              " 'HOME',\n",
              " 'Havan',\n",
              " 'Helena',\n",
              " 'Hidrolândia',\n",
              " 'Hiper',\n",
              " 'Hoje',\n",
              " 'Home',\n",
              " 'Hospital',\n",
              " 'Hotel',\n",
              " 'INCLUSIVE',\n",
              " 'INDUSTRIA',\n",
              " 'INFORMAÇÕES',\n",
              " 'INNOVAPHARMA',\n",
              " 'ISSO',\n",
              " 'Igreja',\n",
              " 'Inclusive',\n",
              " 'Incorpore',\n",
              " 'Independência',\n",
              " 'Industria',\n",
              " 'Industrial',\n",
              " 'Indústria',\n",
              " 'Infelizmente',\n",
              " 'Inhumas',\n",
              " 'Instituição',\n",
              " 'Instituto',\n",
              " 'Ipanema',\n",
              " 'Ipasgo',\n",
              " 'Ipiranga',\n",
              " 'Iris',\n",
              " 'Isso',\n",
              " 'Isto',\n",
              " 'Itaberaí',\n",
              " 'Itapuranga',\n",
              " 'Itumbiara',\n",
              " 'Itália',\n",
              " 'JARDIM',\n",
              " 'Jaime',\n",
              " 'Janeiro',\n",
              " 'Jardim',\n",
              " 'Jatai',\n",
              " 'Jesus',\n",
              " 'Joaquim',\n",
              " 'Jorge',\n",
              " 'José',\n",
              " 'João',\n",
              " 'Judas',\n",
              " 'Jundiaí',\n",
              " 'Justiça',\n",
              " 'Kingspan',\n",
              " 'LADO',\n",
              " 'LESTE',\n",
              " 'LIMPEZA',\n",
              " 'LINCE',\n",
              " 'LOCAL',\n",
              " 'LOJA',\n",
              " 'LOTE',\n",
              " 'LTDA',\n",
              " 'Lago',\n",
              " 'Lembrando',\n",
              " 'Leroy',\n",
              " 'Leste',\n",
              " 'Lindas',\n",
              " 'Local',\n",
              " 'Logística',\n",
              " 'Loja',\n",
              " 'Lojas',\n",
              " 'Lote',\n",
              " 'Lotérica',\n",
              " 'Lozandes',\n",
              " 'Ltda',\n",
              " 'Lucena',\n",
              " 'Luciana',\n",
              " 'Lucy',\n",
              " 'Ludovico',\n",
              " 'Luiz',\n",
              " 'Luziania',\n",
              " 'Luziânia',\n",
              " 'Líbano',\n",
              " 'MAIS',\n",
              " 'MARÇO',\n",
              " 'MASCARA',\n",
              " 'MEDO',\n",
              " 'MESMO',\n",
              " 'Magalhães',\n",
              " 'Mais',\n",
              " 'Mansões',\n",
              " 'Maria',\n",
              " 'Marinapólis',\n",
              " 'Marista',\n",
              " 'Marmoraria',\n",
              " 'Marta',\n",
              " 'Março',\n",
              " 'Materiais',\n",
              " 'Mato',\n",
              " 'Medicina',\n",
              " 'Mega',\n",
              " 'Meireles',\n",
              " 'Melcon',\n",
              " 'Merlin',\n",
              " 'Mesmo',\n",
              " 'Meta',\n",
              " 'Metalúrgica',\n",
              " 'Miguel',\n",
              " 'Militar',\n",
              " 'Militares',\n",
              " 'Mineiros',\n",
              " 'Minha',\n",
              " 'Ministério',\n",
              " 'Montreal',\n",
              " 'Morada',\n",
              " 'Moraes',\n",
              " 'Moreira',\n",
              " 'Moro',\n",
              " 'Motel',\n",
              " 'Moto',\n",
              " 'Motos',\n",
              " 'Muitas',\n",
              " 'Muito',\n",
              " 'Muitos',\n",
              " 'Mundo',\n",
              " 'Municipal',\n",
              " 'Município',\n",
              " 'Médica',\n",
              " 'NADA',\n",
              " 'NECESSIDADE',\n",
              " 'NENHUM',\n",
              " 'NINGUÉM',\n",
              " 'NOME',\n",
              " 'NORMAL',\n",
              " 'NORMALMENTE',\n",
              " 'NOVA',\n",
              " 'NOVO',\n",
              " 'NUMERO',\n",
              " 'Nacional',\n",
              " 'Nasser',\n",
              " 'Navesa',\n",
              " 'Nenhum',\n",
              " 'Nenhuma',\n",
              " 'Nerópolis',\n",
              " 'Nessa',\n",
              " 'Neste',\n",
              " 'Neto',\n",
              " 'Nome',\n",
              " 'Norte',\n",
              " 'Nossa',\n",
              " 'Nosso',\n",
              " 'Nova',\n",
              " 'Novas',\n",
              " 'Novo',\n",
              " 'Número',\n",
              " 'OBRA',\n",
              " 'ODORATA',\n",
              " 'OFFICE',\n",
              " 'ONDE',\n",
              " 'ORDEM',\n",
              " 'OUTRAS',\n",
              " 'OUTROS',\n",
              " 'OUTUBRO',\n",
              " 'OUVIDORIA',\n",
              " 'Obrigada',\n",
              " 'Obrigado',\n",
              " 'Odorata',\n",
              " 'Oeste',\n",
              " 'Office',\n",
              " 'Oficial',\n",
              " 'Oficina',\n",
              " 'Onde',\n",
              " 'Ontem',\n",
              " 'Outrossim',\n",
              " 'Ouvidoria',\n",
              " 'PANDEMIA',\n",
              " 'PARA',\n",
              " 'PARAR',\n",
              " 'PARQUE',\n",
              " 'PELO',\n",
              " 'PERTO',\n",
              " 'PESSOAS',\n",
              " 'PEÇO',\n",
              " 'POIS',\n",
              " 'POPULAÇÃO',\n",
              " 'PORTAS',\n",
              " 'PORÉM',\n",
              " 'PRECISA',\n",
              " 'PREFEITO',\n",
              " 'PREGÃO',\n",
              " 'PRESENTE',\n",
              " 'PRODUTOS',\n",
              " 'PROTEÇÃO',\n",
              " 'Pandemia',\n",
              " 'Panificadora',\n",
              " 'Para',\n",
              " 'Paranaíba',\n",
              " 'Park',\n",
              " 'Parque',\n",
              " 'Paula',\n",
              " 'Paulo',\n",
              " 'Pede',\n",
              " 'Pedro',\n",
              " 'Peixoto',\n",
              " 'Pellegrino',\n",
              " 'Pelo',\n",
              " 'Penal',\n",
              " 'Pereira',\n",
              " 'Perguntei',\n",
              " 'Perimetral',\n",
              " 'Pessoas',\n",
              " 'Peças',\n",
              " 'Peço',\n",
              " 'Pirenópolis',\n",
              " 'Pires',\n",
              " 'Pirineus',\n",
              " 'Pneulandia',\n",
              " 'Pneulândia',\n",
              " 'Pneus',\n",
              " 'Podem',\n",
              " 'Poderia',\n",
              " 'Pois',\n",
              " 'Policia',\n",
              " 'Polo',\n",
              " 'Polícia',\n",
              " 'Ponte',\n",
              " 'Porem',\n",
              " 'Porque',\n",
              " 'Portas',\n",
              " 'Porto',\n",
              " 'Portugal',\n",
              " 'Porém',\n",
              " 'Posto',\n",
              " 'Praça',\n",
              " 'Precisamos',\n",
              " 'Prefeito',\n",
              " 'Prefeitura',\n",
              " 'Principalmente',\n",
              " 'Produtos',\n",
              " 'Prof.',\n",
              " 'Próximo',\n",
              " 'QUADRA',\n",
              " 'QUALQUER',\n",
              " 'QUARENTENA',\n",
              " 'Quadra',\n",
              " 'Qual',\n",
              " 'Quem',\n",
              " 'Quente',\n",
              " 'Quero',\n",
              " 'RECEBENDO',\n",
              " 'RESIDENCIAL',\n",
              " 'RESPEITANDO',\n",
              " 'RISCO',\n",
              " 'Radial',\n",
              " 'Rainha',\n",
              " 'Ramos',\n",
              " 'Rassi',\n",
              " 'Ração',\n",
              " 'Real',\n",
              " 'Recanto',\n",
              " 'Reclamante',\n",
              " 'Rede',\n",
              " 'Redencao',\n",
              " 'Refrescos',\n",
              " 'Refrigeração',\n",
              " 'Regina',\n",
              " 'Regional',\n",
              " 'Reis',\n",
              " 'Renault',\n",
              " 'Residencial',\n",
              " 'Restaurante',\n",
              " 'Rezende',\n",
              " 'Ribeiro',\n",
              " 'Ricardo',\n",
              " 'Risco',\n",
              " 'Rita',\n",
              " 'Rodoviário',\n",
              " 'Rodrigues',\n",
              " 'Ronaldo',\n",
              " 'Rondon',\n",
              " 'Roriz',\n",
              " 'Rosa',\n",
              " 'Rosas',\n",
              " 'Rural',\n",
              " 'SAUDE',\n",
              " 'SAÚDE',\n",
              " 'SEMANA',\n",
              " 'SENDO',\n",
              " 'SERVE',\n",
              " 'SERVIÇO',\n",
              " 'SERVIÇOS',\n",
              " 'SETOR',\n",
              " 'SEUS',\n",
              " 'SHOPPING',\n",
              " 'SSP-GO',\n",
              " 'SSP-GOE-mail',\n",
              " 'SSPE-mail',\n",
              " 'SUAS',\n",
              " 'SUPERMERCADO',\n",
              " 'Sala',\n",
              " 'Saneago',\n",
              " 'Santa',\n",
              " 'Santana',\n",
              " 'Santo',\n",
              " 'Santos',\n",
              " 'Sayão',\n",
              " 'Saúde',\n",
              " 'Sebba',\n",
              " 'Secretaria',\n",
              " 'Secretario',\n",
              " 'Segue',\n",
              " 'Segunda',\n",
              " 'Segundo',\n",
              " 'Seguro',\n",
              " 'Seinfra',\n",
              " 'Senador',\n",
              " 'Sendo',\n",
              " 'Senhor',\n",
              " 'Serafim',\n",
              " 'Serra',\n",
              " 'Serviços',\n",
              " 'Será',\n",
              " 'Setor',\n",
              " 'Shopping',\n",
              " 'Sicari',\n",
              " 'Silva',\n",
              " 'Socorro',\n",
              " 'Somente',\n",
              " 'Somos',\n",
              " 'Souza',\n",
              " 'Square',\n",
              " 'Sudoeste',\n",
              " 'Supermercado',\n",
              " 'Supermercados',\n",
              " 'Suécia',\n",
              " 'T-63',\n",
              " 'TAMBÉM',\n",
              " 'TIPO',\n",
              " 'TODO',\n",
              " 'TODOS',\n",
              " 'TOTAL',\n",
              " 'TRABALHA',\n",
              " 'TRABALHANDO',\n",
              " 'TRABALHAR',\n",
              " 'TRABALHO',\n",
              " 'TUDO',\n",
              " 'Tadeu',\n",
              " 'Tamandaré',\n",
              " 'Também',\n",
              " 'Tanto',\n",
              " 'Tarcisio',\n",
              " 'Tecar',\n",
              " 'Tecnologia',\n",
              " 'Teixeira',\n",
              " 'Telecom',\n",
              " 'Telecomunicações',\n",
              " 'Telefone',\n",
              " 'Temos',\n",
              " 'Tendo',\n",
              " 'Tenho',\n",
              " 'Teresópolis',\n",
              " 'Tintas',\n",
              " 'Todas',\n",
              " 'Todo',\n",
              " 'Todos',\n",
              " 'Topo',\n",
              " 'Torneadora',\n",
              " 'Total',\n",
              " 'Tower',\n",
              " 'Toyota',\n",
              " 'Trabalham',\n",
              " 'Trabalhamos',\n",
              " 'Trabalhando',\n",
              " 'Trabalho',\n",
              " 'Transportadora',\n",
              " 'Trata-se',\n",
              " 'Trend',\n",
              " 'Trindade',\n",
              " 'U-47',\n",
              " 'URGENTES',\n",
              " 'URGÊNCIA',\n",
              " 'Umuarama',\n",
              " 'Uni-Anhanguera',\n",
              " 'Unidade',\n",
              " 'Unimed',\n",
              " 'Universitário',\n",
              " 'União',\n",
              " 'Urban',\n",
              " 'Uruaçu',\n",
              " 'Usina',\n",
              " 'VAPTS',\n",
              " 'VENDAS',\n",
              " 'VERMELHO',\n",
              " 'VICE',\n",
              " 'VIGILÂNCIA',\n",
              " 'VILA',\n",
              " 'VIRUS',\n",
              " 'VIVENDO',\n",
              " 'Vale',\n",
              " 'Valparaíso',\n",
              " 'Venho',\n",
              " 'Vera',\n",
              " 'Verde',\n",
              " 'Verde-GO',\n",
              " 'Verdão',\n",
              " 'Vespor',\n",
              " 'Veículos',\n",
              " 'Vidros',\n",
              " 'Vieira',\n",
              " 'Vila',\n",
              " 'Vista',\n",
              " 'Vitória',\n",
              " 'Volta',\n",
              " 'VÁRIOS',\n",
              " 'VÍRUS',\n",
              " 'Vários',\n",
              " 'Vírus',\n",
              " 'Whatsapp',\n",
              " 'Xavier',\n",
              " 'Yassytatá',\n",
              " 'York',\n",
              " 'Zona',\n",
              " '\\\\tPortanto',\n",
              " 'abadia',\n",
              " 'abafado',\n",
              " 'abaixadas',\n",
              " 'abaixar',\n",
              " 'abaixo',\n",
              " 'aberta',\n",
              " 'abertas',\n",
              " 'aberto',\n",
              " 'abertos',\n",
              " 'abertura',\n",
              " 'abre',\n",
              " 'abrem',\n",
              " 'abril',\n",
              " 'abrindo',\n",
              " 'abrir',\n",
              " 'abriram',\n",
              " 'abrirem',\n",
              " 'abriu',\n",
              " 'absurdo',\n",
              " 'abusivos',\n",
              " 'acabam',\n",
              " 'acabar',\n",
              " 'acabei',\n",
              " 'acabou',\n",
              " 'academia',\n",
              " 'acaso',\n",
              " 'acata',\n",
              " 'acataram',\n",
              " 'acatou',\n",
              " 'aceita',\n",
              " 'aceitável',\n",
              " 'acesso',\n",
              " 'acessórios',\n",
              " 'acha',\n",
              " 'achando',\n",
              " 'acho',\n",
              " 'acima',\n",
              " 'acontece',\n",
              " 'acontecendo',\n",
              " 'acordo',\n",
              " 'acredito',\n",
              " 'acúmulo',\n",
              " 'adequada',\n",
              " 'adequado',\n",
              " 'aderir',\n",
              " 'aderiu',\n",
              " 'adianta',\n",
              " 'administrativa',\n",
              " 'administrativo',\n",
              " 'administrativos',\n",
              " 'administração',\n",
              " 'adotadas',\n",
              " ...]"
            ]
          },
          "metadata": {
            "tags": []
          },
          "execution_count": 14
        }
      ]
    },
    {
      "cell_type": "code",
      "metadata": {
        "id": "HTigw0zgPk3l",
        "colab_type": "code",
        "colab": {}
      },
      "source": [
        "dist = nltk.FreqDist(text1)\n",
        "vocab1 = dist.keys()\n",
        "freqwords = [w for w in vocab1 if len(w) > 3 and dist[w] > 2]\n",
        "total = str(freqwords)\n"
      ],
      "execution_count": 0,
      "outputs": []
    },
    {
      "cell_type": "code",
      "metadata": {
        "id": "IWazRde4PoOW",
        "colab_type": "code",
        "outputId": "f22cc83e-f804-46dd-f66c-80722d2bc2f7",
        "colab": {
          "base_uri": "https://localhost:8080/",
          "height": 345
        }
      },
      "source": [
        "#wordcloud\n",
        "from wordcloud import WordCloud\n",
        "import matplotlib.pyplot as plt\n",
        "\n",
        "wordcloud = WordCloud(max_font_size=100,width = 1520, height = 535).generate(total)\n",
        "plt.figure(figsize=(16,9))\n",
        "plt.imshow(wordcloud)\n",
        "plt.axis(\"off\")\n",
        "plt.show()"
      ],
      "execution_count": 0,
      "outputs": [
        {
          "output_type": "display_data",
          "data": {
            "image/png": "[encoded data removed]",
            "text/plain": [
              "<Figure size 1152x648 with 1 Axes>"
            ]
          },
          "metadata": {
            "tags": []
          }
        }
      ]
    },
    {
      "cell_type": "code",
      "metadata": {
        "id": "OM6iWlztPw3W",
        "colab_type": "code",
        "outputId": "d3e47f48-1b65-40eb-fa73-f8da70cab2b9",
        "colab": {
          "base_uri": "https://localhost:8080/",
          "height": 68
        }
      },
      "source": [
        "#buscar twittes \n",
        "\n",
        "#importação de bibliotecacas\n",
        "import tweepy\n",
        "import re \n",
        "import pickle\n",
        "import pandas as pd\n",
        "import nltk\n",
        "import numpy as np\n",
        "nltk.download('stopwords')"
      ],
      "execution_count": 0,
      "outputs": [
        {
          "output_type": "stream",
          "text": [
            "[nltk_data] Downloading package stopwords to /root/nltk_data...\n",
            "[nltk_data]   Package stopwords is already up-to-date!\n"
          ],
          "name": "stdout"
        },
        {
          "output_type": "execute_result",
          "data": {
            "text/plain": [
              "True"
            ]
          },
          "metadata": {
            "tags": []
          },
          "execution_count": 17
        }
      ]
    },
    {
      "cell_type": "code",
      "metadata": {
        "id": "sbeTPVX-QXXK",
        "colab_type": "code",
        "outputId": "004c17ff-227b-4056-8777-2b99d9b7af5e",
        "colab": {
          "base_uri": "https://localhost:8080/",
          "height": 68
        }
      },
      "source": [
        "\n",
        "#importação de bibliotecacas\n",
        "import tweepy\n",
        "import re \n",
        "import pickle\n",
        "import pandas as pd\n",
        "import nltk\n",
        "import numpy as np\n",
        "nltk.download('stopwords')"
      ],
      "execution_count": 0,
      "outputs": [
        {
          "output_type": "stream",
          "text": [
            "[nltk_data] Downloading package stopwords to /root/nltk_data...\n",
            "[nltk_data]   Package stopwords is already up-to-date!\n"
          ],
          "name": "stdout"
        },
        {
          "output_type": "execute_result",
          "data": {
            "text/plain": [
              "True"
            ]
          },
          "metadata": {
            "tags": []
          },
          "execution_count": 18
        }
      ]
    },
    {
      "cell_type": "code",
      "metadata": {
        "id": "vk0hH67tWUTT",
        "colab_type": "code",
        "outputId": "fe81e91c-89c7-4236-b158-a1f910c65792",
        "colab": {
          "base_uri": "https://localhost:8080/",
          "height": 258
        }
      },
      "source": [
        "pip install tqdm --upgrade"
      ],
      "execution_count": 0,
      "outputs": [
        {
          "output_type": "stream",
          "text": [
            "Collecting tqdm\n",
            "\u001b[?25l  Downloading https://files.pythonhosted.org/packages/47/55/fd9170ba08a1a64a18a7f8a18f088037316f2a41be04d2fe6ece5a653e8f/tqdm-4.43.0-py2.py3-none-any.whl (59kB)\n",
            "\r\u001b[K     |█████▌                          | 10kB 16.5MB/s eta 0:00:01\r\u001b[K     |███████████                     | 20kB 1.7MB/s eta 0:00:01\r\u001b[K     |████████████████▋               | 30kB 2.5MB/s eta 0:00:01\r\u001b[K     |██████████████████████▏         | 40kB 1.7MB/s eta 0:00:01\r\u001b[K     |███████████████████████████▊    | 51kB 2.1MB/s eta 0:00:01\r\u001b[K     |████████████████████████████████| 61kB 1.9MB/s \n",
            "\u001b[?25hInstalling collected packages: tqdm\n",
            "  Found existing installation: tqdm 4.38.0\n",
            "    Uninstalling tqdm-4.38.0:\n",
            "      Successfully uninstalled tqdm-4.38.0\n",
            "Successfully installed tqdm-4.43.0\n"
          ],
          "name": "stdout"
        },
        {
          "output_type": "display_data",
          "data": {
            "application/vnd.colab-display-data+json": {
              "pip_warning": {
                "packages": [
                  "tqdm"
                ]
              }
            }
          },
          "metadata": {
            "tags": []
          }
        }
      ]
    },
    {
      "cell_type": "code",
      "metadata": {
        "id": "qlFASHHcWWor",
        "colab_type": "code",
        "colab": {}
      },
      "source": [
        "import pandas as pd\n",
        "import gensim\n",
        "import spacy\n",
        "from tqdm import tqdm\n"
      ],
      "execution_count": 0,
      "outputs": []
    },
    {
      "cell_type": "code",
      "metadata": {
        "id": "U7VBoYQBWcW_",
        "colab_type": "code",
        "colab": {}
      },
      "source": [
        "tqdm.pandas(desc=\"Progress\")"
      ],
      "execution_count": 0,
      "outputs": []
    },
    {
      "cell_type": "code",
      "metadata": {
        "id": "HptYgVz2We_N",
        "colab_type": "code",
        "outputId": "77d8aedd-5c82-4625-f215-2134351220da",
        "colab": {
          "base_uri": "https://localhost:8080/",
          "height": 428
        }
      },
      "source": [
        "!python3 -m spacy download en_core_web_sm\n"
      ],
      "execution_count": 0,
      "outputs": [
        {
          "output_type": "stream",
          "text": [
            "Requirement already satisfied: en_core_web_sm==2.2.5 from https://github.com/explosion/spacy-models/releases/download/en_core_web_sm-2.2.5/en_core_web_sm-2.2.5.tar.gz#egg=en_core_web_sm==2.2.5 in /usr/local/lib/python3.6/dist-packages (2.2.5)\n",
            "Requirement already satisfied: spacy>=2.2.2 in /usr/local/lib/python3.6/dist-packages (from en_core_web_sm==2.2.5) (2.2.4)\n",
            "Requirement already satisfied: blis<0.5.0,>=0.4.0 in /usr/local/lib/python3.6/dist-packages (from spacy>=2.2.2->en_core_web_sm==2.2.5) (0.4.1)\n",
            "Requirement already satisfied: wasabi<1.1.0,>=0.4.0 in /usr/local/lib/python3.6/dist-packages (from spacy>=2.2.2->en_core_web_sm==2.2.5) (0.6.0)\n",
            "Requirement already satisfied: numpy>=1.15.0 in /usr/local/lib/python3.6/dist-packages (from spacy>=2.2.2->en_core_web_sm==2.2.5) (1.18.2)\n",
            "Requirement already satisfied: srsly<1.1.0,>=1.0.2 in /usr/local/lib/python3.6/dist-packages (from spacy>=2.2.2->en_core_web_sm==2.2.5) (1.0.2)\n",
            "Requirement already satisfied: murmurhash<1.1.0,>=0.28.0 in /usr/local/lib/python3.6/dist-packages (from spacy>=2.2.2->en_core_web_sm==2.2.5) (1.0.2)\n",
            "Requirement already satisfied: setuptools in /usr/local/lib/python3.6/dist-packages (from spacy>=2.2.2->en_core_web_sm==2.2.5) (46.0.0)\n",
            "Requirement already satisfied: catalogue<1.1.0,>=0.0.7 in /usr/local/lib/python3.6/dist-packages (from spacy>=2.2.2->en_core_web_sm==2.2.5) (1.0.0)\n",
            "Requirement already satisfied: tqdm<5.0.0,>=4.38.0 in /usr/local/lib/python3.6/dist-packages (from spacy>=2.2.2->en_core_web_sm==2.2.5) (4.43.0)\n",
            "Requirement already satisfied: requests<3.0.0,>=2.13.0 in /usr/local/lib/python3.6/dist-packages (from spacy>=2.2.2->en_core_web_sm==2.2.5) (2.21.0)\n",
            "Requirement already satisfied: preshed<3.1.0,>=3.0.2 in /usr/local/lib/python3.6/dist-packages (from spacy>=2.2.2->en_core_web_sm==2.2.5) (3.0.2)\n",
            "Requirement already satisfied: cymem<2.1.0,>=2.0.2 in /usr/local/lib/python3.6/dist-packages (from spacy>=2.2.2->en_core_web_sm==2.2.5) (2.0.3)\n",
            "Requirement already satisfied: plac<1.2.0,>=0.9.6 in /usr/local/lib/python3.6/dist-packages (from spacy>=2.2.2->en_core_web_sm==2.2.5) (1.1.3)\n",
            "Requirement already satisfied: thinc==7.4.0 in /usr/local/lib/python3.6/dist-packages (from spacy>=2.2.2->en_core_web_sm==2.2.5) (7.4.0)\n",
            "Requirement already satisfied: importlib-metadata>=0.20; python_version < \"3.8\" in /usr/local/lib/python3.6/dist-packages (from catalogue<1.1.0,>=0.0.7->spacy>=2.2.2->en_core_web_sm==2.2.5) (1.5.0)\n",
            "Requirement already satisfied: chardet<3.1.0,>=3.0.2 in /usr/local/lib/python3.6/dist-packages (from requests<3.0.0,>=2.13.0->spacy>=2.2.2->en_core_web_sm==2.2.5) (3.0.4)\n",
            "Requirement already satisfied: idna<2.9,>=2.5 in /usr/local/lib/python3.6/dist-packages (from requests<3.0.0,>=2.13.0->spacy>=2.2.2->en_core_web_sm==2.2.5) (2.8)\n",
            "Requirement already satisfied: certifi>=2017.4.17 in /usr/local/lib/python3.6/dist-packages (from requests<3.0.0,>=2.13.0->spacy>=2.2.2->en_core_web_sm==2.2.5) (2019.11.28)\n",
            "Requirement already satisfied: urllib3<1.25,>=1.21.1 in /usr/local/lib/python3.6/dist-packages (from requests<3.0.0,>=2.13.0->spacy>=2.2.2->en_core_web_sm==2.2.5) (1.24.3)\n",
            "Requirement already satisfied: zipp>=0.5 in /usr/local/lib/python3.6/dist-packages (from importlib-metadata>=0.20; python_version < \"3.8\"->catalogue<1.1.0,>=0.0.7->spacy>=2.2.2->en_core_web_sm==2.2.5) (3.1.0)\n",
            "\u001b[38;5;2m✔ Download and installation successful\u001b[0m\n",
            "You can now load the model via spacy.load('en_core_web_sm')\n"
          ],
          "name": "stdout"
        }
      ]
    },
    {
      "cell_type": "code",
      "metadata": {
        "id": "X-31CTL7WgpD",
        "colab_type": "code",
        "colab": {}
      },
      "source": [
        "nlp_en = spacy.load(\"en_core_web_sm\")"
      ],
      "execution_count": 0,
      "outputs": []
    },
    {
      "cell_type": "code",
      "metadata": {
        "id": "bkkVBnOxWivr",
        "colab_type": "code",
        "outputId": "cd569c59-9720-4d52-9472-424f51a18bec",
        "colab": {
          "base_uri": "https://localhost:8080/",
          "height": 530
        }
      },
      "source": [
        "comentarios = pd.read_csv(\"/content/drive/My Drive/Colab Notebooks/covid_19_Geral.csv\", delimiter = ';', encoding='iso-8859-1')\n",
        "comentarios.head()"
      ],
      "execution_count": 0,
      "outputs": [
        {
          "output_type": "execute_result",
          "data": {
            "text/html": [
              "<div>\n",
              "<style scoped>\n",
              "    .dataframe tbody tr th:only-of-type {\n",
              "        vertical-align: middle;\n",
              "    }\n",
              "\n",
              "    .dataframe tbody tr th {\n",
              "        vertical-align: top;\n",
              "    }\n",
              "\n",
              "    .dataframe thead th {\n",
              "        text-align: right;\n",
              "    }\n",
              "</style>\n",
              "<table border=\"1\" class=\"dataframe\">\n",
              "  <thead>\n",
              "    <tr style=\"text-align: right;\">\n",
              "      <th></th>\n",
              "      <th>protocolo</th>\n",
              "      <th>data_manifestacao</th>\n",
              "      <th>municipio_denunciante</th>\n",
              "      <th>municipio_fato</th>\n",
              "      <th>localFato</th>\n",
              "      <th>manifestacao</th>\n",
              "      <th>status_atual</th>\n",
              "      <th>desc_status</th>\n",
              "      <th>sigla</th>\n",
              "      <th>nome</th>\n",
              "      <th>tipo_manifestacao</th>\n",
              "      <th>assunto</th>\n",
              "      <th>sub_assunto</th>\n",
              "    </tr>\n",
              "  </thead>\n",
              "  <tbody>\n",
              "    <tr>\n",
              "      <th>0</th>\n",
              "      <td>2020.0314.215152-35</td>\n",
              "      <td>2020-03-14 21:51:52</td>\n",
              "      <td>NaN</td>\n",
              "      <td>GOIANIA</td>\n",
              "      <td>Setor Candida de Morais</td>\n",
              "      <td>Elogio com sugestão de ações</td>\n",
              "      <td>55</td>\n",
              "      <td>Finalizado pela ouvidoria do Órgão.</td>\n",
              "      <td>SGG/GOVERNADORIA</td>\n",
              "      <td>Secretaria Geral da Governadoria</td>\n",
              "      <td>Elogio</td>\n",
              "      <td>Saúde</td>\n",
              "      <td>Corona Vírus - Denúncia, solicitação ou inform...</td>\n",
              "    </tr>\n",
              "    <tr>\n",
              "      <th>1</th>\n",
              "      <td>2020.0316.203054-88</td>\n",
              "      <td>2020-03-16 20:30:54</td>\n",
              "      <td>NaN</td>\n",
              "      <td>GOIANIA</td>\n",
              "      <td>Vila Redenção</td>\n",
              "      <td>Na empresa BTCC (prestadora de Serviços para O...</td>\n",
              "      <td>55</td>\n",
              "      <td>Finalizado pela ouvidoria do Órgão.</td>\n",
              "      <td>SES</td>\n",
              "      <td>Secretaria de Estado da Saúde</td>\n",
              "      <td>Comunicação</td>\n",
              "      <td>Saúde</td>\n",
              "      <td>Corona Vírus - Denúncia, solicitação ou inform...</td>\n",
              "    </tr>\n",
              "    <tr>\n",
              "      <th>2</th>\n",
              "      <td>2020.0318.081504-41</td>\n",
              "      <td>2020-03-18 08:15:04</td>\n",
              "      <td>NaN</td>\n",
              "      <td>ANAPOLIS</td>\n",
              "      <td>Vapt Vupt</td>\n",
              "      <td>Considerando o decreto do Sr. Governador quant...</td>\n",
              "      <td>55</td>\n",
              "      <td>Finalizado pela ouvidoria do Órgão.</td>\n",
              "      <td>SEAD</td>\n",
              "      <td>Secretaria de Estado de Administração (Antiga ...</td>\n",
              "      <td>Comunicação</td>\n",
              "      <td>Saúde</td>\n",
              "      <td>Corona Vírus - Denúncia, solicitação ou inform...</td>\n",
              "    </tr>\n",
              "    <tr>\n",
              "      <th>3</th>\n",
              "      <td>2020.0318.115152-35</td>\n",
              "      <td>2020-03-18 11:51:52</td>\n",
              "      <td>NaN</td>\n",
              "      <td>GOIANIA</td>\n",
              "      <td>POLÍCIA CÍVIL</td>\n",
              "      <td>Em meio a grave pandemia de coronavirus pela q...</td>\n",
              "      <td>55</td>\n",
              "      <td>Finalizado pela ouvidoria do Órgão.</td>\n",
              "      <td>SSP</td>\n",
              "      <td>Sec. Estado da Segurança Pública (Policias Civ...</td>\n",
              "      <td>Comunicação</td>\n",
              "      <td>Saúde</td>\n",
              "      <td>Corona Vírus - Denúncia, solicitação ou inform...</td>\n",
              "    </tr>\n",
              "    <tr>\n",
              "      <th>4</th>\n",
              "      <td>2020.0318.115845-69</td>\n",
              "      <td>2020-03-18 11:58:45</td>\n",
              "      <td>NaN</td>\n",
              "      <td>GOIANIA</td>\n",
              "      <td>NaN</td>\n",
              "      <td>Em virtude do Decreto emitido pelo Governador ...</td>\n",
              "      <td>55</td>\n",
              "      <td>Finalizado pela ouvidoria do Órgão.</td>\n",
              "      <td>SSP</td>\n",
              "      <td>Sec. Estado da Segurança Pública (Policias Civ...</td>\n",
              "      <td>Comunicação</td>\n",
              "      <td>Saúde</td>\n",
              "      <td>Corona Vírus - Denúncia, solicitação ou inform...</td>\n",
              "    </tr>\n",
              "  </tbody>\n",
              "</table>\n",
              "</div>"
            ],
            "text/plain": [
              "             protocolo  ...                                        sub_assunto\n",
              "0  2020.0314.215152-35  ...  Corona Vírus - Denúncia, solicitação ou inform...\n",
              "1  2020.0316.203054-88  ...  Corona Vírus - Denúncia, solicitação ou inform...\n",
              "2  2020.0318.081504-41  ...  Corona Vírus - Denúncia, solicitação ou inform...\n",
              "3  2020.0318.115152-35  ...  Corona Vírus - Denúncia, solicitação ou inform...\n",
              "4  2020.0318.115845-69  ...  Corona Vírus - Denúncia, solicitação ou inform...\n",
              "\n",
              "[5 rows x 13 columns]"
            ]
          },
          "metadata": {
            "tags": []
          },
          "execution_count": 24
        }
      ]
    },
    {
      "cell_type": "code",
      "metadata": {
        "id": "CQiSMzyyWqUs",
        "colab_type": "code",
        "colab": {}
      },
      "source": [
        "def get_tokens(sentence):\n",
        "    return [x.text for x in nlp_en(sentence)]"
      ],
      "execution_count": 0,
      "outputs": []
    },
    {
      "cell_type": "code",
      "metadata": {
        "id": "M7lIrvUGWtlt",
        "colab_type": "code",
        "outputId": "176f6fc8-5b1f-434b-8452-c9f835c25e05",
        "colab": {
          "base_uri": "https://localhost:8080/",
          "height": 68
        }
      },
      "source": [
        "nltk.download('punkt')\n"
      ],
      "execution_count": 0,
      "outputs": [
        {
          "output_type": "stream",
          "text": [
            "[nltk_data] Downloading package punkt to /root/nltk_data...\n",
            "[nltk_data]   Package punkt is already up-to-date!\n"
          ],
          "name": "stdout"
        },
        {
          "output_type": "execute_result",
          "data": {
            "text/plain": [
              "True"
            ]
          },
          "metadata": {
            "tags": []
          },
          "execution_count": 26
        }
      ]
    },
    {
      "cell_type": "code",
      "metadata": {
        "id": "F-lV5ABHWwTX",
        "colab_type": "code",
        "outputId": "896f549b-93b7-4ca6-ae1a-47bed7d9eae5",
        "colab": {
          "base_uri": "https://localhost:8080/",
          "height": 34
        }
      },
      "source": [
        "comentarios[\"tokens\"] = comentarios[\"manifestacao\"].progress_apply(get_tokens)"
      ],
      "execution_count": 0,
      "outputs": [
        {
          "output_type": "stream",
          "text": [
            "Progress: 100%|██████████| 2129/2129 [00:32<00:00, 66.48it/s]\n"
          ],
          "name": "stderr"
        }
      ]
    },
    {
      "cell_type": "code",
      "metadata": {
        "id": "EiAwKSqdWzcp",
        "colab_type": "code",
        "colab": {}
      },
      "source": [
        "comentarios.to_pickle(\"pd_data_tokenized.pickle\")"
      ],
      "execution_count": 0,
      "outputs": []
    },
    {
      "cell_type": "code",
      "metadata": {
        "id": "xFkL1ORpW7-G",
        "colab_type": "code",
        "colab": {}
      },
      "source": [
        "comentarios = pd.read_pickle(\"pd_data_tokenized.pickle\")"
      ],
      "execution_count": 0,
      "outputs": []
    },
    {
      "cell_type": "code",
      "metadata": {
        "id": "iqEsMo6jW-c_",
        "colab_type": "code",
        "colab": {}
      },
      "source": [
        "model_w2v = gensim.models.Word2Vec(comentarios[\"tokens\"].tolist(), min_count=5, window = 9, size = 100)"
      ],
      "execution_count": 0,
      "outputs": []
    },
    {
      "cell_type": "code",
      "metadata": {
        "id": "trjKrWuBXCAH",
        "colab_type": "code",
        "colab": {}
      },
      "source": [
        "model_ft = gensim.models.FastText(comentarios[\"tokens\"].tolist(), min_count=5, window = 9, size = 100)\n"
      ],
      "execution_count": 0,
      "outputs": []
    },
    {
      "cell_type": "code",
      "metadata": {
        "id": "0M64lncYXElg",
        "colab_type": "code",
        "outputId": "01ecd2a8-87eb-4def-ecd1-906fde83f4db",
        "colab": {
          "base_uri": "https://localhost:8080/",
          "height": 71
        }
      },
      "source": [
        "model_w2v.save(\"model_w2v.model\")\n",
        "model_ft.save(\"model_ft.model\")"
      ],
      "execution_count": 0,
      "outputs": [
        {
          "output_type": "stream",
          "text": [
            "/usr/local/lib/python3.6/dist-packages/smart_open/smart_open_lib.py:410: UserWarning: This function is deprecated, use smart_open.open instead. See the migration notes for details: https://github.com/RaRe-Technologies/smart_open/blob/master/README.rst#migrating-to-the-new-open-function\n",
            "  'See the migration notes for details: %s' % _MIGRATION_NOTES_URL\n"
          ],
          "name": "stderr"
        }
      ]
    },
    {
      "cell_type": "code",
      "metadata": {
        "id": "3BzWjoCGXK_-",
        "colab_type": "code",
        "outputId": "fc1aa726-a59c-4551-ad40-4bc31e2007e5",
        "colab": {
          "base_uri": "https://localhost:8080/",
          "height": 71
        }
      },
      "source": [
        "model_w2v = gensim.models.Word2Vec.load(\"model_w2v.model\")\n",
        "model_ft = gensim.models.FastText.load(\"model_ft.model\")"
      ],
      "execution_count": 0,
      "outputs": [
        {
          "output_type": "stream",
          "text": [
            "/usr/local/lib/python3.6/dist-packages/smart_open/smart_open_lib.py:410: UserWarning: This function is deprecated, use smart_open.open instead. See the migration notes for details: https://github.com/RaRe-Technologies/smart_open/blob/master/README.rst#migrating-to-the-new-open-function\n",
            "  'See the migration notes for details: %s' % _MIGRATION_NOTES_URL\n"
          ],
          "name": "stderr"
        }
      ]
    },
    {
      "cell_type": "code",
      "metadata": {
        "id": "F6vJB70SXL0W",
        "colab_type": "code",
        "outputId": "0f1b5b19-8e5a-4ceb-f6b1-70823f086d4e",
        "colab": {
          "base_uri": "https://localhost:8080/",
          "height": 445
        }
      },
      "source": [
        "model_w2v.most_similar(\"funcionando\", topn=20)"
      ],
      "execution_count": 0,
      "outputs": [
        {
          "output_type": "stream",
          "text": [
            "/usr/local/lib/python3.6/dist-packages/ipykernel_launcher.py:1: DeprecationWarning: Call to deprecated `most_similar` (Method will be removed in 4.0.0, use self.wv.most_similar() instead).\n",
            "  \"\"\"Entry point for launching an IPython kernel.\n",
            "/usr/local/lib/python3.6/dist-packages/gensim/matutils.py:737: FutureWarning: Conversion of the second argument of issubdtype from `int` to `np.signedinteger` is deprecated. In future, it will be treated as `np.int64 == np.dtype(int).type`.\n",
            "  if np.issubdtype(vec.dtype, np.int):\n"
          ],
          "name": "stderr"
        },
        {
          "output_type": "execute_result",
          "data": {
            "text/plain": [
              "[('normalmente', 0.9984535574913025),\n",
              " ('aberta', 0.998388946056366),\n",
              " ('Empresa', 0.9983341097831726),\n",
              " ('continua', 0.9980887770652771),\n",
              " ('está', 0.9980590343475342),\n",
              " ('descumprindo', 0.9980148673057556),\n",
              " ('funcionamento', 0.9980027079582214),\n",
              " ('recebendo', 0.9978110194206238),\n",
              " ('Indústria', 0.9977840185165405),\n",
              " ('esta', 0.9977736473083496),\n",
              " ('após', 0.9976708889007568),\n",
              " ('abertas', 0.9976555109024048),\n",
              " ('fabricação', 0.9976383447647095),\n",
              " ('atividades', 0.9975713491439819),\n",
              " ('vendendo', 0.9975452423095703),\n",
              " ('mínimo', 0.9975059628486633),\n",
              " ('normal', 0.9975036382675171),\n",
              " ('bebidas', 0.9975030422210693),\n",
              " ('ordem', 0.9974856376647949),\n",
              " ('postes', 0.9974217414855957)]"
            ]
          },
          "metadata": {
            "tags": []
          },
          "execution_count": 34
        }
      ]
    },
    {
      "cell_type": "code",
      "metadata": {
        "id": "nMQhAlR6XTtu",
        "colab_type": "code",
        "outputId": "7aed3e7d-7175-4149-b5bb-d18235953f8b",
        "colab": {
          "base_uri": "https://localhost:8080/",
          "height": 445
        }
      },
      "source": [
        "model_w2v.most_similar(positive=['Parque'], topn=20)\n"
      ],
      "execution_count": 0,
      "outputs": [
        {
          "output_type": "stream",
          "text": [
            "/usr/local/lib/python3.6/dist-packages/ipykernel_launcher.py:1: DeprecationWarning: Call to deprecated `most_similar` (Method will be removed in 4.0.0, use self.wv.most_similar() instead).\n",
            "  \"\"\"Entry point for launching an IPython kernel.\n",
            "/usr/local/lib/python3.6/dist-packages/gensim/matutils.py:737: FutureWarning: Conversion of the second argument of issubdtype from `int` to `np.signedinteger` is deprecated. In future, it will be treated as `np.int64 == np.dtype(int).type`.\n",
            "  if np.issubdtype(vec.dtype, np.int):\n"
          ],
          "name": "stderr"
        },
        {
          "output_type": "execute_result",
          "data": {
            "text/plain": [
              "[('Oeste', 0.9996801614761353),\n",
              " ('Lt', 0.9996479749679565),\n",
              " ('localizada', 0.9996461272239685),\n",
              " ('Qd', 0.9996439218521118),\n",
              " ('Endereço', 0.9995959997177124),\n",
              " ('lote', 0.9995722770690918),\n",
              " ('endereço', 0.9995334148406982),\n",
              " ('Avenida', 0.999522864818573),\n",
              " ('Anápolis', 0.9995024800300598),\n",
              " ('Vila', 0.9994961619377136),\n",
              " ('Santa', 0.9994246959686279),\n",
              " ('Branco', 0.9994121193885803),\n",
              " ('1', 0.9994010925292969),\n",
              " ('Verde', 0.9993071556091309),\n",
              " ('nº', 0.9992910623550415),\n",
              " ('Castelo', 0.9992694854736328),\n",
              " ('localizado', 0.9992259740829468),\n",
              " ('situada', 0.9992216229438782),\n",
              " ('esquina', 0.9992121458053589),\n",
              " ('setor', 0.9991903305053711)]"
            ]
          },
          "metadata": {
            "tags": []
          },
          "execution_count": 35
        }
      ]
    },
    {
      "cell_type": "code",
      "metadata": {
        "id": "MwoxoQBpXxyL",
        "colab_type": "code",
        "outputId": "67e3a679-086d-4fb1-fcfa-9ebeeee87e17",
        "colab": {
          "base_uri": "https://localhost:8080/",
          "height": 445
        }
      },
      "source": [
        "model_w2v.most_similar(positive=['funcionando'], topn=20)\n"
      ],
      "execution_count": 0,
      "outputs": [
        {
          "output_type": "stream",
          "text": [
            "/usr/local/lib/python3.6/dist-packages/ipykernel_launcher.py:1: DeprecationWarning: Call to deprecated `most_similar` (Method will be removed in 4.0.0, use self.wv.most_similar() instead).\n",
            "  \"\"\"Entry point for launching an IPython kernel.\n",
            "/usr/local/lib/python3.6/dist-packages/gensim/matutils.py:737: FutureWarning: Conversion of the second argument of issubdtype from `int` to `np.signedinteger` is deprecated. In future, it will be treated as `np.int64 == np.dtype(int).type`.\n",
            "  if np.issubdtype(vec.dtype, np.int):\n"
          ],
          "name": "stderr"
        },
        {
          "output_type": "execute_result",
          "data": {
            "text/plain": [
              "[('normalmente', 0.9984535574913025),\n",
              " ('aberta', 0.998388946056366),\n",
              " ('Empresa', 0.9983341097831726),\n",
              " ('continua', 0.9980887770652771),\n",
              " ('está', 0.9980590343475342),\n",
              " ('descumprindo', 0.9980148673057556),\n",
              " ('funcionamento', 0.9980027079582214),\n",
              " ('recebendo', 0.9978110194206238),\n",
              " ('Indústria', 0.9977840185165405),\n",
              " ('esta', 0.9977736473083496),\n",
              " ('após', 0.9976708889007568),\n",
              " ('abertas', 0.9976555109024048),\n",
              " ('fabricação', 0.9976383447647095),\n",
              " ('atividades', 0.9975713491439819),\n",
              " ('vendendo', 0.9975452423095703),\n",
              " ('mínimo', 0.9975059628486633),\n",
              " ('normal', 0.9975036382675171),\n",
              " ('bebidas', 0.9975030422210693),\n",
              " ('ordem', 0.9974856376647949),\n",
              " ('postes', 0.9974217414855957)]"
            ]
          },
          "metadata": {
            "tags": []
          },
          "execution_count": 36
        }
      ]
    },
    {
      "cell_type": "code",
      "metadata": {
        "id": "SiaXEYXQXq6M",
        "colab_type": "code",
        "colab": {}
      },
      "source": [
        "from sklearn.manifold import TSNE\n",
        "import matplotlib.pyplot as plt\n",
        "from bokeh.plotting import figure, output_file, show\n",
        "from bokeh.models import ColumnDataSource, Range1d, LabelSet, Label"
      ],
      "execution_count": 0,
      "outputs": []
    },
    {
      "cell_type": "code",
      "metadata": {
        "id": "vwfp3_TPX4qS",
        "colab_type": "code",
        "outputId": "69813e7a-bf22-4ac0-ae21-6d1334b539ae",
        "colab": {
          "base_uri": "https://localhost:8080/",
          "height": 51
        }
      },
      "source": [
        "%%time\n",
        "model_w2v = gensim.models.Word2Vec(comentarios[\"tokens\"].tolist(), min_count=250, window = 9, size = 100)"
      ],
      "execution_count": 0,
      "outputs": [
        {
          "output_type": "stream",
          "text": [
            "CPU times: user 218 ms, sys: 7.92 ms, total: 226 ms\n",
            "Wall time: 170 ms\n"
          ],
          "name": "stdout"
        }
      ]
    },
    {
      "cell_type": "code",
      "metadata": {
        "id": "SJE7fAwTX6Mz",
        "colab_type": "code",
        "outputId": "ba47fca1-8264-4567-bf61-f97e5adc356d",
        "colab": {
          "base_uri": "https://localhost:8080/",
          "height": 71
        }
      },
      "source": [
        "tokens = []\n",
        "labels = []\n",
        "\n",
        "for x in model_w2v.wv.vocab:\n",
        "    tokens.append(model_w2v[x])\n",
        "    labels.append(x)"
      ],
      "execution_count": 0,
      "outputs": [
        {
          "output_type": "stream",
          "text": [
            "/usr/local/lib/python3.6/dist-packages/ipykernel_launcher.py:5: DeprecationWarning: Call to deprecated `__getitem__` (Method will be removed in 4.0.0, use self.wv.__getitem__() instead).\n",
            "  \"\"\"\n"
          ],
          "name": "stderr"
        }
      ]
    },
    {
      "cell_type": "code",
      "metadata": {
        "id": "trFCVCeqX7pm",
        "colab_type": "code",
        "outputId": "708d13da-bc29-46f9-8596-0853e8541105",
        "colab": {
          "base_uri": "https://localhost:8080/",
          "height": 51
        }
      },
      "source": [
        "%%time\n",
        "tsne_model = TSNE(n_components=2, random_state=11)\n",
        "fitted = tsne_model.fit_transform(tokens)"
      ],
      "execution_count": 0,
      "outputs": [
        {
          "output_type": "stream",
          "text": [
            "CPU times: user 511 ms, sys: 11.8 ms, total: 523 ms\n",
            "Wall time: 281 ms\n"
          ],
          "name": "stdout"
        }
      ]
    },
    {
      "cell_type": "code",
      "metadata": {
        "id": "cz4shsUaX9LK",
        "colab_type": "code",
        "colab": {}
      },
      "source": [
        "output_file(\"/content/drive/My Drive/Colab Notebooks/plot_covid_19.html\")\n",
        "            \n",
        "p = figure(plot_width=1000, plot_height=1000)\n",
        "\n",
        "lst = list(model_w2v.wv.vocab)\n",
        "\n",
        "\n",
        "\n",
        "p.circle(fitted[:, 0], fitted[:, 1], size=2, color=\"navy\", alpha=0.5)\n",
        "\n",
        "texts = lst\n",
        "\n",
        "\n",
        "source = ColumnDataSource(data=dict(x=fitted[:, 0], y=fitted[:, 1], text=texts))\n",
        "\n",
        "labels = LabelSet(x='x', y='y', text='text',\n",
        "         x_offset=5, y_offset=5, source=source)\n",
        "p.add_layout(labels)\n",
        "\n",
        "\n",
        "\n",
        "show(p)"
      ],
      "execution_count": 0,
      "outputs": []
    },
    {
      "cell_type": "code",
      "metadata": {
        "id": "qAQ4aS9OYBb9",
        "colab_type": "code",
        "colab": {}
      },
      "source": [
        ""
      ],
      "execution_count": 0,
      "outputs": []
    },
    {
      "cell_type": "markdown",
      "metadata": {
        "id": "fqwKlfBIYcwe",
        "colab_type": "text"
      },
      "source": [
        "**Cluster de TExto**"
      ]
    },
    {
      "cell_type": "code",
      "metadata": {
        "id": "FXiEcuqeYfdn",
        "colab_type": "code",
        "colab": {}
      },
      "source": [
        "#ajsutar dataframe\n",
        "dfObj = [e for e in comentarios[\"manifestacao\"] if isinstance(e, str)]\n",
        "dfObj = pd.DataFrame(dfObj)"
      ],
      "execution_count": 0,
      "outputs": []
    },
    {
      "cell_type": "code",
      "metadata": {
        "id": "0EX0z2axYrnf",
        "colab_type": "code",
        "colab": {}
      },
      "source": [
        "#importa biblitotecas\n",
        "from sklearn.feature_extraction.text import TfidfVectorizer\n",
        "from sklearn.preprocessing import normalize\n",
        "from sklearn.cluster import KMeans\n",
        "from sklearn.metrics.pairwise import cosine_similarity\n",
        "vectorizer = TfidfVectorizer() # variar parametros (L1/L2, etc)\n",
        "X = vectorizer.fit_transform(comentarios[\"manifestacao\"])\n",
        "X = normalize(X)"
      ],
      "execution_count": 0,
      "outputs": []
    },
    {
      "cell_type": "code",
      "metadata": {
        "id": "DR1p-sXaYuML",
        "colab_type": "code",
        "colab": {}
      },
      "source": [
        "kmeans = KMeans(\n",
        "    n_clusters = 8, # variar\n",
        "    n_init = 15, \n",
        "    max_iter = 450, \n",
        "    init = 'k-means++'\n",
        ")"
      ],
      "execution_count": 0,
      "outputs": []
    },
    {
      "cell_type": "code",
      "metadata": {
        "id": "PXv_anr9Yv_J",
        "colab_type": "code",
        "outputId": "992ce566-30a8-46de-def1-80abec0472ab",
        "colab": {
          "base_uri": "https://localhost:8080/",
          "height": 68
        }
      },
      "source": [
        "#treinar com kmeans\n",
        "\n",
        "kmeans.fit(X)"
      ],
      "execution_count": 0,
      "outputs": [
        {
          "output_type": "execute_result",
          "data": {
            "text/plain": [
              "KMeans(algorithm='auto', copy_x=True, init='k-means++', max_iter=450,\n",
              "       n_clusters=8, n_init=15, n_jobs=None, precompute_distances='auto',\n",
              "       random_state=None, tol=0.0001, verbose=0)"
            ]
          },
          "metadata": {
            "tags": []
          },
          "execution_count": 45
        }
      ]
    },
    {
      "cell_type": "code",
      "metadata": {
        "id": "AefiitCQYxs2",
        "colab_type": "code",
        "outputId": "b5183106-3827-478f-8e7d-faf67f660e6b",
        "colab": {
          "base_uri": "https://localhost:8080/",
          "height": 1000
        }
      },
      "source": [
        "comentarios['cluster'] = kmeans.labels_\n",
        "comentarios"
      ],
      "execution_count": 0,
      "outputs": [
        {
          "output_type": "execute_result",
          "data": {
            "text/html": [
              "<div>\n",
              "<style scoped>\n",
              "    .dataframe tbody tr th:only-of-type {\n",
              "        vertical-align: middle;\n",
              "    }\n",
              "\n",
              "    .dataframe tbody tr th {\n",
              "        vertical-align: top;\n",
              "    }\n",
              "\n",
              "    .dataframe thead th {\n",
              "        text-align: right;\n",
              "    }\n",
              "</style>\n",
              "<table border=\"1\" class=\"dataframe\">\n",
              "  <thead>\n",
              "    <tr style=\"text-align: right;\">\n",
              "      <th></th>\n",
              "      <th>protocolo</th>\n",
              "      <th>data_manifestacao</th>\n",
              "      <th>municipio_denunciante</th>\n",
              "      <th>municipio_fato</th>\n",
              "      <th>localFato</th>\n",
              "      <th>manifestacao</th>\n",
              "      <th>status_atual</th>\n",
              "      <th>desc_status</th>\n",
              "      <th>sigla</th>\n",
              "      <th>nome</th>\n",
              "      <th>tipo_manifestacao</th>\n",
              "      <th>assunto</th>\n",
              "      <th>sub_assunto</th>\n",
              "      <th>tokens</th>\n",
              "      <th>cluster</th>\n",
              "    </tr>\n",
              "  </thead>\n",
              "  <tbody>\n",
              "    <tr>\n",
              "      <th>0</th>\n",
              "      <td>2020.0314.215152-35</td>\n",
              "      <td>2020-03-14 21:51:52</td>\n",
              "      <td>NaN</td>\n",
              "      <td>GOIANIA</td>\n",
              "      <td>Setor Candida de Morais</td>\n",
              "      <td>Elogio com sugestão de ações</td>\n",
              "      <td>55</td>\n",
              "      <td>Finalizado pela ouvidoria do Órgão.</td>\n",
              "      <td>SGG/GOVERNADORIA</td>\n",
              "      <td>Secretaria Geral da Governadoria</td>\n",
              "      <td>Elogio</td>\n",
              "      <td>Saúde</td>\n",
              "      <td>Corona Vírus - Denúncia, solicitação ou inform...</td>\n",
              "      <td>[Elogio, com, sugestão, de, ações]</td>\n",
              "      <td>3</td>\n",
              "    </tr>\n",
              "    <tr>\n",
              "      <th>1</th>\n",
              "      <td>2020.0316.203054-88</td>\n",
              "      <td>2020-03-16 20:30:54</td>\n",
              "      <td>NaN</td>\n",
              "      <td>GOIANIA</td>\n",
              "      <td>Vila Redenção</td>\n",
              "      <td>Na empresa BTCC (prestadora de Serviços para O...</td>\n",
              "      <td>55</td>\n",
              "      <td>Finalizado pela ouvidoria do Órgão.</td>\n",
              "      <td>SES</td>\n",
              "      <td>Secretaria de Estado da Saúde</td>\n",
              "      <td>Comunicação</td>\n",
              "      <td>Saúde</td>\n",
              "      <td>Corona Vírus - Denúncia, solicitação ou inform...</td>\n",
              "      <td>[Na, empresa, BTCC, (, prestadora, de, Serviço...</td>\n",
              "      <td>5</td>\n",
              "    </tr>\n",
              "    <tr>\n",
              "      <th>2</th>\n",
              "      <td>2020.0318.081504-41</td>\n",
              "      <td>2020-03-18 08:15:04</td>\n",
              "      <td>NaN</td>\n",
              "      <td>ANAPOLIS</td>\n",
              "      <td>Vapt Vupt</td>\n",
              "      <td>Considerando o decreto do Sr. Governador quant...</td>\n",
              "      <td>55</td>\n",
              "      <td>Finalizado pela ouvidoria do Órgão.</td>\n",
              "      <td>SEAD</td>\n",
              "      <td>Secretaria de Estado de Administração (Antiga ...</td>\n",
              "      <td>Comunicação</td>\n",
              "      <td>Saúde</td>\n",
              "      <td>Corona Vírus - Denúncia, solicitação ou inform...</td>\n",
              "      <td>[Considerando, o, decreto, do, Sr, ., Governad...</td>\n",
              "      <td>5</td>\n",
              "    </tr>\n",
              "    <tr>\n",
              "      <th>3</th>\n",
              "      <td>2020.0318.115152-35</td>\n",
              "      <td>2020-03-18 11:51:52</td>\n",
              "      <td>NaN</td>\n",
              "      <td>GOIANIA</td>\n",
              "      <td>POLÍCIA CÍVIL</td>\n",
              "      <td>Em meio a grave pandemia de coronavirus pela q...</td>\n",
              "      <td>55</td>\n",
              "      <td>Finalizado pela ouvidoria do Órgão.</td>\n",
              "      <td>SSP</td>\n",
              "      <td>Sec. Estado da Segurança Pública (Policias Civ...</td>\n",
              "      <td>Comunicação</td>\n",
              "      <td>Saúde</td>\n",
              "      <td>Corona Vírus - Denúncia, solicitação ou inform...</td>\n",
              "      <td>[Em, meio, a, grave, pandemia, de, coronavirus...</td>\n",
              "      <td>5</td>\n",
              "    </tr>\n",
              "    <tr>\n",
              "      <th>4</th>\n",
              "      <td>2020.0318.115845-69</td>\n",
              "      <td>2020-03-18 11:58:45</td>\n",
              "      <td>NaN</td>\n",
              "      <td>GOIANIA</td>\n",
              "      <td>NaN</td>\n",
              "      <td>Em virtude do Decreto emitido pelo Governador ...</td>\n",
              "      <td>55</td>\n",
              "      <td>Finalizado pela ouvidoria do Órgão.</td>\n",
              "      <td>SSP</td>\n",
              "      <td>Sec. Estado da Segurança Pública (Policias Civ...</td>\n",
              "      <td>Comunicação</td>\n",
              "      <td>Saúde</td>\n",
              "      <td>Corona Vírus - Denúncia, solicitação ou inform...</td>\n",
              "      <td>[Em, virtude, do, Decreto, emitido, pelo, Gove...</td>\n",
              "      <td>5</td>\n",
              "    </tr>\n",
              "    <tr>\n",
              "      <th>...</th>\n",
              "      <td>...</td>\n",
              "      <td>...</td>\n",
              "      <td>...</td>\n",
              "      <td>...</td>\n",
              "      <td>...</td>\n",
              "      <td>...</td>\n",
              "      <td>...</td>\n",
              "      <td>...</td>\n",
              "      <td>...</td>\n",
              "      <td>...</td>\n",
              "      <td>...</td>\n",
              "      <td>...</td>\n",
              "      <td>...</td>\n",
              "      <td>...</td>\n",
              "      <td>...</td>\n",
              "    </tr>\n",
              "    <tr>\n",
              "      <th>2124</th>\n",
              "      <td>2020.0323.171546-19</td>\n",
              "      <td>2020-03-23 17:15:46</td>\n",
              "      <td>NaN</td>\n",
              "      <td>GOIANIA</td>\n",
              "      <td>avenida desembargador emilio francisco povoa</td>\n",
              "      <td>Aglomeraçao de pessoas trabalhando</td>\n",
              "      <td>1</td>\n",
              "      <td>NaN</td>\n",
              "      <td>SES</td>\n",
              "      <td>Secretaria de Estado da Saúde</td>\n",
              "      <td>Comunicação</td>\n",
              "      <td>Saúde</td>\n",
              "      <td>Corona Vírus - Denúncia, solicitação ou inform...</td>\n",
              "      <td>[Aglomeraçao, de, pessoas, trabalhando]</td>\n",
              "      <td>4</td>\n",
              "    </tr>\n",
              "    <tr>\n",
              "      <th>2125</th>\n",
              "      <td>2020.0323.171729-93</td>\n",
              "      <td>2020-03-23 17:17:29</td>\n",
              "      <td>NaN</td>\n",
              "      <td>ITABERAI</td>\n",
              "      <td>NaN</td>\n",
              "      <td>Prefeitura de Itaberaí está funcionando  norma...</td>\n",
              "      <td>1</td>\n",
              "      <td>NaN</td>\n",
              "      <td>CGE</td>\n",
              "      <td>Controladoria-Geral do Estado de Goiás / Ouvid...</td>\n",
              "      <td>Comunicação</td>\n",
              "      <td>Saúde</td>\n",
              "      <td>Corona Vírus - Denúncia, solicitação ou inform...</td>\n",
              "      <td>[Prefeitura, de, Itaberaí, está, funcionando, ...</td>\n",
              "      <td>4</td>\n",
              "    </tr>\n",
              "    <tr>\n",
              "      <th>2126</th>\n",
              "      <td>2020.0323.171814-6</td>\n",
              "      <td>2020-03-23 17:18:14</td>\n",
              "      <td>NaN</td>\n",
              "      <td>APARECIDA DE GOIANIA</td>\n",
              "      <td>Odorata Cosméticos</td>\n",
              "      <td>Um funcionário acabou de homologar o atestado ...</td>\n",
              "      <td>1</td>\n",
              "      <td>NaN</td>\n",
              "      <td>CGE</td>\n",
              "      <td>Controladoria-Geral do Estado de Goiás / Ouvid...</td>\n",
              "      <td>Comunicação</td>\n",
              "      <td>Saúde</td>\n",
              "      <td>Corona Vírus - Denúncia, solicitação ou inform...</td>\n",
              "      <td>[Um, funcionário, acabou, de, homologar, o, at...</td>\n",
              "      <td>5</td>\n",
              "    </tr>\n",
              "    <tr>\n",
              "      <th>2127</th>\n",
              "      <td>2020.0323.172012-42</td>\n",
              "      <td>2020-03-23 17:20:12</td>\n",
              "      <td>NaN</td>\n",
              "      <td>INHUMAS</td>\n",
              "      <td>Construção do hospital do câncer de Goiás</td>\n",
              "      <td>Obra do HCG  inhumas  em funcionamento  sem ne...</td>\n",
              "      <td>1</td>\n",
              "      <td>NaN</td>\n",
              "      <td>CGE</td>\n",
              "      <td>Controladoria-Geral do Estado de Goiás / Ouvid...</td>\n",
              "      <td>Comunicação</td>\n",
              "      <td>Saúde</td>\n",
              "      <td>Corona Vírus - Denúncia, solicitação ou inform...</td>\n",
              "      <td>[Obra, do, HCG,  , inhumas,  , em, funcionamen...</td>\n",
              "      <td>2</td>\n",
              "    </tr>\n",
              "    <tr>\n",
              "      <th>2128</th>\n",
              "      <td>2020.0323.172018-57</td>\n",
              "      <td>2020-03-23 17:20:18</td>\n",
              "      <td>NaN</td>\n",
              "      <td>GOIANIA</td>\n",
              "      <td>Setor  Sol Nascente</td>\n",
              "      <td>Minha denúncia é a respeito da Faculdade Cambu...</td>\n",
              "      <td>1</td>\n",
              "      <td>NaN</td>\n",
              "      <td>CGE</td>\n",
              "      <td>Controladoria-Geral do Estado de Goiás / Ouvid...</td>\n",
              "      <td>Comunicação</td>\n",
              "      <td>Saúde</td>\n",
              "      <td>Corona Vírus - Denúncia, solicitação ou inform...</td>\n",
              "      <td>[Minha, denúncia, é, a, respeito, da, Faculdad...</td>\n",
              "      <td>2</td>\n",
              "    </tr>\n",
              "  </tbody>\n",
              "</table>\n",
              "<p>2129 rows × 15 columns</p>\n",
              "</div>"
            ],
            "text/plain": [
              "                protocolo  ... cluster\n",
              "0     2020.0314.215152-35  ...       3\n",
              "1     2020.0316.203054-88  ...       5\n",
              "2     2020.0318.081504-41  ...       5\n",
              "3     2020.0318.115152-35  ...       5\n",
              "4     2020.0318.115845-69  ...       5\n",
              "...                   ...  ...     ...\n",
              "2124  2020.0323.171546-19  ...       4\n",
              "2125  2020.0323.171729-93  ...       4\n",
              "2126   2020.0323.171814-6  ...       5\n",
              "2127  2020.0323.172012-42  ...       2\n",
              "2128  2020.0323.172018-57  ...       2\n",
              "\n",
              "[2129 rows x 15 columns]"
            ]
          },
          "metadata": {
            "tags": []
          },
          "execution_count": 46
        }
      ]
    },
    {
      "cell_type": "code",
      "metadata": {
        "id": "J8WGU3_TZhqV",
        "colab_type": "code",
        "outputId": "f9738ec9-fc0e-49fd-8cae-c48460cefe55",
        "colab": {
          "base_uri": "https://localhost:8080/",
          "height": 170
        }
      },
      "source": [
        "comentarios['cluster'].value_counts()"
      ],
      "execution_count": 0,
      "outputs": [
        {
          "output_type": "execute_result",
          "data": {
            "text/plain": [
              "3    552\n",
              "5    509\n",
              "2    370\n",
              "6    216\n",
              "4    203\n",
              "7    141\n",
              "1    125\n",
              "0     13\n",
              "Name: cluster, dtype: int64"
            ]
          },
          "metadata": {
            "tags": []
          },
          "execution_count": 47
        }
      ]
    },
    {
      "cell_type": "markdown",
      "metadata": {
        "id": "m-prrxtZ3PFJ",
        "colab_type": "text"
      },
      "source": [
        ""
      ]
    },
    {
      "cell_type": "code",
      "metadata": {
        "id": "aVWRuN41ZlgR",
        "colab_type": "code",
        "colab": {}
      },
      "source": [
        "comentarios.to_csv('/content/drive/My Drive/Colab Notebooks/covid_19_cluuster_new.csv')\n"
      ],
      "execution_count": 0,
      "outputs": []
    },
    {
      "cell_type": "code",
      "metadata": {
        "id": "DG5p24O13LA-",
        "colab_type": "code",
        "colab": {}
      },
      "source": [
        "text = ['funcionando']\n"
      ],
      "execution_count": 0,
      "outputs": []
    },
    {
      "cell_type": "code",
      "metadata": {
        "id": "SU75B3YF35oZ",
        "colab_type": "code",
        "outputId": "cc12b836-e816-4e89-f152-7efe9065d3f8",
        "colab": {
          "base_uri": "https://localhost:8080/",
          "height": 255
        }
      },
      "source": [
        "X_new = vectorizer.transform(text)\n",
        "comentarios['coseno'] = cosine_similarity(X_new, X)[0]\n",
        "print(comentarios.sort_values(by = 'coseno'))"
      ],
      "execution_count": 0,
      "outputs": [
        {
          "output_type": "stream",
          "text": [
            "                protocolo    data_manifestacao  ... cluster    coseno\n",
            "0     2020.0314.215152-35  2020-03-14 21:51:52  ...       3  0.000000\n",
            "1332  2020.0323.100903-21  2020-03-23 10:09:03  ...       5  0.000000\n",
            "1331  2020.0323.100853-60  2020-03-23 10:08:53  ...       1  0.000000\n",
            "1330  2020.0323.100845-67  2020-03-23 10:08:45  ...       6  0.000000\n",
            "1329   2020.0323.100835-8  2020-03-23 10:08:35  ...       7  0.000000\n",
            "...                   ...                  ...  ...     ...       ...\n",
            "300   2020.0320.230434-94  2020-03-20 23:04:34  ...       3  0.300338\n",
            "1816  2020.0323.130117-66  2020-03-23 13:01:17  ...       4  0.312938\n",
            "1881  2020.0323.134229-38  2020-03-23 13:42:29  ...       2  0.319629\n",
            "1305  2020.0323.100024-94  2020-03-23 10:00:24  ...       2  0.422764\n",
            "996   2020.0322.214243-68  2020-03-22 21:42:43  ...       2  0.630653\n",
            "\n",
            "[2129 rows x 16 columns]\n"
          ],
          "name": "stdout"
        }
      ]
    },
    {
      "cell_type": "code",
      "metadata": {
        "id": "Oi0MZO7O4Av8",
        "colab_type": "code",
        "outputId": "a5205bcd-6267-4f9f-8737-57a6c69d85f3",
        "colab": {
          "base_uri": "https://localhost:8080/",
          "height": 1000
        }
      },
      "source": [
        "comentarios[comentarios['coseno']>0.2]"
      ],
      "execution_count": 0,
      "outputs": [
        {
          "output_type": "execute_result",
          "data": {
            "text/html": [
              "<div>\n",
              "<style scoped>\n",
              "    .dataframe tbody tr th:only-of-type {\n",
              "        vertical-align: middle;\n",
              "    }\n",
              "\n",
              "    .dataframe tbody tr th {\n",
              "        vertical-align: top;\n",
              "    }\n",
              "\n",
              "    .dataframe thead th {\n",
              "        text-align: right;\n",
              "    }\n",
              "</style>\n",
              "<table border=\"1\" class=\"dataframe\">\n",
              "  <thead>\n",
              "    <tr style=\"text-align: right;\">\n",
              "      <th></th>\n",
              "      <th>protocolo</th>\n",
              "      <th>data_manifestacao</th>\n",
              "      <th>municipio_denunciante</th>\n",
              "      <th>municipio_fato</th>\n",
              "      <th>localFato</th>\n",
              "      <th>manifestacao</th>\n",
              "      <th>status_atual</th>\n",
              "      <th>desc_status</th>\n",
              "      <th>sigla</th>\n",
              "      <th>nome</th>\n",
              "      <th>tipo_manifestacao</th>\n",
              "      <th>assunto</th>\n",
              "      <th>sub_assunto</th>\n",
              "      <th>tokens</th>\n",
              "      <th>cluster</th>\n",
              "      <th>coseno</th>\n",
              "    </tr>\n",
              "  </thead>\n",
              "  <tbody>\n",
              "    <tr>\n",
              "      <th>203</th>\n",
              "      <td>2020.0320.194657-79</td>\n",
              "      <td>2020-03-20 19:46:57</td>\n",
              "      <td>NaN</td>\n",
              "      <td>GOIANIA</td>\n",
              "      <td>Rua Jaraguá Setor Campinas</td>\n",
              "      <td>Loja comercial funcionando durante a quarentena</td>\n",
              "      <td>1</td>\n",
              "      <td>NaN</td>\n",
              "      <td>CGE</td>\n",
              "      <td>Controladoria-Geral do Estado de Goiás / Ouvid...</td>\n",
              "      <td>Comunicação</td>\n",
              "      <td>Saúde</td>\n",
              "      <td>Corona Vírus - Denúncia, solicitação ou inform...</td>\n",
              "      <td>[Loja, comercial, funcionando, durante, a, qua...</td>\n",
              "      <td>7</td>\n",
              "      <td>0.298126</td>\n",
              "    </tr>\n",
              "    <tr>\n",
              "      <th>300</th>\n",
              "      <td>2020.0320.230434-94</td>\n",
              "      <td>2020-03-20 23:04:34</td>\n",
              "      <td>NaN</td>\n",
              "      <td>COCALZINHO DE GOIAS</td>\n",
              "      <td>Cocalzinho de Goiás - GO, 72975-000</td>\n",
              "      <td>Funcionamento de uma lanchonete que está funci...</td>\n",
              "      <td>1</td>\n",
              "      <td>NaN</td>\n",
              "      <td>CGE</td>\n",
              "      <td>Controladoria-Geral do Estado de Goiás / Ouvid...</td>\n",
              "      <td>Comunicação</td>\n",
              "      <td>Saúde</td>\n",
              "      <td>Corona Vírus - Denúncia, solicitação ou inform...</td>\n",
              "      <td>[Funcionamento, de, uma, lanchonete, que, está...</td>\n",
              "      <td>3</td>\n",
              "      <td>0.300338</td>\n",
              "    </tr>\n",
              "    <tr>\n",
              "      <th>470</th>\n",
              "      <td>2020.0321.121644-83</td>\n",
              "      <td>2020-03-21 12:16:44</td>\n",
              "      <td>NaN</td>\n",
              "      <td>INHUMAS</td>\n",
              "      <td>Ferragista Goiás</td>\n",
              "      <td>Ferragista Goiás está funcionando normalmente ...</td>\n",
              "      <td>1</td>\n",
              "      <td>NaN</td>\n",
              "      <td>CGE</td>\n",
              "      <td>Controladoria-Geral do Estado de Goiás / Ouvid...</td>\n",
              "      <td>Comunicação</td>\n",
              "      <td>Saúde</td>\n",
              "      <td>Corona Vírus - Denúncia, solicitação ou inform...</td>\n",
              "      <td>[Ferragista, Goiás, está, funcionando, normalm...</td>\n",
              "      <td>2</td>\n",
              "      <td>0.204201</td>\n",
              "    </tr>\n",
              "    <tr>\n",
              "      <th>484</th>\n",
              "      <td>2020.0321.121823-49</td>\n",
              "      <td>2020-03-21 12:18:23</td>\n",
              "      <td>NaN</td>\n",
              "      <td>APARECIDA DE GOIANIA</td>\n",
              "      <td>NaN</td>\n",
              "      <td>Indústrias no polo industrial funcionando norm...</td>\n",
              "      <td>1</td>\n",
              "      <td>NaN</td>\n",
              "      <td>CGE</td>\n",
              "      <td>Controladoria-Geral do Estado de Goiás / Ouvid...</td>\n",
              "      <td>Comunicação</td>\n",
              "      <td>Saúde</td>\n",
              "      <td>Corona Vírus - Denúncia, solicitação ou inform...</td>\n",
              "      <td>[Indústrias, no, polo, industrial, funcionando...</td>\n",
              "      <td>6</td>\n",
              "      <td>0.202958</td>\n",
              "    </tr>\n",
              "    <tr>\n",
              "      <th>651</th>\n",
              "      <td>2020.0321.134757-98</td>\n",
              "      <td>2020-03-21 13:47:57</td>\n",
              "      <td>NaN</td>\n",
              "      <td>SANTA ROSA DE GOIAS</td>\n",
              "      <td>Toda a cidade</td>\n",
              "      <td>Comércios funcionando normalmente em horário c...</td>\n",
              "      <td>1</td>\n",
              "      <td>NaN</td>\n",
              "      <td>CGE</td>\n",
              "      <td>Controladoria-Geral do Estado de Goiás / Ouvid...</td>\n",
              "      <td>Comunicação</td>\n",
              "      <td>Saúde</td>\n",
              "      <td>Corona Vírus - Denúncia, solicitação ou inform...</td>\n",
              "      <td>[Comércios, funcionando, normalmente, em, horá...</td>\n",
              "      <td>3</td>\n",
              "      <td>0.213368</td>\n",
              "    </tr>\n",
              "    <tr>\n",
              "      <th>669</th>\n",
              "      <td>2020.0321.141858-30</td>\n",
              "      <td>2020-03-21 14:18:58</td>\n",
              "      <td>NaN</td>\n",
              "      <td>GOIANIA</td>\n",
              "      <td>Edifício orion.</td>\n",
              "      <td>Sistemas de valet manobristas tem que continua...</td>\n",
              "      <td>1</td>\n",
              "      <td>NaN</td>\n",
              "      <td>CGE</td>\n",
              "      <td>Controladoria-Geral do Estado de Goiás / Ouvid...</td>\n",
              "      <td>Comunicação</td>\n",
              "      <td>Saúde</td>\n",
              "      <td>Corona Vírus - Denúncia, solicitação ou inform...</td>\n",
              "      <td>[Sistemas, de, valet, manobristas, tem, que, c...</td>\n",
              "      <td>5</td>\n",
              "      <td>0.209767</td>\n",
              "    </tr>\n",
              "    <tr>\n",
              "      <th>683</th>\n",
              "      <td>2020.0321.144758-27</td>\n",
              "      <td>2020-03-21 14:47:58</td>\n",
              "      <td>NaN</td>\n",
              "      <td>APARECIDA DE GOIANIA</td>\n",
              "      <td>Ferragens Negrão (ao lado da indústria arroz c...</td>\n",
              "      <td>Empresa funcionando normal com mais de 30 func...</td>\n",
              "      <td>1</td>\n",
              "      <td>NaN</td>\n",
              "      <td>CGE</td>\n",
              "      <td>Controladoria-Geral do Estado de Goiás / Ouvid...</td>\n",
              "      <td>Comunicação</td>\n",
              "      <td>Saúde</td>\n",
              "      <td>Corona Vírus - Denúncia, solicitação ou inform...</td>\n",
              "      <td>[Empresa, funcionando, normal, com, mais, de, ...</td>\n",
              "      <td>2</td>\n",
              "      <td>0.300301</td>\n",
              "    </tr>\n",
              "    <tr>\n",
              "      <th>693</th>\n",
              "      <td>2020.0321.152317-83</td>\n",
              "      <td>2020-03-21 15:23:17</td>\n",
              "      <td>NaN</td>\n",
              "      <td>APARECIDA DE GOIANIA</td>\n",
              "      <td>Govesa consórcio</td>\n",
              "      <td>Empresa funcionando na cidade empresarial Apar...</td>\n",
              "      <td>1</td>\n",
              "      <td>NaN</td>\n",
              "      <td>CGE</td>\n",
              "      <td>Controladoria-Geral do Estado de Goiás / Ouvid...</td>\n",
              "      <td>Comunicação</td>\n",
              "      <td>Saúde</td>\n",
              "      <td>Corona Vírus - Denúncia, solicitação ou inform...</td>\n",
              "      <td>[Empresa, funcionando, na, cidade, empresarial...</td>\n",
              "      <td>3</td>\n",
              "      <td>0.260704</td>\n",
              "    </tr>\n",
              "    <tr>\n",
              "      <th>949</th>\n",
              "      <td>2020.0322.190517-84</td>\n",
              "      <td>2020-03-22 19:05:17</td>\n",
              "      <td>NaN</td>\n",
              "      <td>ITABERAI</td>\n",
              "      <td>Metal hidro</td>\n",
              "      <td>Muita gente no local , e estão funcionando nor...</td>\n",
              "      <td>1</td>\n",
              "      <td>NaN</td>\n",
              "      <td>CGE</td>\n",
              "      <td>Controladoria-Geral do Estado de Goiás / Ouvid...</td>\n",
              "      <td>Comunicação</td>\n",
              "      <td>Saúde</td>\n",
              "      <td>Corona Vírus - Denúncia, solicitação ou inform...</td>\n",
              "      <td>[Muita, gente, no, local, ,, e, estão, funcion...</td>\n",
              "      <td>3</td>\n",
              "      <td>0.277407</td>\n",
              "    </tr>\n",
              "    <tr>\n",
              "      <th>996</th>\n",
              "      <td>2020.0322.214243-68</td>\n",
              "      <td>2020-03-22 21:42:43</td>\n",
              "      <td>NaN</td>\n",
              "      <td>APARECIDA DE GOIANIA</td>\n",
              "      <td>Av. Rio Verde, Jardim Helvécia. CEP:74.933-750</td>\n",
              "      <td>A empresa está funcionando</td>\n",
              "      <td>1</td>\n",
              "      <td>NaN</td>\n",
              "      <td>CGE</td>\n",
              "      <td>Controladoria-Geral do Estado de Goiás / Ouvid...</td>\n",
              "      <td>Comunicação</td>\n",
              "      <td>Saúde</td>\n",
              "      <td>Corona Vírus - Denúncia, solicitação ou inform...</td>\n",
              "      <td>[A, empresa, está, funcionando]</td>\n",
              "      <td>2</td>\n",
              "      <td>0.630653</td>\n",
              "    </tr>\n",
              "    <tr>\n",
              "      <th>1134</th>\n",
              "      <td>2020.0323.085621-19</td>\n",
              "      <td>2020-03-23 08:56:21</td>\n",
              "      <td>NaN</td>\n",
              "      <td>GOIANIA</td>\n",
              "      <td>Av. T63</td>\n",
              "      <td>Sou vizinho da casa do marceneiro na avenida t...</td>\n",
              "      <td>1</td>\n",
              "      <td>NaN</td>\n",
              "      <td>CGE</td>\n",
              "      <td>Controladoria-Geral do Estado de Goiás / Ouvid...</td>\n",
              "      <td>Comunicação</td>\n",
              "      <td>Saúde</td>\n",
              "      <td>Corona Vírus - Denúncia, solicitação ou inform...</td>\n",
              "      <td>[Sou, vizinho, da, casa, do, marceneiro, na, a...</td>\n",
              "      <td>2</td>\n",
              "      <td>0.204795</td>\n",
              "    </tr>\n",
              "    <tr>\n",
              "      <th>1140</th>\n",
              "      <td>2020.0323.085907-5</td>\n",
              "      <td>2020-03-23 08:59:07</td>\n",
              "      <td>NaN</td>\n",
              "      <td>GOIANIA</td>\n",
              "      <td>Rua da Prata, Jardim Diamantina</td>\n",
              "      <td>Várias empresas de serviços não essenciais est...</td>\n",
              "      <td>1</td>\n",
              "      <td>NaN</td>\n",
              "      <td>CGE</td>\n",
              "      <td>Controladoria-Geral do Estado de Goiás / Ouvid...</td>\n",
              "      <td>Comunicação</td>\n",
              "      <td>Saúde</td>\n",
              "      <td>Corona Vírus - Denúncia, solicitação ou inform...</td>\n",
              "      <td>[Várias, empresas, de, serviços, não, essencia...</td>\n",
              "      <td>1</td>\n",
              "      <td>0.261504</td>\n",
              "    </tr>\n",
              "    <tr>\n",
              "      <th>1149</th>\n",
              "      <td>2020.0323.090211-99</td>\n",
              "      <td>2020-03-23 09:02:11</td>\n",
              "      <td>NaN</td>\n",
              "      <td>GOIANIA</td>\n",
              "      <td>avenida do povo quadra 6 lote 01 s/n vila mutirao</td>\n",
              "      <td>Empresa torneadora e têxtil funcionando normal...</td>\n",
              "      <td>55</td>\n",
              "      <td>Finalizado pela ouvidoria do Órgão.</td>\n",
              "      <td>SSP</td>\n",
              "      <td>Sec. Estado da Segurança Pública (Policias Civ...</td>\n",
              "      <td>Comunicação</td>\n",
              "      <td>Saúde</td>\n",
              "      <td>Corona Vírus - Denúncia, solicitação ou inform...</td>\n",
              "      <td>[Empresa, torneadora, e, têxtil, funcionando, ...</td>\n",
              "      <td>6</td>\n",
              "      <td>0.204441</td>\n",
              "    </tr>\n",
              "    <tr>\n",
              "      <th>1167</th>\n",
              "      <td>2020.0323.090930-88</td>\n",
              "      <td>2020-03-23 09:09:30</td>\n",
              "      <td>NaN</td>\n",
              "      <td>VALPARAISO DE GOIAS</td>\n",
              "      <td>Rua 15 jardim oriente próximo ao banco Itaú</td>\n",
              "      <td>Estabelecimentos estão descumprindo o decreto,...</td>\n",
              "      <td>1</td>\n",
              "      <td>NaN</td>\n",
              "      <td>CGE</td>\n",
              "      <td>Controladoria-Geral do Estado de Goiás / Ouvid...</td>\n",
              "      <td>Comunicação</td>\n",
              "      <td>Saúde</td>\n",
              "      <td>Corona Vírus - Denúncia, solicitação ou inform...</td>\n",
              "      <td>[Estabelecimentos, estão, descumprindo, o, dec...</td>\n",
              "      <td>4</td>\n",
              "      <td>0.217179</td>\n",
              "    </tr>\n",
              "    <tr>\n",
              "      <th>1284</th>\n",
              "      <td>2020.0323.095546-74</td>\n",
              "      <td>2020-03-23 09:55:46</td>\n",
              "      <td>NaN</td>\n",
              "      <td>SENADOR CANEDO</td>\n",
              "      <td>Savoy</td>\n",
              "      <td>Empresa com mais de 3 mil funcionários em um l...</td>\n",
              "      <td>1</td>\n",
              "      <td>NaN</td>\n",
              "      <td>CGE</td>\n",
              "      <td>Controladoria-Geral do Estado de Goiás / Ouvid...</td>\n",
              "      <td>Comunicação</td>\n",
              "      <td>Saúde</td>\n",
              "      <td>Corona Vírus - Denúncia, solicitação ou inform...</td>\n",
              "      <td>[Empresa, com, mais, de, 3, mil, funcionários,...</td>\n",
              "      <td>2</td>\n",
              "      <td>0.232182</td>\n",
              "    </tr>\n",
              "    <tr>\n",
              "      <th>1305</th>\n",
              "      <td>2020.0323.100024-94</td>\n",
              "      <td>2020-03-23 10:00:24</td>\n",
              "      <td>NaN</td>\n",
              "      <td>GOIANIA</td>\n",
              "      <td>Balcony brasil</td>\n",
              "      <td>Empresa funcionando normalmente com funcionári...</td>\n",
              "      <td>1</td>\n",
              "      <td>NaN</td>\n",
              "      <td>CGE</td>\n",
              "      <td>Controladoria-Geral do Estado de Goiás / Ouvid...</td>\n",
              "      <td>Comunicação</td>\n",
              "      <td>Saúde</td>\n",
              "      <td>Corona Vírus - Denúncia, solicitação ou inform...</td>\n",
              "      <td>[Empresa, funcionando, normalmente, com, funci...</td>\n",
              "      <td>2</td>\n",
              "      <td>0.422764</td>\n",
              "    </tr>\n",
              "    <tr>\n",
              "      <th>1522</th>\n",
              "      <td>2020.0323.110108-64</td>\n",
              "      <td>2020-03-23 11:01:08</td>\n",
              "      <td>NaN</td>\n",
              "      <td>GOIANIA</td>\n",
              "      <td>elétrica radiante, Avenida Volta Redonda, Jard...</td>\n",
              "      <td>Indústria funcionando com mais de 200 funcioná...</td>\n",
              "      <td>1</td>\n",
              "      <td>NaN</td>\n",
              "      <td>SSP</td>\n",
              "      <td>Sec. Estado da Segurança Pública (Policias Civ...</td>\n",
              "      <td>Comunicação</td>\n",
              "      <td>Saúde</td>\n",
              "      <td>Corona Vírus - Denúncia, solicitação ou inform...</td>\n",
              "      <td>[Indústria, funcionando, com, mais, de, 200, f...</td>\n",
              "      <td>0</td>\n",
              "      <td>0.221149</td>\n",
              "    </tr>\n",
              "    <tr>\n",
              "      <th>1558</th>\n",
              "      <td>2020.0323.111351-74</td>\n",
              "      <td>2020-03-23 11:13:51</td>\n",
              "      <td>NaN</td>\n",
              "      <td>GOIANIA</td>\n",
              "      <td>Alameda Couto Magalhães nr 890 piso 2 Pedro lu...</td>\n",
              "      <td>Empresa descomprimido o decreto do governador ...</td>\n",
              "      <td>1</td>\n",
              "      <td>NaN</td>\n",
              "      <td>CGE</td>\n",
              "      <td>Controladoria-Geral do Estado de Goiás / Ouvid...</td>\n",
              "      <td>Comunicação</td>\n",
              "      <td>Saúde</td>\n",
              "      <td>Corona Vírus - Denúncia, solicitação ou inform...</td>\n",
              "      <td>[Empresa, descomprimido, o, decreto, do, gover...</td>\n",
              "      <td>6</td>\n",
              "      <td>0.263824</td>\n",
              "    </tr>\n",
              "    <tr>\n",
              "      <th>1567</th>\n",
              "      <td>2020.0323.111836-94</td>\n",
              "      <td>2020-03-23 11:18:36</td>\n",
              "      <td>NaN</td>\n",
              "      <td>GOIANIA</td>\n",
              "      <td>Alameda Couto Magalhães nr 890 piso 2 Pedro lu...</td>\n",
              "      <td>Empresa descomprimido o decreto do governador ...</td>\n",
              "      <td>1</td>\n",
              "      <td>NaN</td>\n",
              "      <td>CGE</td>\n",
              "      <td>Controladoria-Geral do Estado de Goiás / Ouvid...</td>\n",
              "      <td>Comunicação</td>\n",
              "      <td>Saúde</td>\n",
              "      <td>Corona Vírus - Denúncia, solicitação ou inform...</td>\n",
              "      <td>[Empresa, descomprimido, o, decreto, do, gover...</td>\n",
              "      <td>6</td>\n",
              "      <td>0.263824</td>\n",
              "    </tr>\n",
              "    <tr>\n",
              "      <th>1629</th>\n",
              "      <td>2020.0323.114046-11</td>\n",
              "      <td>2020-03-23 11:40:46</td>\n",
              "      <td>NaN</td>\n",
              "      <td>ANAPOLIS</td>\n",
              "      <td>DAIA- GRAVIA PORTAS E JANELAS</td>\n",
              "      <td>Empresa metalúrgica deve continuar funcionando...</td>\n",
              "      <td>1</td>\n",
              "      <td>NaN</td>\n",
              "      <td>CGE</td>\n",
              "      <td>Controladoria-Geral do Estado de Goiás / Ouvid...</td>\n",
              "      <td>Comunicação</td>\n",
              "      <td>Saúde</td>\n",
              "      <td>Corona Vírus - Denúncia, solicitação ou inform...</td>\n",
              "      <td>[Empresa, metalúrgica, deve, continuar, funcio...</td>\n",
              "      <td>3</td>\n",
              "      <td>0.247346</td>\n",
              "    </tr>\n",
              "    <tr>\n",
              "      <th>1765</th>\n",
              "      <td>2020.0323.123559-37</td>\n",
              "      <td>2020-03-23 12:35:59</td>\n",
              "      <td>NaN</td>\n",
              "      <td>GOIANIA</td>\n",
              "      <td>NaN</td>\n",
              "      <td>Lava jato funcionando com aglomeração e pessoa...</td>\n",
              "      <td>55</td>\n",
              "      <td>Finalizado pela ouvidoria do Órgão.</td>\n",
              "      <td>AGR</td>\n",
              "      <td>Agência Goiana de Regulação, Controle e Fiscal...</td>\n",
              "      <td>Comunicação</td>\n",
              "      <td>Saúde</td>\n",
              "      <td>Corona Vírus - Denúncia, solicitação ou inform...</td>\n",
              "      <td>[Lava, jato, funcionando, com, aglomeração, e,...</td>\n",
              "      <td>4</td>\n",
              "      <td>0.202284</td>\n",
              "    </tr>\n",
              "    <tr>\n",
              "      <th>1816</th>\n",
              "      <td>2020.0323.130117-66</td>\n",
              "      <td>2020-03-23 13:01:17</td>\n",
              "      <td>NaN</td>\n",
              "      <td>APARECIDA DE GOIANIA</td>\n",
              "      <td>NaN</td>\n",
              "      <td>Empresa funcionando com suspeita de 2 pessoas ...</td>\n",
              "      <td>1</td>\n",
              "      <td>NaN</td>\n",
              "      <td>CGE</td>\n",
              "      <td>Controladoria-Geral do Estado de Goiás / Ouvid...</td>\n",
              "      <td>Comunicação</td>\n",
              "      <td>Saúde</td>\n",
              "      <td>Corona Vírus - Denúncia, solicitação ou inform...</td>\n",
              "      <td>[Empresa, funcionando, com, suspeita, de, 2, p...</td>\n",
              "      <td>4</td>\n",
              "      <td>0.312938</td>\n",
              "    </tr>\n",
              "    <tr>\n",
              "      <th>1871</th>\n",
              "      <td>2020.0323.133456-45</td>\n",
              "      <td>2020-03-23 13:34:56</td>\n",
              "      <td>NaN</td>\n",
              "      <td>APARECIDA DE GOIANIA</td>\n",
              "      <td>Tintas Negrão(ferragens Negrão ao lado da indú...</td>\n",
              "      <td>Empresa com mais de 30 funcionários funcionand...</td>\n",
              "      <td>1</td>\n",
              "      <td>NaN</td>\n",
              "      <td>CGE</td>\n",
              "      <td>Controladoria-Geral do Estado de Goiás / Ouvid...</td>\n",
              "      <td>Comunicação</td>\n",
              "      <td>Saúde</td>\n",
              "      <td>Corona Vírus - Denúncia, solicitação ou inform...</td>\n",
              "      <td>[Empresa, com, mais, de, 30, funcionários, fun...</td>\n",
              "      <td>2</td>\n",
              "      <td>0.255154</td>\n",
              "    </tr>\n",
              "    <tr>\n",
              "      <th>1879</th>\n",
              "      <td>2020.0323.134040-51</td>\n",
              "      <td>2020-03-23 13:40:40</td>\n",
              "      <td>NaN</td>\n",
              "      <td>FORMOSA</td>\n",
              "      <td>NaN</td>\n",
              "      <td>Torneadora Pinheiro está funcionando de portas...</td>\n",
              "      <td>1</td>\n",
              "      <td>NaN</td>\n",
              "      <td>CGE</td>\n",
              "      <td>Controladoria-Geral do Estado de Goiás / Ouvid...</td>\n",
              "      <td>Comunicação</td>\n",
              "      <td>Saúde</td>\n",
              "      <td>Corona Vírus - Denúncia, solicitação ou inform...</td>\n",
              "      <td>[Torneadora, Pinheiro, está, funcionando, de, ...</td>\n",
              "      <td>3</td>\n",
              "      <td>0.215070</td>\n",
              "    </tr>\n",
              "    <tr>\n",
              "      <th>1881</th>\n",
              "      <td>2020.0323.134229-38</td>\n",
              "      <td>2020-03-23 13:42:29</td>\n",
              "      <td>NaN</td>\n",
              "      <td>APARECIDA DE GOIANIA</td>\n",
              "      <td>Negrão tintas(ferragens Negrão)</td>\n",
              "      <td>Empresa com mais de 30 funcionários funcionand...</td>\n",
              "      <td>1</td>\n",
              "      <td>NaN</td>\n",
              "      <td>CGE</td>\n",
              "      <td>Controladoria-Geral do Estado de Goiás / Ouvid...</td>\n",
              "      <td>Comunicação</td>\n",
              "      <td>Saúde</td>\n",
              "      <td>Corona Vírus - Denúncia, solicitação ou inform...</td>\n",
              "      <td>[Empresa, com, mais, de, 30, funcionários, fun...</td>\n",
              "      <td>2</td>\n",
              "      <td>0.319629</td>\n",
              "    </tr>\n",
              "    <tr>\n",
              "      <th>1962</th>\n",
              "      <td>2020.0323.143812-66</td>\n",
              "      <td>2020-03-23 14:38:12</td>\n",
              "      <td>NaN</td>\n",
              "      <td>APARECIDA DE GOIANIA</td>\n",
              "      <td>Empresa Grupo Petrópolis</td>\n",
              "      <td>Empresa que deveria está fechada está funciona...</td>\n",
              "      <td>1</td>\n",
              "      <td>NaN</td>\n",
              "      <td>CGE</td>\n",
              "      <td>Controladoria-Geral do Estado de Goiás / Ouvid...</td>\n",
              "      <td>Comunicação</td>\n",
              "      <td>Saúde</td>\n",
              "      <td>Corona Vírus - Denúncia, solicitação ou inform...</td>\n",
              "      <td>[Empresa, que, deveria, está, fechada, está, f...</td>\n",
              "      <td>2</td>\n",
              "      <td>0.262512</td>\n",
              "    </tr>\n",
              "    <tr>\n",
              "      <th>2116</th>\n",
              "      <td>2020.0323.170249-8</td>\n",
              "      <td>2020-03-23 17:02:49</td>\n",
              "      <td>NaN</td>\n",
              "      <td>BURITI DE GOIAS</td>\n",
              "      <td>Pc motos Peças, localizado na Av. Marginal</td>\n",
              "      <td>Oficina Funcionando com circulação de pessoas ...</td>\n",
              "      <td>1</td>\n",
              "      <td>NaN</td>\n",
              "      <td>CGE</td>\n",
              "      <td>Controladoria-Geral do Estado de Goiás / Ouvid...</td>\n",
              "      <td>Comunicação</td>\n",
              "      <td>Saúde</td>\n",
              "      <td>Corona Vírus - Denúncia, solicitação ou inform...</td>\n",
              "      <td>[Oficina, Funcionando, com, circulação, de, pe...</td>\n",
              "      <td>4</td>\n",
              "      <td>0.289924</td>\n",
              "    </tr>\n",
              "    <tr>\n",
              "      <th>2125</th>\n",
              "      <td>2020.0323.171729-93</td>\n",
              "      <td>2020-03-23 17:17:29</td>\n",
              "      <td>NaN</td>\n",
              "      <td>ITABERAI</td>\n",
              "      <td>NaN</td>\n",
              "      <td>Prefeitura de Itaberaí está funcionando  norma...</td>\n",
              "      <td>1</td>\n",
              "      <td>NaN</td>\n",
              "      <td>CGE</td>\n",
              "      <td>Controladoria-Geral do Estado de Goiás / Ouvid...</td>\n",
              "      <td>Comunicação</td>\n",
              "      <td>Saúde</td>\n",
              "      <td>Corona Vírus - Denúncia, solicitação ou inform...</td>\n",
              "      <td>[Prefeitura, de, Itaberaí, está, funcionando, ...</td>\n",
              "      <td>4</td>\n",
              "      <td>0.231306</td>\n",
              "    </tr>\n",
              "  </tbody>\n",
              "</table>\n",
              "</div>"
            ],
            "text/plain": [
              "                protocolo    data_manifestacao  ... cluster    coseno\n",
              "203   2020.0320.194657-79  2020-03-20 19:46:57  ...       7  0.298126\n",
              "300   2020.0320.230434-94  2020-03-20 23:04:34  ...       3  0.300338\n",
              "470   2020.0321.121644-83  2020-03-21 12:16:44  ...       2  0.204201\n",
              "484   2020.0321.121823-49  2020-03-21 12:18:23  ...       6  0.202958\n",
              "651   2020.0321.134757-98  2020-03-21 13:47:57  ...       3  0.213368\n",
              "669   2020.0321.141858-30  2020-03-21 14:18:58  ...       5  0.209767\n",
              "683   2020.0321.144758-27  2020-03-21 14:47:58  ...       2  0.300301\n",
              "693   2020.0321.152317-83  2020-03-21 15:23:17  ...       3  0.260704\n",
              "949   2020.0322.190517-84  2020-03-22 19:05:17  ...       3  0.277407\n",
              "996   2020.0322.214243-68  2020-03-22 21:42:43  ...       2  0.630653\n",
              "1134  2020.0323.085621-19  2020-03-23 08:56:21  ...       2  0.204795\n",
              "1140   2020.0323.085907-5  2020-03-23 08:59:07  ...       1  0.261504\n",
              "1149  2020.0323.090211-99  2020-03-23 09:02:11  ...       6  0.204441\n",
              "1167  2020.0323.090930-88  2020-03-23 09:09:30  ...       4  0.217179\n",
              "1284  2020.0323.095546-74  2020-03-23 09:55:46  ...       2  0.232182\n",
              "1305  2020.0323.100024-94  2020-03-23 10:00:24  ...       2  0.422764\n",
              "1522  2020.0323.110108-64  2020-03-23 11:01:08  ...       0  0.221149\n",
              "1558  2020.0323.111351-74  2020-03-23 11:13:51  ...       6  0.263824\n",
              "1567  2020.0323.111836-94  2020-03-23 11:18:36  ...       6  0.263824\n",
              "1629  2020.0323.114046-11  2020-03-23 11:40:46  ...       3  0.247346\n",
              "1765  2020.0323.123559-37  2020-03-23 12:35:59  ...       4  0.202284\n",
              "1816  2020.0323.130117-66  2020-03-23 13:01:17  ...       4  0.312938\n",
              "1871  2020.0323.133456-45  2020-03-23 13:34:56  ...       2  0.255154\n",
              "1879  2020.0323.134040-51  2020-03-23 13:40:40  ...       3  0.215070\n",
              "1881  2020.0323.134229-38  2020-03-23 13:42:29  ...       2  0.319629\n",
              "1962  2020.0323.143812-66  2020-03-23 14:38:12  ...       2  0.262512\n",
              "2116   2020.0323.170249-8  2020-03-23 17:02:49  ...       4  0.289924\n",
              "2125  2020.0323.171729-93  2020-03-23 17:17:29  ...       4  0.231306\n",
              "\n",
              "[28 rows x 16 columns]"
            ]
          },
          "metadata": {
            "tags": []
          },
          "execution_count": 57
        }
      ]
    },
    {
      "cell_type": "code",
      "metadata": {
        "id": "dX69hk9e4LqU",
        "colab_type": "code",
        "colab": {}
      },
      "source": [
        ""
      ],
      "execution_count": 0,
      "outputs": []
    }
  ]
}