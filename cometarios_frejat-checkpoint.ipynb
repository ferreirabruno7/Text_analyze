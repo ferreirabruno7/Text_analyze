{
 "cells": [
  {
   "cell_type": "code",
   "execution_count": 2,
   "metadata": {},
   "outputs": [],
   "source": [
    "import nltk\n",
    "import pandas as pd\n",
    "import numpy as np\n",
    "from nltk.stem import WordNetLemmatizer\n",
    "import re\n",
    "import operator\n",
    "from nltk.tokenize import sent_tokenize\n",
    "from nltk.tokenize import word_tokenize\n",
    "from nltk.corpus import words\n",
    "from nltk.corpus import webtext\n",
    "from nltk.collocations import BigramCollocationFinder\n",
    "from nltk.metrics import BigramAssocMeasures\n",
    "# If you would like to work with the raw text you can use 'moby_raw'\n",
    "with open('C:/Users/NB/Desktop/candidatos/comentarios_frejat.csv',  ) as f:\n",
    "    moby_raw = f.read()\n",
    "    \n",
    "# If you would like to work with the novel in nltk.Text format you can use 'text1'\n",
    "moby_tokens = nltk.word_tokenize(moby_raw)\n",
    "text1 = nltk.Text(moby_tokens)"
   ]
  },
  {
   "cell_type": "code",
   "execution_count": 3,
   "metadata": {},
   "outputs": [],
   "source": [
    "from nltk.corpus import stopwords"
   ]
  },
  {
   "cell_type": "code",
   "execution_count": 4,
   "metadata": {},
   "outputs": [],
   "source": [
    "retira = set(stopwords.words('portuguese'))"
   ]
  },
  {
   "cell_type": "code",
   "execution_count": 5,
   "metadata": {},
   "outputs": [],
   "source": [
    "filtra = lambda w: len(w) <3 or w in retira"
   ]
  },
  {
   "cell_type": "code",
   "execution_count": 6,
   "metadata": {},
   "outputs": [
    {
     "data": {
      "text/plain": [
       "[('?', '?'),\n",
       " ('!', '!'),\n",
       " ('Jofran', 'Frejat'),\n",
       " ('do', 'DF'),\n",
       " ('meu', 'voto'),\n",
       " ('o', 'senhor'),\n",
       " (',', 'mas'),\n",
       " ('Grande', 'abraço'),\n",
       " ('de', 'saúde'),\n",
       " ('o', 'povo'),\n",
       " ('Dr', 'Frejat'),\n",
       " ('.', 'O'),\n",
       " ('Estamos', 'juntos'),\n",
       " ('a', 'saúde'),\n",
       " ('.', 'Mas'),\n",
       " ('todos', 'os'),\n",
       " ('Distrito', 'Federal'),\n",
       " ('Frejat', '2018'),\n",
       " ('saúde', 'pública'),\n",
       " ('.', 'É'),\n",
       " ('não', 'tem'),\n",
       " ('futuro', 'governador'),\n",
       " ('.', 'Não'),\n",
       " ('minha', 'família'),\n",
       " ('JOFRAN', 'FREJAT'),\n",
       " ('.', 'A'),\n",
       " ('Meu', 'voto'),\n",
       " ('secretário', 'de'),\n",
       " ('a', 'população'),\n",
       " ('É', 'preciso')]"
      ]
     },
     "execution_count": 6,
     "metadata": {},
     "output_type": "execute_result"
    }
   ],
   "source": [
    "procurar = BigramCollocationFinder.from_words(moby_tokens)\n",
    "procurar.nbest(BigramAssocMeasures.likelihood_ratio, 30)"
   ]
  },
  {
   "cell_type": "code",
   "execution_count": 7,
   "metadata": {},
   "outputs": [],
   "source": [
    "procurar.apply_word_filter(filtra)"
   ]
  },
  {
   "cell_type": "code",
   "execution_count": 8,
   "metadata": {},
   "outputs": [
    {
     "data": {
      "text/plain": [
       "[('Jofran', 'Frejat'),\n",
       " ('Grande', 'abraço'),\n",
       " ('Estamos', 'juntos'),\n",
       " ('Distrito', 'Federal'),\n",
       " ('Frejat', '2018'),\n",
       " ('saúde', 'pública'),\n",
       " ('futuro', 'governador'),\n",
       " ('JOFRAN', 'FREJAT'),\n",
       " ('Meu', 'voto'),\n",
       " ('Bom', 'dia'),\n",
       " ('Boa', 'noite'),\n",
       " ('alguma', 'coisa'),\n",
       " ('opinar', 'sempre'),\n",
       " ('Com', 'certeza'),\n",
       " ('achar', 'necessário'),\n",
       " ('...', '...'),\n",
       " ('fez', 'nada'),\n",
       " ('Dr.', 'Jofran'),\n",
       " ('transporte', 'público'),\n",
       " ('Boa', 'tarde'),\n",
       " ('Dr.', 'Frejat'),\n",
       " ('Deus', 'quiser'),\n",
       " ('jofran', 'Frejat'),\n",
       " ('prazer', 'ouvi-la'),\n",
       " ('Feliz', 'Páscoa'),\n",
       " ('Tamo', 'junto'),\n",
       " ('deu', 'certo'),\n",
       " ('rede', 'pública'),\n",
       " ('Brasília', 'precisa'),\n",
       " ('primeiro', 'turno')]"
      ]
     },
     "execution_count": 8,
     "metadata": {},
     "output_type": "execute_result"
    }
   ],
   "source": [
    "procurar.nbest(BigramAssocMeasures.likelihood_ratio, 30)"
   ]
  },
  {
   "cell_type": "code",
   "execution_count": 9,
   "metadata": {},
   "outputs": [],
   "source": [
    "procurar.apply_freq_filter(3)"
   ]
  },
  {
   "cell_type": "code",
   "execution_count": 10,
   "metadata": {},
   "outputs": [
    {
     "data": {
      "text/plain": [
       "[('Jofran', 'Frejat'),\n",
       " ('Grande', 'abraço'),\n",
       " ('Estamos', 'juntos'),\n",
       " ('Distrito', 'Federal'),\n",
       " ('Frejat', '2018'),\n",
       " ('saúde', 'pública'),\n",
       " ('futuro', 'governador'),\n",
       " ('JOFRAN', 'FREJAT'),\n",
       " ('Meu', 'voto'),\n",
       " ('Bom', 'dia'),\n",
       " ('Boa', 'noite'),\n",
       " ('alguma', 'coisa'),\n",
       " ('opinar', 'sempre'),\n",
       " ('Com', 'certeza'),\n",
       " ('achar', 'necessário'),\n",
       " ('...', '...'),\n",
       " ('fez', 'nada'),\n",
       " ('Dr.', 'Jofran'),\n",
       " ('transporte', 'público'),\n",
       " ('Boa', 'tarde'),\n",
       " ('Dr.', 'Frejat'),\n",
       " ('Deus', 'quiser'),\n",
       " ('jofran', 'Frejat'),\n",
       " ('prazer', 'ouvi-la'),\n",
       " ('Feliz', 'Páscoa'),\n",
       " ('Tamo', 'junto'),\n",
       " ('deu', 'certo'),\n",
       " ('rede', 'pública'),\n",
       " ('Brasília', 'precisa'),\n",
       " ('primeiro', 'turno')]"
      ]
     },
     "execution_count": 10,
     "metadata": {},
     "output_type": "execute_result"
    }
   ],
   "source": [
    "procurar.nbest(BigramAssocMeasures.likelihood_ratio, 30)"
   ]
  },
  {
   "cell_type": "code",
   "execution_count": 11,
   "metadata": {},
   "outputs": [],
   "source": [
    "from nltk.collocations import TrigramCollocationFinder\n",
    "from nltk.metrics import TrigramAssocMeasures"
   ]
  },
  {
   "cell_type": "code",
   "execution_count": 12,
   "metadata": {},
   "outputs": [],
   "source": [
    "procurar2 = TrigramCollocationFinder.from_words(moby_tokens)"
   ]
  },
  {
   "cell_type": "code",
   "execution_count": 13,
   "metadata": {},
   "outputs": [
    {
     "data": {
      "text/plain": [
       "[('?', '?', '?'),\n",
       " ('!', '!', '!'),\n",
       " ('?', '?', '.'),\n",
       " (',', '?', '?'),\n",
       " ('?', '?', 'e'),\n",
       " ('.', '?', '?'),\n",
       " ('que', '?', '?'),\n",
       " ('?', '?', 'a'),\n",
       " ('?', '?', 'não'),\n",
       " ('?', '?', 'A'),\n",
       " ('é', '?', '?'),\n",
       " ('?', '?', 'Olá'),\n",
       " ('?', '?', 'Ô'),\n",
       " ('?', '?', 'Eu'),\n",
       " ('?', '?', 'Uai'),\n",
       " ('?', '?', 'Obrigado'),\n",
       " ('?', '?', 'Tem'),\n",
       " ('?', '?', 'Não'),\n",
       " ('?', '?', 'Só'),\n",
       " ('?', '?', 'Meu'),\n",
       " ('contato', '?', '?'),\n",
       " ('?', '?', 'Porquê'),\n",
       " ('?', '?', 'É'),\n",
       " ('!', '?', '?'),\n",
       " ('?', '?', 'Ajude'),\n",
       " ('?', '?', 'As'),\n",
       " ('governador', '?', '?'),\n",
       " ('?', '?', 'DF'),\n",
       " ('?', '?', 'Futuro'),\n",
       " ('?', '?', 'Vamos')]"
      ]
     },
     "execution_count": 13,
     "metadata": {},
     "output_type": "execute_result"
    }
   ],
   "source": [
    "procurar2.nbest(TrigramAssocMeasures.likelihood_ratio, 30)"
   ]
  },
  {
   "cell_type": "code",
   "execution_count": 14,
   "metadata": {},
   "outputs": [],
   "source": [
    "filtra2 = lambda w: len(w) <3 or w in retira"
   ]
  },
  {
   "cell_type": "code",
   "execution_count": 15,
   "metadata": {},
   "outputs": [],
   "source": [
    "procurar2.apply_word_filter(filtra2)"
   ]
  },
  {
   "cell_type": "code",
   "execution_count": 16,
   "metadata": {},
   "outputs": [
    {
     "data": {
      "text/plain": [
       "[('Dr.', 'Jofran', 'Frejat'),\n",
       " ('Jofran', 'Frejat', 'governador'),\n",
       " ('Jofran', 'Frejat', 'Governador'),\n",
       " ('juntos', 'Jofran', 'Frejat'),\n",
       " ('doutor', 'Jofran', 'Frejat'),\n",
       " ('Vamos', 'Jofran', 'Frejat'),\n",
       " ('Frejat', 'Jofran', 'Frejat'),\n",
       " ('PCDF', 'Jofran', 'Frejat'),\n",
       " ('Jofran', 'Frejat', 'Experiente'),\n",
       " ('Jofran', 'Frejat', 'Passagens'),\n",
       " ('Jofran', 'Frejat', 'construido'),\n",
       " ('Jofran', 'Frejat', 'lamento'),\n",
       " ('Jofran', 'Frejat', 'vitórias'),\n",
       " ('queríamos', 'Jofran', 'Frejat'),\n",
       " ('Jofran', 'Frejat', 'desde'),\n",
       " ('cima', 'Jofran', 'Frejat'),\n",
       " ('Avante', 'Jofran', 'Frejat'),\n",
       " ('Jofran', 'Frejat', 'contamos'),\n",
       " ('governador', 'Jofran', 'Frejat'),\n",
       " ('Verdade', 'Jofran', 'Frejat'),\n",
       " ('201I8', 'Jofran', 'Frejat'),\n",
       " ('Jofran', 'Frejat', 'tomara'),\n",
       " ('VOLTA', 'Jofran', 'Frejat'),\n",
       " ('lago', 'Jofran', 'Frejat'),\n",
       " ('vídeo', 'Jofran', 'Frejat'),\n",
       " ('Jofran', 'Frejat', 'acredito'),\n",
       " ('Volte', 'Jofran', 'Frejat'),\n",
       " ('dr.', 'Jofran', 'Frejat'),\n",
       " ('Jofran', 'Frejat', 'Conto'),\n",
       " ('Brasília', 'Jofran', 'Frejat')]"
      ]
     },
     "execution_count": 16,
     "metadata": {},
     "output_type": "execute_result"
    }
   ],
   "source": [
    "procurar2.nbest(TrigramAssocMeasures.likelihood_ratio, 30)"
   ]
  },
  {
   "cell_type": "code",
   "execution_count": 17,
   "metadata": {},
   "outputs": [],
   "source": [
    "procurar2.apply_freq_filter(3)"
   ]
  },
  {
   "cell_type": "code",
   "execution_count": 18,
   "metadata": {},
   "outputs": [
    {
     "data": {
      "text/plain": [
       "[('Dr.', 'Jofran', 'Frejat'),\n",
       " ('juntos', 'Jofran', 'Frejat'),\n",
       " ('Frejat', 'Jofran', 'Frejat'),\n",
       " ('governador', 'Jofran', 'Frejat'),\n",
       " ('Estamos', 'juntos', 'nessa'),\n",
       " ('Nosso', 'futuro', 'governador'),\n",
       " ('Estamos', 'juntos', 'Frejat'),\n",
       " ('Estamos', 'juntos', 'Jofran'),\n",
       " ('Meu', 'futuro', 'governador'),\n",
       " ('Frejat', '2018', 'Frejat'),\n",
       " ('...', '...', '...'),\n",
       " ('futuro', 'governador', 'Jofran'),\n",
       " ('JOFRAN', 'FREJAT', 'GOVERNADOR'),\n",
       " ('JOFRAN', 'FREJAT', 'PARA'),\n",
       " ('governador', 'Meu', 'voto'),\n",
       " ('nunca', 'fez', 'nada'),\n",
       " ('fazer', 'alguma', 'coisa'),\n",
       " ('...', '...', '.Maurício'),\n",
       " ('pode', 'contar', 'comigo'),\n",
       " ('...', '...', 'Maurício'),\n",
       " ('...', '.Maurício', 'geração'),\n",
       " ('blá', 'blá', 'blá'),\n",
       " ('Pode', 'contar', 'comigo'),\n",
       " ('Com', 'certeza', 'Frejat'),\n",
       " ('...', '..Maurício', 'geração'),\n",
       " ('DOS', 'ELEITORES', 'MALDITOS'),\n",
       " ('VOTOS', 'DOS', 'ELEITORES'),\n",
       " ('Brasília', 'precisa', 'urgentemente'),\n",
       " ('...', 'Maurício', 'geração'),\n",
       " ('CAÇA', 'AOS', 'VOTOS')]"
      ]
     },
     "execution_count": 18,
     "metadata": {},
     "output_type": "execute_result"
    }
   ],
   "source": [
    "procurar2.nbest(TrigramAssocMeasures.likelihood_ratio, 30)"
   ]
  },
  {
   "cell_type": "code",
   "execution_count": 19,
   "metadata": {},
   "outputs": [
    {
     "data": {
      "text/plain": [
       "9792"
      ]
     },
     "execution_count": 19,
     "metadata": {},
     "output_type": "execute_result"
    }
   ],
   "source": [
    "def example_two():\n",
    "    \n",
    "    return len(set(nltk.word_tokenize(moby_raw))) # or alternatively len(set(text1))\n",
    "\n",
    "example_two()"
   ]
  },
  {
   "cell_type": "code",
   "execution_count": 20,
   "metadata": {},
   "outputs": [
    {
     "data": {
      "text/plain": [
       "9787"
      ]
     },
     "execution_count": 20,
     "metadata": {},
     "output_type": "execute_result"
    }
   ],
   "source": [
    "from nltk.stem import WordNetLemmatizer\n",
    "\n",
    "def example_three():\n",
    "\n",
    "    lemmatizer = WordNetLemmatizer()\n",
    "    lemmatized = [lemmatizer.lemmatize(w,'v') for w in text1]\n",
    "\n",
    "    return len(set(lemmatized))\n",
    "\n",
    "example_three()"
   ]
  },
  {
   "cell_type": "code",
   "execution_count": 22,
   "metadata": {},
   "outputs": [
    {
     "data": {
      "text/plain": [
       "['Brasília',\n",
       " 'FREJAT',\n",
       " 'Frejat',\n",
       " 'Jofran',\n",
       " 'agora',\n",
       " 'cidade',\n",
       " 'experiência',\n",
       " 'falta',\n",
       " 'fazer',\n",
       " 'governador',\n",
       " 'governo',\n",
       " 'juntos',\n",
       " 'melhor',\n",
       " 'mesmo',\n",
       " 'minha',\n",
       " 'muito',\n",
       " 'nossa',\n",
       " 'nosso',\n",
       " 'pessoas',\n",
       " 'população',\n",
       " 'porque',\n",
       " 'precisa',\n",
       " 'preciso',\n",
       " 'pública',\n",
       " 'quando',\n",
       " 'saúde',\n",
       " 'sempre',\n",
       " 'senhor',\n",
       " 'todos',\n",
       " 'trabalhar',\n",
       " 'trabalho',\n",
       " 'vamos']"
      ]
     },
     "execution_count": 22,
     "metadata": {},
     "output_type": "execute_result"
    }
   ],
   "source": [
    "def answer_four():\n",
    "    dist = nltk.FreqDist(text1)\n",
    "    vocab1 = dist.keys()\n",
    "    freqwords = [w for w in vocab1 if len(w) > 4 and dist[w] > 100]\n",
    "    return sorted(freqwords)\n",
    "\n",
    "answer_four()"
   ]
  },
  {
   "cell_type": "code",
   "execution_count": null,
   "metadata": {},
   "outputs": [],
   "source": []
  },
  {
   "cell_type": "code",
   "execution_count": null,
   "metadata": {},
   "outputs": [],
   "source": []
  }
 ],
 "metadata": {
  "kernelspec": {
   "display_name": "Python 3",
   "language": "python",
   "name": "python3"
  },
  "language_info": {
   "codemirror_mode": {
    "name": "ipython",
    "version": 3
   },
   "file_extension": ".py",
   "mimetype": "text/x-python",
   "name": "python",
   "nbconvert_exporter": "python",
   "pygments_lexer": "ipython3",
   "version": "3.7.3"
  }
 },
 "nbformat": 4,
 "nbformat_minor": 2
}
